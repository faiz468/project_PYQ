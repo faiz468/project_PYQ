{
  "nbformat": 4,
  "nbformat_minor": 0,
  "metadata": {
    "colab": {
      "provenance": [],
      "mount_file_id": "1YxCdxgTP00LtQBWmozNt94EjPOupWZ9f",
      "authorship_tag": "ABX9TyMmiBSgOYrmI8ninknAqgg7",
      "include_colab_link": true
    },
    "kernelspec": {
      "name": "python3",
      "display_name": "Python 3"
    },
    "language_info": {
      "name": "python"
    }
  },
  "cells": [
    {
      "cell_type": "markdown",
      "metadata": {
        "id": "view-in-github",
        "colab_type": "text"
      },
      "source": [
        "<a href=\"https://colab.research.google.com/github/faiz468/project_PYQ/blob/main/py_script_automated_question_extraction.ipynb\" target=\"_parent\"><img src=\"https://colab.research.google.com/assets/colab-badge.svg\" alt=\"Open In Colab\"/></a>"
      ]
    },
    {
      "cell_type": "code",
      "execution_count": 2,
      "metadata": {
        "colab": {
          "base_uri": "https://localhost:8080/"
        },
        "id": "nxSDDH2izzlC",
        "outputId": "bf321fc8-baed-47f6-88f2-3b16e9bfad37"
      },
      "outputs": [
        {
          "output_type": "stream",
          "name": "stdout",
          "text": [
            "Collecting pdfplumber\n",
            "  Downloading pdfplumber-0.11.2-py3-none-any.whl.metadata (40 kB)\n",
            "\u001b[?25l     \u001b[90m━━━━━━━━━━━━━━━━━━━━━━━━━━━━━━━━━━━━━━━━\u001b[0m \u001b[32m0.0/40.1 kB\u001b[0m \u001b[31m?\u001b[0m eta \u001b[36m-:--:--\u001b[0m\r\u001b[2K     \u001b[91m━━━━━━━━━━━━━━━━━━━━━━━━━━━━━━\u001b[0m\u001b[91m╸\u001b[0m\u001b[90m━━━━━━━━━\u001b[0m \u001b[32m30.7/40.1 kB\u001b[0m \u001b[31m643.7 kB/s\u001b[0m eta \u001b[36m0:00:01\u001b[0m\r\u001b[2K     \u001b[90m━━━━━━━━━━━━━━━━━━━━━━━━━━━━━━━━━━━━━━━━\u001b[0m \u001b[32m40.1/40.1 kB\u001b[0m \u001b[31m619.7 kB/s\u001b[0m eta \u001b[36m0:00:00\u001b[0m\n",
            "\u001b[?25hCollecting pdfminer.six==20231228 (from pdfplumber)\n",
            "  Downloading pdfminer.six-20231228-py3-none-any.whl.metadata (4.2 kB)\n",
            "Requirement already satisfied: Pillow>=9.1 in /usr/local/lib/python3.10/dist-packages (from pdfplumber) (9.4.0)\n",
            "Collecting pypdfium2>=4.18.0 (from pdfplumber)\n",
            "  Downloading pypdfium2-4.30.0-py3-none-manylinux_2_17_x86_64.manylinux2014_x86_64.whl.metadata (48 kB)\n",
            "\u001b[2K     \u001b[90m━━━━━━━━━━━━━━━━━━━━━━━━━━━━━━━━━━━━━━━━\u001b[0m \u001b[32m48.5/48.5 kB\u001b[0m \u001b[31m1.8 MB/s\u001b[0m eta \u001b[36m0:00:00\u001b[0m\n",
            "\u001b[?25hRequirement already satisfied: charset-normalizer>=2.0.0 in /usr/local/lib/python3.10/dist-packages (from pdfminer.six==20231228->pdfplumber) (3.3.2)\n",
            "Requirement already satisfied: cryptography>=36.0.0 in /usr/local/lib/python3.10/dist-packages (from pdfminer.six==20231228->pdfplumber) (42.0.8)\n",
            "Requirement already satisfied: cffi>=1.12 in /usr/local/lib/python3.10/dist-packages (from cryptography>=36.0.0->pdfminer.six==20231228->pdfplumber) (1.16.0)\n",
            "Requirement already satisfied: pycparser in /usr/local/lib/python3.10/dist-packages (from cffi>=1.12->cryptography>=36.0.0->pdfminer.six==20231228->pdfplumber) (2.22)\n",
            "Downloading pdfplumber-0.11.2-py3-none-any.whl (58 kB)\n",
            "\u001b[2K   \u001b[90m━━━━━━━━━━━━━━━━━━━━━━━━━━━━━━━━━━━━━━━━\u001b[0m \u001b[32m58.0/58.0 kB\u001b[0m \u001b[31m2.6 MB/s\u001b[0m eta \u001b[36m0:00:00\u001b[0m\n",
            "\u001b[?25hDownloading pdfminer.six-20231228-py3-none-any.whl (5.6 MB)\n",
            "\u001b[2K   \u001b[90m━━━━━━━━━━━━━━━━━━━━━━━━━━━━━━━━━━━━━━━━\u001b[0m \u001b[32m5.6/5.6 MB\u001b[0m \u001b[31m23.5 MB/s\u001b[0m eta \u001b[36m0:00:00\u001b[0m\n",
            "\u001b[?25hDownloading pypdfium2-4.30.0-py3-none-manylinux_2_17_x86_64.manylinux2014_x86_64.whl (2.8 MB)\n",
            "\u001b[2K   \u001b[90m━━━━━━━━━━━━━━━━━━━━━━━━━━━━━━━━━━━━━━━━\u001b[0m \u001b[32m2.8/2.8 MB\u001b[0m \u001b[31m66.1 MB/s\u001b[0m eta \u001b[36m0:00:00\u001b[0m\n",
            "\u001b[?25hInstalling collected packages: pypdfium2, pdfminer.six, pdfplumber\n",
            "Successfully installed pdfminer.six-20231228 pdfplumber-0.11.2 pypdfium2-4.30.0\n"
          ]
        }
      ],
      "source": [
        "!pip install pdfplumber"
      ]
    },
    {
      "cell_type": "code",
      "source": [
        "import pdfplumber\n",
        "import pandas as pd\n",
        "import re\n",
        "\n",
        "def extract_text_from_pdf(pdf_path):\n",
        "    with pdfplumber.open(pdf_path) as pdf:\n",
        "        text = ''\n",
        "        for page in pdf.pages:\n",
        "            text += page.extract_text() + '\\n'\n",
        "    return text"
      ],
      "metadata": {
        "id": "BMIIztLh0vLR"
      },
      "execution_count": 3,
      "outputs": []
    },
    {
      "cell_type": "code",
      "source": [
        "pdf_path = '/content/drive/MyDrive/Colab Notebooks/ProjectPYQ/Chemistry_PYQ/Pages from chemistry_pyq-8.pdf'\n",
        "text = extract_text_from_pdf(pdf_path)"
      ],
      "metadata": {
        "id": "ynabWcyG0rDA"
      },
      "execution_count": 4,
      "outputs": []
    },
    {
      "cell_type": "code",
      "source": [
        "text"
      ],
      "metadata": {
        "colab": {
          "base_uri": "https://localhost:8080/",
          "height": 122
        },
        "id": "o02JzjFc3H23",
        "outputId": "7db30d16-3e9e-48e2-9171-eb65e9662525"
      },
      "execution_count": 5,
      "outputs": [
        {
          "output_type": "execute_result",
          "data": {
            "text/plain": [
              "'08\\nIonic Equilibrium\\nAns. (c) Ans. (2)\\nTOPIC 1\\nThe overall dissociation constant of the Given,[HA]=0.01\\nOstwald’s Dilution Law acid is [HCl]=0.1M\\n01 ThepHofa0.1molarsolutionof K = =K 1.1 0× ×K 102 −5×5.0×10−10=5×10−15 W dish se on c s iatr to en dg , acid (HCl) is completely\\ntheacidHQis3.Thevalueofthe HCl\\uf8e7→H+(aq)+Cl−(aq)\\nionisationconstant,K oftheacid 0.1 0.1 0.1\\na TOPIC 2 ¾\\nis [AIEEE2012] For weak acid, dissociation is very less,\\n(a) 3×10−1 (b) 1×10−3 Acid Base Concepts HA H+(aq)+A−(aq)\\n(c)\\n1×10−5\\n(d)\\n1×10−7\\nt=0 0.01 0.1 0\\nAns. (c) 03 AssumingthatBa(OH) is t=t 0.01−0.01α 0.1+0.01α 0.01α\\n2 eq\\n[HH +Q ]==H+ K a+ CQ b− yOstwald’s c soo lm utp iole nte ul ny dio en ri ts he ed gin iveaq nu c +e oo nu ds itions K a =[H [+ H] A[A ]−] =2×10−6\\ndilution law theconcentrationofH O ionsin\\n3\\n[H+]=10−pH=10−3M 0.005Maqueoussolutionof ⇒ (0.1+0.01α)(0.01α) =2×10−6\\nC=0.1 M Ba(OH) at298Kis…… (0.01−0.01α)\\n2\\nThus, 10−3= K ×0.1 ×10−12molL−1.(Nearestinteger) As0.01α<<0.1[H+]=0.1\\na\\n10−6=K ×0.1 ⇒K =10−5 [2021, 25 July Shift-II] and0.01α<<0.01[HA]=0.01\\na a\\nAlternate method\\nAns. (1)\\n∴\\n2×10−6=(0.1)(0.01α)\\nHQ 1 H+ + Q− Ba(OH) 2is completelyionisedin aqueous 0.01\\nsolution. ⇒ α=2×10−5\\n0.1M 0 0 Ba(OH) \\uf8e7→ Ba2+ +2OH−\\nInitial concentration\\n2\\n[Ba(OH) ]=0.005M\\n⇒ x=2\\nGiven,pH=3, this suggests[H+]=10−3M ⇒ 2×0.005 ⇒0.2 01 05 Thedecreasingorderofelectrical\\nat equilibrium. [OH−]=10−2\\nThus,[Q−]at equilibrium=10−3M conductivityofthefollowing\\nAt 298 K, in aqueous solution;\\nHence, [HQ]=0.1M-10-3M [HO+][OH−] =10−14 aqueoussolutionis\\nK a f Kor\\na\\nt =he\\n[\\nHa +b [H]o≈ Q[v Qe ]0 −. r1 ]eM a =c [t 1i[ 0oQ n\\n−\\n[1\\n3\\n00 i ]s .−\\n[\\n1g 13 ]0iM v −e< 3]n< b< y0.1M] 3 [[ HH 33 OO ++ ]] == 11 10 ×0− − 11 2 04 −= 121 M0−12 00 0.. .11\\n1\\nMM\\nM\\naf bo c er e nm t zi oi cc\\ni c\\naa cc ai ci d [d\\n2i d\\n( 0( BA\\n(\\n1) C) , 9,\\n) ,.\\n12 April Shift-II]\\n⇒ K =1×10−5 04 0.01molesofaweakacid (a)A>C>B (b)C>B>A\\na\\nHA(K =2.0×10–6)isdissolvedin (c)A>B>C (d)C>A>B\\na\\n02 Thefirstandseconddissociation 1.0Lof 0.1MHClsolution.The Ans. (a)\\nconstantsofanacidH Aare degreeofdissociationofHA Electrical conductivity of the given\\n1.0×10−5 and5.0×10−2 10, s……×10−5 (Roundofftothe aqueous solutions depends on the\\nrespectively.Theoverall nearestinteger). degree of ionisation. Degree of\\nionisation is directly proportional to the\\ndissociationconstantoftheacid [Neglect volume change on\\nacidic strength. Electron withdrawing\\nwillbe [AIEEE2007] adding HA.Assume degree of groups (EWGs) increases the stability of\\n(a) 5.0×10−5 (b) 5.0×1015 dissociation << 1] the carboxylate ion by dispersing the\\n(c) 5.0×10−15 (d) 0.2×105 [2021, 17 March Shift-I] negative charge through resonance\\n97\\nIonic Equilibrium\\neffect on theconjugatewhileelectron SiCl - Although this compound does not conjugate bases of the given acid is\\n4\\ndonatinggroups(EDGs)decreases the have incomplete octet but it shows the opposite to their acidic strength.The\\nstability of the carboxylate ion by tendency to accept lone pair of basic strength of the conjugate bases of\\nintensifying the negative charge. electrons in its vacantd-orbital. This the given acids follows the order\\nO\\ntendency ofSiCl 4is visible in following HSO− 3<H 2O<SO2 4−<CO2 3−\\nEWG C s reaction. Hence, the acidic strength follows the\\nO Cl Cl order\\nAcidityofcarboxylic H HSO F>HO+>HSO−>HCO−\\nacidsincreasesdue Si +H 2O Si O H 3 3 4 3\\nwto ithth de rap wr ie ns gen gc roe uo pf se (l Eec Wtr Go sn ) Cl Cl Cl Cl Cl Cl 09 WhatistheconjugatebaseofOH− ?\\nLonepairacceptance [AIEEE2005]\\nsO\\nind-orbital (a)\\nO2−\\n(b)\\nO−\\nEDG C Cl (c) HO (d) O\\nO 2 2\\nAcidityofcarboxylic Si OH+HCl Ans. (a)\\nacidsdecreasesdue Cl Conjugate base is formed by loss ofH+.\\nelect to roth ne dp or ne as te inn gce gro of\\nups\\nCl OH−\\uf8e7→ O2− +H+\\nThus option (b) and (d) both appear as Conjugate\\nThe correct order of acidic strength and base\\ncorrect but most suitable answer is (d) as\\nelectrical conductivity is as follows: the condition of a proper Lewis acid is O2−is the conjugate base ofOH−.\\nHCO AOH>PhC COOH>CH 3C BOOH more well defined inBCl 3andAlCl 3.\\n10 TheconjugatebaseofH PO– is\\n2 4\\n06 WhichofthefollowingareLewis 07 ThreereactionsinvolvingH 2PO– 4 [AIEEE2004]\\nacids? [JEEMain2018] aregivenbelow [AIEEE2010] (( ca)\\n)\\nP HO P43 O− (( db )) HP 2 PO O5 2−\\n(a)PH 3andBCl 3 (b)AlCl 3andSiCl 4 I.H PO +H O \\uf8e7→ H O+ 3 4 4\\n(c)PH 3andSiCl 4 (d)BCl 3andAlCl 3 3 4 2 3 +H PO– Ans. (d)\\nAns. (d) 2 4 H PO isatribasicacid,thusionisesin\\nLewis acids are defined as, II.H 2PO– 4 +H 2O\\uf8e7→ HPO 42– th3 ree4 stepsr\\n‘‘Electron deficient compounds which +H 3O+ I :H 3PO 4 rH+ +H 2PO 4−\\nh pa av ire .’ ’the ability to acceptatleastone lone II nII . wH h2 icP hO – o4 f+ tO heH – ab\\uf8e7 ov→\\ne\\ndH o3 eP sO H4 P+ OO –2– II II I : :H H2 PP OO 2 44− − rH H+ ++ +H PP OO 432 −4−\\nThe compound given are 2 4\\nConjugate base is formed when an acid\\nact as an acid?\\nPH 3Octet complete although P has\\n(a) II only (b) I and II\\nloses its proton. Thus,HPO2 4−is the\\nvacant3d-orbital but does not have the conjugate base ofHPO−(which is anacid\\ntendency to accept lone pair in it. Hence, (c) III only (d) I only 2 4\\ninstepII,butistheconjugatebaseof\\nit cannot be considered as Lewis acid. Ans. (a)\\nHPO instepI).\\nBCl 3Incompleteoctetwithfollowing Only in reaction (II),H 2PO– 4, givesH+to 3 4\\norbitalpicture. HO. Thus, behaves as an acid. 11 Whichoneofthefollowing\\n2\\nB-\\n1s 2s 2p V pa -c oa rbn it tal 08 Fo Iu .r Hs Cp Oec –iesarelisted II.b Hel Oow\\n+\\ns au ffb ins it ta yn ?ceshasthehigh [e As IEt Ep Ero 20to 0n\\n3]\\n3 3 (a) HO (b) H S\\nUsedinbond III.HSO– 4 IV.HSO 3F (c) N2 H 3 (d) P2 H 3\\nformationwith Which one of the following is the Ans. (c)\\nClhavingoneelectron\\neachfromBandCl correct sequence of their acid The tendency to accept the proton by\\nstrength? [AIEEE2008] the donation of their lone pairs of\\nHence, vacantp-orbital of B can accept\\n(a) IV < II < III < I (b) II < III < I < IV electron is called proton affinity. This\\none lone pair thus it can be considered\\nproton affinity is also called basicity.\\nas Lewis acid. (c) I < III < II < IV (d) III < I < IV < II\\nTherefore, the molecule which donates\\nAlCl -Similar condition is visible inAlCl Ans. (c) their lone pairs electron more readily, is\\n3 3\\nas welli.e. Al Conjugate bases of the given species are said to be more basic. Since, N can easily\\n( Valence orbital only)= donate their lone pairs of electrons than\\nSpecies Conjugate base\\nVacantp-orbital HCO− CO2− O, S and P due to their smaller size and\\n3s 3p 3dvacant 3 3 low electronegativity.\\nH 3O+ H 2O Thus,NH 3possess the highest proton\\nHSO− SO2− affinity. On the other hand, due to higher\\n4 4\\nUsedinbond − electronegativity of O, it cannot donate\\nHSO F HSO\\nformationwithCl 3 3 their electron pair easily whilePpossess\\nSince, strong acid has a weak conjugate a larger size, becomes less basic in\\nHence this compound can also be\\nbase. Thus, the basic strength of the nature.\\nconsidered as Lewis acid.\\n98\\nJEE Main Chapterwise Topicwise Chemistry\\n12 Whichoneofthefollowingspecies K =(3S)3(2S)2=108S5 Ans. (64)\\nsp\\nactsasbothBronstedacidand x Given, solubility in water\\nbase? [AIEEE2002] Also, S= m (S)=8.0×10−4molL−1\\n(a) HPO– (b) HPO2– In pure water,\\n(c) H2 PO2 4−2 (d) All of3 these K sp=108\\uf8eb \\uf8ed\\uf8ec mx\\uf8f6 \\uf8f8\\uf8f75 K sp=S2=(8×10−4)2=64×10−8\\nAns. (c) In 0.01MHSO\\n2 4\\nAccording to Bronsted Lowry concept of\\nGiven that,K\\n=a\\uf8eb \\uf8ecx\\uf8f6 \\uf8f75 H 2SO 4(aq) ¾\\uf8e7→2H+(aq)+SO2 4−(aq)\\nacids and bases, an acid is a proton sp \\uf8edm\\uf8f8 0.02 0.01\\ndonor whereas a base is a proton CdSO (s) Cd2+(aq)+SO2−(aq)\\n∴ a=108 4 4\\nacceptor. x x (x+0.01)\\ncT ah nu s e,\\na\\na sc ilc yo dr od nin ag\\nte\\nt o\\na\\nt ph ri os\\nt\\nc oo nn ac ne dp at, lH soPO2 4− 15 Asolutionis0.1MinCl− and K sp=x(x+0.01)=64×10−8\\nacce Hp Pt Os 2a\\n−\\np +ro Hto On rron rea Pc Oti 3o −n\\n+\\nw Hith\\nO\\nw +ater. 0 gr.0 a0 du1 aM llyin aC dr dO e42 d− t. oSo itl .idAgNO\\n3\\nis\\nSo,\\nxx (+ 0.00. 10 )1 =≅ 60 4.0 ×1 1M\\n0−8 ⇒x=64×10−6M\\n4 2 4 3\\nHPO2 4−+H 2O H 2PO2 4−+OH− Assuming that the addition does 17 Theoxygendissolvedinwater\\nnot change in volume and\\nexertsapartialpressureof20kPa\\nK\\n(AgCl)=1.7×10−10M2and\\nTOPIC 3 sp inthevapourabovewater.The\\nK (Ag CrO\\n)=1.9×10−12M3\\nsp 2 4 molarsolubilityofoxygeninwater\\nSolubility Product and\\nSelect correct statement from the is……×10−5 moldm−3.\\nCommon Ion Effect following [2021, 20 July Shift-II]\\n(Round off to the nearest integer).\\n(a) AgClprecipitates first because its\\n13 ThemolarsolubilityofZn(OH) in K spis high. [Given, Henry’s law constant(K H)\\n0.1MNaOHsolutionisx×10−182\\nM.\\n(b) Ag 2CrO 4precipitates first as itsK\\nsp\\n=8.0×104kPaforO 2,densityof\\nis low. water with dissolved oxygen\\nThevalueofxis………(Nearest\\ninteger)\\n(c) A thg\\ne2\\nC ar mO\\no4\\nup nre\\nt\\nc oi fp Ait ga +te ns\\ne\\nf eir ds et\\nd\\nb ie sc la ou ws .e =1.0kgdm−3].\\n[2021, 17 March Shift-I]\\nAns. (25)\\n(Given; The solubility product of (d) AgClwill precipitate first as the\\nZn(OH)\\nis2×10−20). amount ofAg+needed to precipitate Given, partial pressure ofO 2=20kPa\\n2 is low. K (Henry’s constant)=8×104kPa\\n[2021, 1 Sep Shift-II] H\\nAns. (d) From Henry’s law,\\nAns. (2)\\nDue\\nZ ton ( cO oH m) 2 mq on-ioZ nSn e2 f+ fe+ c2\\nt\\nO\\n2\\n(pSH r−\\nesence of\\nK s (p i)( KA sg [pC A(l gA) +g= ]21 C r. e7 r qO× u4) i1 r0 = e− d11 .0 9 toM × p2 1 p0 t− .12 AgM C3\\nl(s)\\nwhe 2rp 0e(g , ×) χ 1=\\nO\\n02[ 3K ==H s] (8oχ ×lO u2 b 10il 4ity\\n×\\no 1f\\n0\\no 3)x χygen\\nNaOH) the concentration ofOH−will be K =[Ag+][Cl−] ⇒ χ = 20\\nO2\\n(2S+0.1)≈0.1(Q0.1>>2S) ⇒ 1.7×10−s 1p 0=[Ag+][0.1] O2 8×104\\n∴Solubility of product, [Ag+]=1.7×10−10 Solubility=2.5×10−4=25×10−5\\nK sp=(0.1)2×S (ii) [Ag+]required to ppt.Ag CrO (s)\\n2×10−20=0.01×S K =Ionic product=[Ag+2 ]2[C4 rO2−] 18 TwosaltsA 2XandMXhavethe\\n⇒\\nS=2×10−20\\n=2×10−18\\n⇒sp\\n1.9×10−12=[Ag+]2[0.001]\\n4\\nsamevalueofsolubilityproductof\\n0.01 [Ag+]= 1.9×10−9\\n4.0×10−12.Theratioof\\ntheirmolar\\n∴ x=2 S(A X)\\nHence, answer is 2.\\n= 19×10−5 solubilitiesi.e 2 =……\\nS(MX)\\n=4.3×10−5\\n14 A B isasparinglysolublesaltof (Round off to the nearest integer)\\n3 2 ∴[Ag+]required to precipitateAgClis\\nmolarmassM(gmol−1)\\nand low, soAgClwill precipitate first.\\n[2021, 16 March Shift-I]\\nsolubilityxgL−1.Thesolubility Ans. (50)\\nc\\n\\uf8ebx\\uf8f65 16 ThesolubilityofCdSO inwateris\\nLet the solubility ofA 2Xbe ‘S’.\\nproductsatisfiesK sp =a \\uf8ed\\uf8ec M\\uf8f8\\uf8f7 . The 8.0×10–4mol L−1. Its s4 olubility in A 2X(s) 2A+(a 2Sq)+X S2–(aq);\\nK =4×10−12\\nvalueofais........ [.. 20(In 21t ,e 3g 1e Ar ua gn Ss hw ife t-r I)\\n]\\n0 ×. 10 01\\n–\\n6M mH o2S\\nl\\nLO −4 1.s (o Rlu ot ui no dn ois\\nf\\nf… t…\\no\\n…\\nthe\\nKs sp p1\\n1\\n=[A+]2[X2–]\\nAns. (108) nearest integer)\\n4×10−12=(2S)2(S)\\nA 3B 2 q 3A2+(aq)+2B3−(aq) (Assume that, solubility is much 4×10 c−12=4S3 ⇒S=10−3M\\nLet the solubility ofMYbe ‘S ’.\\n3S 2S less than 0.01 M) 1\\nK sp=[A2+]3[B3−]2 [2021, 18 March Shift-II] MY(s) M+(aq)+Y−(aq),\\nS1 S1\\n99\\nIonic Equilibrium\\nK Ksp2 = =4 [M× +1 ]0 [− Y12\\n−]\\n0.1×(2 4S S) 22 == 88 ×× 11 00 −− 89 Ans A. B(2 () s)r\\nA2+(aq)+2B−(aq)\\nsp2 2\\n4×1K 0s −p 12 2== (( SS 1 )) 22 ⇒ S x= =1 14 41 1×10−6M I sf u t bh se t am no cl ea r i sso Slu mb oil lit Ly − o 1tf h t eh ne solid\\n⇒ S =2×1 10−6M K sp =[A2+]1[B−]2;\\n[ [A M2 YY ]]1 = SS = 2×10 1− 04 −6 =50 21 RFo er asth oe n,f to hll eow coin rg reA cs ts oe pr tt ii oo nn ia snd SoluK bs ilp ity= pS r1 o× du(2 cS t ) o2 f= A4 BS 23 =3.20×10−11M3\\n1 3.20×10−11=4×S3\\nAssertion(A) When Cu (II) and\\n19 ThesolubilityofCa(OH) inwateris sulphide ions are mixed, they ⇒\\nS3=3.20×10−11\\n;\\n2\\n4\\n[Given:Thesolubilityproductof react together extremely quickly\\nCa(OH)\\n2\\ninwater=5.5×10−6] to give a solid. S=\\uf8eb \\uf8ec \\uf8ec3.20×10−11\\uf8f6 \\uf8f7 \\uf8f71/3\\n\\uf8ed 4 \\uf8f8\\n[2021, 25 Feb Shift-II] Reason(R) The equilibrium\\n(( ca)\\n)\\n1 1. .1 71\\n7\\n×\\n×\\n1 10 0− −2\\n2\\n(( db )) 11 .. 711\\n7\\n×\\n×\\n1 10 0− −6\\n6\\ncronstant of\\nCu2+ (aq)+S2−\\n(aq)\\n⇒ S=2×10−4molL−1\\nCuS(s)is high because the\\nAns. (a) solubility product is low. 23 Thestoichiometryandsolubility\\nproductofasaltwiththesolubility\\nLet, solubility ofCa(OH) in pure water [2020, 2 Sep Shift-I]\\n2\\n=Smol/L\\n(a) Both (A) and (R) are false.\\ncurvegivenbelowis,respectively:\\nCa(OH) 2q Ca2+ +2OH− (b) Both (A) and (R) are true and (R) is the [2020, 8 Jan Shift-I]\\nSmol/L 2×S(mol/L) explanation for (A).\\nK =[Ca2+][OH−]2=S×(2S)2 3\\nsp (c) Both (A) and (R) are true but (R) is not M\\n=4S3(mol/L)\\nthe explanation for (A).\\n]/m\\n2\\nThe expression ofK spcan also be (d) (A) is false and (R) is true. Y [1\\nwritten as,\\nAns. (c)\\nK =xx⋅yy⋅Sx+y\\nsp Both (A) and (R) are correct, but (R) is not 1 2 3\\n=11⋅22⋅S1+2\\nthe correct explanation of (A). [X]/mM\\n=4S3 [A]Cu2+(aq)andS2−(aq)ions undergo (a)XY,2×10−9M3 (b)XY,2×10−6M3\\n[QForCa(OH) :x=1,y=2] ionic reaction whose rate of reaction is 2\\n2 (c)XY,1×10−9M3 (d)XY,4×10−9M3\\nxandyare the coefficients of cations very fast. 2 2\\nand anions respectively Cu2+(aq)+S2−(aq) \\uf8e7→CuS (s)↓ Ans. (d)\\nS=\\uf8eb \\uf8ecK sp\\uf8f6 \\uf8f71/3 =\\uf8eb\\n\\uf8ec\\n\\uf8ec5.5×10−6\\uf8f6\\n\\uf8f7\\n\\uf8f71/3 [R]For the reaction : c (U mn oit ls\\nL\\ng −i 1v )3e ,n wfo hr\\ni\\nca hll io mp pti lo ien ss ti hs aM t,3 ,\\nt\\nho er\\n\\uf8ed 4 \\uf8f8 \\uf8ed 4 \\uf8f8 Cu2+(aq)+S2−(aq) CuS(s) equilibriu-m has three ions. Therefore,\\n=1.11×10−2mol/L The expression of equilibrium constant XY X2+(aq)+2Y−(aq),\\n2\\nis, - K =[X2+][Y−]2\\n20 8T .h 0e ×s 1o 0l −u 9b .il Tit hy ep sro od luu bc it lito yf oP fb lI e2 ai ds K eq= [Cu[ 2C +u ]S [S]\\n2−]\\nor X 2Y 2X+(aq)+Y K2−sp (aq =),\\n[X+]2[Y2−]\\nsp\\niodidein0.1molarsolutionoflead But, the expression of solubility product (i)K in case ofXY ,\\nnitrateisx×10−6 mol/L.Thevalue (K sp)ofCuS(c s)will be Ks sp p=(1×10−3)(2×2 10−3)2 =4×10−9M3\\nofxis…….(Roundedofftothe CuS(s) Cu2+(aq)+S2−(aq) (ii)K spin case ofX 2Y,\\nnearestinteger). K =[Cu2+][S2−] K sp=(1×10−3)2(2×10−3) =2×10−9M\\n[Given, : 2=1.41] sp The only matching value ofK from\\n[CuS] 1 sp\\n[2021, 24 Feb Shift-II] So,K eq= is,K eq∝ options that satisfies the concentration\\nAns. (141) K sp K sp values from graph is\\nTG oiv ce an l, culat[ eK\\nss\\nop]\\nluP bbI i2\\nlit=\\ny\\no8 f× P1 b0 I−9\\nin 0.1 M\\nB ofe Kca equs ise\\nh\\no igf hh ,ig i.h\\ne\\n.s tt ha eb i vli aty luC eu oS f,\\nK\\nth spe ov fa Clu ue\\nS and\\n[X [Y2+ −] ]= =21m ×M 10= −31 M×10−3M\\n2 will be low. Thus, salt isXY and\\nsolution ofPb(NO) . 2\\n(I) Pb(NO) \\uf8e73 →2 Pb2+(aq)+2NO−(aq) K sp=(10−3)(2×10−3)2=4×10−9M3\\n3c2 3 22 IfthesolubilityproductofAB is\\n(II)\\nPbI0 2.1 (sM\\n)\\nPb0 2.1 +M (aq)+2I0 −.2 (aM\\nq)\\n3 o. f2 A0 B×10 in−1 p1 uM re3, wth ae ten rt ih se …s …ol …ub2 ×il 1it 0y\\n4\\n24 dT ih se soK cs ip atf\\n-\\nio or nt ih se 1.f 6o ×llo 1w 0−in 5g\\n∴ [Pb2+]=SS +0.1≈0.12S molL−2 1 PbCl 2(s) Pb2+ (aq)+2Cl− (aq)\\nQ S<<0.1 [Assuming that neither kind of ion Which of the following choices is\\nNow, K =8×10−9 reacts with water] correct for a mixture of 300 mL\\nsp\\n[Pb2][I−]2=8×10−9\\n[2020, 6 Sep Shift-II]\\n0.134MPb(NO 3) 2and 100 mL 0.4\\nMNaCl? [2020, 9 Jan Shift-I]\\n100\\nJEE Main Chapterwise Topicwise Chemistry\\n(a) Q<K \\uf8ebK \\uf8f61/6 \\uf8eb K \\uf8f61/7 Ans. (c)\\n(b)\\nQ>Ks sp\\np\\n(a) S= \\uf8ed\\uf8ec 14s 4p \\uf8f8\\uf8f7 (b) S= \\uf8ed\\uf8ec 69s 1p 2\\uf8f8\\uf8f7\\nLet the solubility ofAg 2CO 3isS. Now,\\n(c) Q=K 0.1 M ofAgNO is added to this solution\\n(d) Not es np ough data provided\\n(c)\\nS=\\uf8eb \\uf8ecK sp\\uf8f6 \\uf8f71/9\\n(d)\\nS=\\uf8eb \\uf8ecK sp\\uf8f6 \\uf8f71/7 after which let3 the solubility ofAg 2CO\\n3\\nAns. (b) -\\n\\uf8ed929\\uf8f8 \\uf8ed216\\uf8f8 becomesS′.\\n∴ [Ag+]=S+0.1and[CO2−]=S′\\nPbCl 2(s) Pb2+(aq) K+2C =l− 1(a .6q ×); 10−5 Ans. (b) K sp=(S+0.1)2(S′) 3 ...(i)\\nsp Key Idea The concentration of a Given,K =8×10−12\\nsp\\nFor mixture, 300mL0.134 MPb(NO 3) 2 substance in a saturated solution is QK is very small, we neglectS′against\\nand 100mL0.4 MNaCl defined as its solubility (S). sp\\n- SinEq. (i)\\nAfter mixing, total volume=400mL ForA xB y xAy++yBx−; ∴ K =(0.1)2S′\\n[Pb2+]aftermixing(beforeanyprecipitate\\nK =[Ay+]x[Bx−]y or\\n8×10−s 1p\\n2=0.01S′\\nforms) sp or S′=8×10−12×102\\n300×0.134 3×0.134 1\\n= = ≈ For,Zr 3(PO 4) 4, =8×10−10M\\n[Cl−]after4 m00\\nixing\\n(befo4\\nre any\\np1 r0\\necipitate\\nZr 3(PO 4) 4(s)- 3 3Z Sr M4+(aq)+4P 4O SM43−(aq) ATh gu Ns O, m iso 8la ×r s 1o 0l −u 1b 0i Mlit .y ofAg 2CO 3in 0.1 M\\nforms) K =[Zr4+]3[PO3−]4 3\\n=100 40× 00.4 =0.1 Ksp =(3S)3(4S)4=4 6912S7orS=\\uf8eb \\uf8ecK\\nsp\\n\\uf8f6 \\uf8f771 29 Anaqueoussolutioncontains\\nAs we know,\\nsp \\uf8ed6912\\uf8f8 0.10MH 2Sand0.20MHCl.Ifthe\\nequilibriumconstantsforthe\\nQ=[Pb2+][Cl−]2=3×0.134 ×10−2≈10−3 Thus, the relation between molar formationofHS−\\nfromH Sis\\n4 solubility(S) and solubility product(K sp)\\n1.0×10−7 andthatofS2−\\nf2\\nromHS−\\n25 ThesolubilityproductofCr(OH) at will beS=\\uf8eb \\uf8ecK sp \\uf8f6 \\uf8f71/7 ionsis1.2×10−13 thenthe\\n298Kis6.0×10−31.The\\n3 \\uf8ed6912\\uf8f8 concentrationofS2−\\nionsin\\nconcentrationofhydroxideionsin 27 Whatisthemolarsolubilityof (a aq )5ue ×o 1u 0s −8solutioni (s b): 3[ ×JE 1E 0−M 20ain2018]\\nasaturatedsolutionofCr(OH) 3 will Al(OH) 3 in0.2MNaOHsolution? (c)6×10−21 (d)5×10−19\\nbe [2020, 9 Jan Shift-II] Giventhat,solubilityproductof\\n(a) (2.22×10−31)1/4 (b) (18×10−31)1/4 Al(OH) =2.4×10−24 Ans. (b)\\n(c) (4.86×10−29)1/4 (d) (18×10−31)1/2 3 [2019, 12 April Shift-I] Given,\\nAns. (d) (a) 3×10−19 (b) 12×10−21 [H 2S]=0.10M\\nK ofCr(OH) at 298 K is6.0×10−31. (c) 3×10−22 (d) 12×10−23 [HCl]=0-.20M So,[H+]=0.20M\\n[Osp H−]in satu-r3 ated solution ofCr(OH) =? Ans. (c) H 2S-H+ +HS−,K 1=1.0×10−7\\nCr(OH) Cr3+ +3OH−\\n3\\nKey IdeaConcentration of substance in\\nHS− H+ +S2−,K 2=1.2×10−13\\n3 a saturated solution is defined as its It means -for,\\nS S\\nsolubility (S). Its value depends upon the HS 2H+ +S2−\\nIn a saturated solution, 2\\n∴K sp= =[ SC (3r3\\nS\\nS+ )]\\n3\\n4[O\\n=\\n=H\\n2\\n6−\\n7\\n.0] S3\\n×\\n24\\n1\\n7= 0−6 3.0 1×10 1−31\\nn rea at cu Ktr ie\\nso\\np\\no\\nn\\n=f\\n,\\ns [Aol A+v\\n]\\nle (O[n BAt\\nH\\n−Ba )]n 3-d\\n-\\ntem Ap +e Ar l+a 3+t Bu +−re 3. OF Hor\\n−\\nNowK [=\\n=\\n=\\nS2K\\n1\\n1\\n−. .0\\n21 ]×\\n×\\n=×K\\n1 K10\\n02\\n[−\\n×−\\nH7\\n2\\n+[0×\\nH\\n]2\\n21 S. ]2×10−13\\n⇒ S=\\uf8eb \\uf8ec6.0×10−31\\uf8f6 \\uf8f74 Initially 1 0 0 [according to the final equation]\\n\\uf8ed 27 \\uf8f8 At equilibrium 1−S S 3S+0.2 1.2×10−20×0.1M\\n=\\n1\\nNaOH\\uf8e7→Na+ +OH−\\n(0.2M)2\\n[OH]–=3S=3\\uf8eb \\uf8ed\\uf8ec6.0× 21 70−31\\uf8f6 \\uf8f8\\uf8f74 K spofAl K(OH)\\n=3\\n[= A20 l3.. +42 ]× [O10 H0 − −. 2 ]2 4 3(Given) =1.2×10 4− ×20 10× −1 2× M10−1M\\n=\\uf8eb \\uf8ec6.0×34 ×10−31\\uf8f6 \\uf8f741 =(18×10−31)41 2.4×10−s 2p 4=[S][3S+0.2]3 [Q0.2>>S] =3×10−20M\\n\\uf8ed 33 \\uf8f8 2.4×10−24=[S][0.008]\\n30 Anaqueoussolutioncontainsan\\n[S]=3×10−22\\nunknownconcentrationofBa2+\\n.\\n26 IfsolubilityproductofZr (PO ) is\\ndenotedbyK sp anditsm3 olar4 4 28 IfK sp ofAg 2CO 3 is8×10−12,the NW ahe Sn O50 ism aL ddo ef da ,1 BM aSs Oolut juio sn tof\\nsolubilityisdenotedbyS,then molarsolubilityofAg 2CO 3 in0.1M beg2 ins4 toprecipitate.Th4 efinal\\nwhichofthefollowingrelation AgNO 3 is [2019, 12 Jan Shift-II] volumeis500mL.Thesolubility\\nbetweenSandK sp iscorrect? ( (a c)\\n)\\n8 8× ×1 10 0− −1 12 0M\\nM\\n( (b d)\\n)\\n8 8× ×1 10 0− −1 13 1MM productofBaSO 4is1×10−10.\\n[2019, 8 April Shift-I]\\n101\\nIonic Equilibrium\\nWhat is the original concentration 32 Solubilityproductofsilverbromide the mass ofAgIO contained in\\n3\\nofBa2+\\n? [JEEMain2018]\\nis5.0×10−13.Thequantityof\\n100mLof its saturated solution?\\n(a)5×10−9M (b)2×10−9M potassiumbromide(molarmass [AIEEE2007]\\n(c)1.1×10−9M (d)1.0×10−10M takenas120gmol−1)tobeadded (a) 28.3×10−2g (b) 2.83×10−3g\\nAns. (c) to1Lof0.05Msolutionofsilver (c)\\n1.0×10−7\\ng (d)\\n1.0×10−4g\\nIts given that the final volume is 500mL nitratetostarttheprecipitationof Ans. (b) r\\nand this final volume was arrived when AgBris [AIEEE2010] AgIO (s) Ag+(aq)+IO−(aq)\\n3 3\\n5 u0 nkm nL owo nf 1\\nB\\nM a2N +a s2 oS lO ut4 iow na .s added to (( ca)\\n)\\n1 6.2 .2× ×1 10 0− −10 5g\\ng\\n(( db )) 51.2 .0× ×1 10 0− −9 8g\\ng\\nLet the Ksolu =bi [l Ait gy +o ]f [A IOg −IO ]3beS\\nSo, we can interpret the volume of sp 3\\nunknownBa2+solution as 450mLi.e. Ans. (b) 1.0×10−8=S2 or S=1×10−4mol/L\\n450mL+50mL\\uf8e7→500mL\\n[AgBr]=[Ag+]=0.05M\\nIn 1000mLmoles ofAgIO dissolved\\nsB oa lu2 ti+ on N soa lu2 tS ioO n4 B soa lS uO tio4 n K sp[AgBr]=[Ag+] [Br−] =1×10−4m3 oles\\nFrom this we can calculate the ⇒ [Br−]=K sp(AgBr) In 100mLmoles ofAgIO 3dissolved\\nconcentration ofSO2 4−ion in the solution [Ag+] =1×10−5moles\\nvia\\nM 1V 1=M 2V 2 =5.0 0× .01 50-13 =10−11M [mol L−1] Mass ofA =g 1IO ×3 1i 0n − 1 50 m0 om lL ×283g mol−1\\n1×50=M ×500\\n2 Moles of KBr needed to precipitate AgBr =2.83×10−3g\\n(as 1MNa 2SO 4is taken into =[Br−]×V=10−11mol L−1×1L=10−11mol\\nconsideration)\\n1 Therefore, amount of KBr needed to 35 Thesolubilityproductofasalt\\nNow\\nfoM r2 ju= st1 0 pr= ec0 i. p1M\\nitation,\\np =r 1e 0c −i 1p 1i mta ote\\nl×\\nA 1g 2B 0r\\ng mol−1=1.2×10−9g\\nwha av ti en rg isg 4en ×e 1r 0a −l 1f 2or .m Tu hl eaMX 2,in\\nIonic product=Solubility product(K sp) 33 SolidBa(NO ) isgradually concentrationofM2+ ionsinthe\\ni G S.e oiv. ,enK[B s [pa B2 o a+ f 2] +[ B ]S a [O 0S2 4 .O 1− ]4] == = 1K 1 ××sp 11 0o 0f −− 1B 1 00aSO 4 d sois luso til ov ne .d Ain t3 wa h12 . a0 t× co10 nc−4 enM trN aa ti2 oC nO o3 f a (aq )u 4e .0ou ×s 10s −o 10lu Mtiono (bf )t 1h .6e ×[s Aa 1I 0l Et −E 4i Es M2005]\\nor [Ba2+]=1×10−9M\\nBa2+\\n,willaprecipitatebeginto (c) 1.0×10−4M (d) 2.0×10−6M\\nform?\\nBR ae 2m +e iom nb se inr T fih ni as\\nl\\ni ss\\no\\nt lh ue\\nt\\nic oo nn .centration of\\n(K sp forBaCO 3\\n=5.1×10−9)\\nAns. M( Xc)r\\nM2+ +2X−\\nHence, for calculating the[Ba2+]in [AIEEE2009] 2 S 2S\\noriginal solution we have to use (a)\\n4.1×10−5M\\n(b)\\n5.1×10−5M\\nK =[M2+][X−]2\\nMV =MV (c) 8.1×10−8M (d) 8.1×10−7 M sp\\n1 1 2 2 If solubility beS, then\\nsa os\\n,\\nM 1×45 M0 1== 11 .0 1− ×9 1× 05 −90 M0 Ans N. a( 2b C)\\nO\\n3a\\n2Na++CO2 3−\\n4K\\nSsp\\n3= =4(S ×)( 12 0S −) 122= ⇒4S S3\\n=1×10−4M\\n[Na COa]=[CO2−]=1×10−4M ∴ [M2+]=S=1×10−4M\\n31 TheK sp forCr(OH) 3 is1.6×10−30. Ba2 CO 3 Ba3 2+ CO2−\\nThemolarsolubilityofthis K\\n3 =[Ba2+][CO3\\n2-]\\n36 Themolarsolubility(inmolL−1)ofa\\nsp(BaCO ) 3\\ncompoundinwateris [AIEEE2011] 3 K (BaCO) sparinglysolublesaltMX 4isS.The\\n(a)21.6×10−30\\n[Ba2+]= sp [CO2−]3\\ncorrespondingsolubilityproductis\\n3 K .SisgivenintermsofK by\\n(b)41.6×10−30 ⇒ [Ba2+]=5.1×10-9 ths ep relation. sp\\n(c)41.6×10−30/27 [Ba2+]=51 .1× ×1 10 0− −4\\n5M\\n( (a c)\\n)\\nS S= =( (K Ksp/ /1 22 58 6) )1 1/ /4 5( (b d)\\n)\\nS S= =( (K Ksp/ /1 22 58 6) )1 1/ /4\\n5\\n(d)1.6×10−30/27\\nHence, at5.1×10−5M concentration of\\nsp sp\\n[AIEEE2004]\\nAns. (c) Ba2+, a precipitate will begin to form. Ans. (c)r\\nLet molar solu1bility ofCr(OH) 3=s molL−1 34 Inasaturatedsolutionofthe MX 4 M4+ +4X−\\nCr(OH) (s) Cr3+(aq)+3OH−(aq) K =[M4+][4X−]4\\n3 sparinglysolublestrongelectrolyte sp\\nK sp=1.6×10−30 s 3s AgIO (molecularmass=283)the K sp=(S)(4S)4\\n=[Cr3+][OH−]3=(s)(3s)3=27s4 3 ⇒ K =256S5\\nequilibriumrwhichsetsinis sp\\n∴ s4=1.6×10−30 AgIO (s) Ag+(aq)+IO−(aq) S5=K sp\\n27 3 3 256\\nIf the solubility product constant,\\n⇒ s=4 1.6× 21 70−30 K\\ntes mp\\no pf eA rag tI uO\\nr3\\ne\\na ist\\n1\\na\\n.0\\ng ×iv 1e 0n\\n−8,what\\nis\\n⇒ S=\\uf8eb \\uf8ed\\uf8ecK 25s 6p\\uf8f6 \\uf8f8\\uf8f71/5\\n102\\nJEE Main Chapterwise Topicwise Chemistry\\n37 Thesolubilityinwaterofa sodiumacetateinthebufferis pH=−log[H+]=−log(9.9×10−2)\\nsparinglysolublesaltAB is …………M.(Roundofftothe [Qlog9.9≈1]\\n2\\n1.0×10−5 molL−1.Itssolubility nearestinteger). =2−log9.9=2−1\\nproductwillbe [AIEEE2003] [Given :pK a (acetic acid=4.74] pH=1\\n(a) 4×10−15 (b) 4×10−10 [2021, 18 March Shift-I] 42 ThepHofammoniumphosphate\\n(c)\\n1×10−15\\n(d)\\n1×10−10 Ans. (10)\\nsolution,ifpK ofphosphoricacid\\nGiven :pH=5.74 a\\nAns. (a)r\\nConcentration of acetic acid in buffer\\nandpK\\nb\\nofammoniumhydroxide\\nAB A2+ +2B− =1.0M are5.23and4.75respectively,is\\n2 S 2S Acetic acid and its conjugate base ………. [2021, 26 Feb Shift-II]\\nK =[A2+][B−]2=(S)(2S)2=4S3 sodium acetate makes acidic buffer. Ans. (7)\\nsp\\n=4(1×10−5)3=4×10−15 CH 3COOH+CH 3COONa\\uf8e7→(Acidic Phosphoric acid is a weak tribasic acid\\nbuffer) (H 3PO 4)andNH 4OHis a weakmonoacidic\\nbase. So, hydrolysis of ammonium\\n38 SolubilityofCa(OH) 2 isSmolL−1. Using formula,\\n[Salt]\\nphosphate(NH 4) 3P-O 4can be shown as,\\nThesolubilityproduct(K sp)under\\npH=pK\\na\\n+log\\n[Acid]\\n(NH 4) 3PO 4+3H 2O H 3PO 4+3NH 4OH\\nthesameconditionis [AIEEE2002] [3 : 1 type salt]\\n( Aa) n4 s.S (3\\na)\\n(b) r3S4 (c) 4S2 (d) S3 pH=pK a+log[ [C CH H3 3C CO OO ON Ha ]]\\nSo, [H+]=K\\na×\\uf8eb\\n\\uf8ed\\uf8ec \\uf8ec\\nK\\nK\\n×w\\nK\\n\\uf8f6\\n\\uf8f8\\uf8f7\\n\\uf8f712\\na b\\nCa(OH) Ca2+ +2OH− 5.74=4.74+log[CH 3COONa] 1\\nK =[Ca2+2 ][OH−]2=(S)(2S)2=4S3 [CH 3COOH] pH=pK a + 2[pK w −pK a −pK b]\\nsp\\n5.74−4.74=log[CH 3COONa]\\n=5.23+\\n1\\n(14−5.23−4.75)\\nTOPIC 4 [CH 3COOH] 2 [QpK =14HO\\n[CHCOONa] w 2\\npH, Buffer and Indicator 1=log 3 pK =5.23(HPO )\\n[CHCOOH] a 3 4\\n3 pK =4.75(NHOH)]=7.24−~7\\n39 ThepHofasolutionobtainedby ⇒ [CH 3COONa] =10 b 4\\n[CHCOOH] 43 ThesolubilityofAgCNinabuffer\\nmixing 3\\n50mLof1MHCland30mLof1M\\n[∴[CH 3COOH]=1]\\nsolutionofpH=3isx.Thevalueofx\\nNaOHisx×10−4.Thevalueofxis [CH 3COONa]=[10×1]=10 is…….\\nThus, the concentration of sodium [Assume : Nocyanocomplex is\\n.........(Nearestinteger)\\nacetate in buffer is 10 M. formed;K\\n(AgCN)=2.2×10−16\\nsp\\n[log2.5=0.3979]\\nandK\\n(HCN)=6.2×10−10]\\n[2021, 31 Aug Shift-II] 41 Sulphurousacid(H SO )has a\\n2 3 [2021, 25 Feb Shift-I]\\nAns. (6021) K =1.7×10−2 andK =6.4×10−8 (a) 0.625 ×10−6 (b) 1.6 ×10−6\\na a\\nMilliequivalents of HCl .Th1epHof0.588Mis…2…\\n(c) 2.2\\n×10−16\\n(d) 1.9\\n×10−5\\n(N V )=50×1=50\\na a (Round off to the nearest integer) Ans. (d)\\nMilliequivalents of NaOH\\n(N V )=30×1=30 [2021, 16 March Shift-II] pH ofAgCNbuffer solution=3\\nSince,b b\\nN V >N V\\nAns. (1) [H+]=10−3\\nand they neutrala isea eachb ob ther ForH 2SO 3, K a11>>K a2 K sp(AgCN)=2.2×10−16\\n[H+] == 5N 0a −VV 3aa 0+− =VN 0bb .V 2b\\n5=2.5×10−1\\nt\\ntS\\n=\\n=Ho 2,\\nt0\\nSw Oe 3 m 0- .a 5i 5n\\n0\\n8l .y 5H\\n−\\n5c 0+ 8o .+n 55s H 8i Sd αe Or 3− ;1 0s .Kt 50i a 5o 1 8n α=is 1a . 07t .i × 5o\\n0\\n5n 1 80 α−2 CN−A +gK HCa N +[H qqCN] A H= g C6 + N.2 + …× C …N10 K−− 1…10 …K sp\\n80 eq a\\npH=−log[H+]\\nK\\n=[H+][HSO− 3] AgCN+H+ q HCN+Ag+\\n=−log(2.5×10−1) a1 [HSO] 1 [Ag+][CN−][HCN]\\n2 3 K × =\\n=1−0.3979=0.6021 =(0.558α)(0.558α) =0.558α2 sp K\\na\\n[H+][CN−]\\npH×104=0.6021×104=6021 0.558(1−α) 1−α K [H+]\\n∴ x=6021 [S]= sp\\nα<< 1 for weak acid K\\na\\n40 Inordertoprepareabuffer (1−α)≈1 2.2×10−16 [S][S]\\n⇒ =\\nsolutionofpH5.74,sodiumacetate α= K a1 = 1.7×10−2 6.2×10−10 10−3\\nisaddedtoaceticacid.Ifthe 0.558 0.558 [S]2=2.2×10−16 ×10−3\\nconcentrationofaceticacidinthe α=1.7×10−1=0.17 6.2×10−10\\nbufferis1.0M,theconcentrationof [H]+ =0.558α=9.9×10−2 S=1.9×10−5\\n103\\nIonic Equilibrium\\n44 Anacidicbufferisobtainedon increases instantly but this\\ntitration show pH increases slowly\\nmixing [2020, 3 Sep Shift-I]\\n(a) 100mLof 0.1 MCHCOOHand 100mL (c) pH7 because base (NaOH) is mix drop\\n3 by drop.\\nof 0.1 MNaOH\\n(c) After equivalence point (pH =7)\\n(b) 100mLof 0.1 MHCland 200mLof\\ngraph is constant. It is wrong\\n0.1 MNaCl vol.ofNaOH\\nbecause graph increases and the\\n(c) 100mLof 0.1 MCHCOOHand 200mL\\n3 solutionbecomespurebasicthen\\nof 0.1 MNaOH\\ngraph show constant value.\\n(d) 100mLof 0.1 MHCland 200mLof\\n(d) pH7 (d) According to graph, equivalence\\n0.1 MCH 3COONa point(pH=7)graphshouldincrease\\nAns. (d) butitdecreases.\\nAn acidic buffer is a mixture of weak acid vol.ofNaOH\\nand its salt with strong base. Now, let us 46 Asoftdrinkwasbottledwitha\\nstudy the composition of each mixture Ans. (a) partialpressureofCO of3bar\\n2\\nobtained by mixing of two solutions. Given100mLof0.1MHClis taken in overtheliquidatroom\\n–+ beakerandtoit100mLof0.1MNaOHis\\n(a) CH COOH+NaOH CH COONa+H O temperature.Thepartialpressure\\n3 3 2 added.\\nt=0100×0.1 100×0.1 0 0 ofCO overthesolution\\nmillimol B 2\\nt=a 0 0 10 10 approachesavalueof30barwhen\\n44gofCO isdissolvedin1kgof\\nSo, it is not a buffer. 2\\nwateratroomtemperature.The\\nNaCl, a salt of strong acid (HCl) and pH7\\nstrong base (NaOH) is nothydrolisableby approximatepHofthesoftdrinkis\\nHClalso. So, it is not a buffer. A ……×10−1.\\n–+\\nCHCOOH+NaOH CHCOONa+HO VolumeofNaOH (First dissociation constant of\\n3 3 2\\nt=0100×0.1 200×0.1 0 0 This is acid (HCl) and base (NaOH) H CO =4.0×10−7)log2=0.3;\\nmillimol (Limiting) 2 3\\nt=a 0 20–10=10 10 10 titration. Here,phenolphthaleinact as an density of the soft drink=1gmL−1)\\nAfter mixing, the solution contains indicator andcolourchange is pink. The [2020, 6 Sep Shift-I]\\nequimolaramounts byNaOH(a strong correct graph that depicts the change in Ans. (37)\\n−+ pH is as follows.\\nbase) andCH 3COONa(salt).\\nAt firstHCl(acid) is take in beaker and\\nAt 30 bar pressure mass of CO 2in 1 kg\\nSo, it is also not a buffer. base (NaOH) is taken in burette.\\nwater=44g\\n– + At 3 bar pressure mass of CO in 1 kg\\nCH 3COONa+HCl CH 3COOH+NaCl When base is added drop wise then\\nwater=4.4g\\n2\\nt=0 200×0.1 100×0.1 0 0 acid-base reaction is occurs and\\nmillimol t=a 20–10=10 (Lim 0iting) 10 10 following changes are observed. Moles ofCO 2in 1 kg water=4 4. 44 =0.1mol\\nNow, the resultant solution contains pH→0 to 7 is acidic. pH→7 is neutral.\\nequimolaramount ofCHCOOH(an weak pH→7 to 14 is basic. In solution,H 2O+CO 2rH 2CO 3(0.1 mol)\\nacid) andCH 3COONa(a sa3 lt ofCH 3COOH Initially, the graph increases steeply but or H 2CO 3rH+ +HCO− 3\\nwith a strong base,NaOH). when concentration of acid becomes Initially 0.1 − −\\nSo, it is an acid buffer. equal to base then no change is seen in Atequil. 0.1(1−α) 0.1α 0.1α\\ngraph. Here,α=degree of dissociation\\n45 100mLof0.1MHClistakenisa Thispointiscalledneutralpointor\\nK\\n=[H+][HCO− 3]\\nbeakerandtoit100mLof0.1M equivalencepoint. Equivalence point, a1 [HCO]\\nNaOHisaddedinstepsof2mLand where pH=7.\\n[Here,K\\n=fir2\\nst\\nd3\\nissociation of\\nthepHcontinuouslymeasured. After the equivalence point (pH=7), constanta o1 fHCO]\\nbase (NaOH) is continuously mixed drop 2 3\\nWhichofthefollowinggraphs\\nby drop then pH increases by 7 and graph 4×10−7 =\\n(0.1α)2\\n=0.1α2\\ncorrectlydepictsthechangeinpH? also increases slowly. At the pointB, 0.1(1−α)\\n[2020, 3 Sep Shift-II] solution become basic, again base \\uf8ee \\uf8efQK a <10−3,\\uf8f9\\n\\uf8fa\\n(NaOH) is mixed drop by drop and the C\\n\\uf8ef \\uf8fa\\nsolution becomes basic at pointB. \\uf8f01−α≅1 \\uf8fb\\n(a) pH7 Followinginferencecanbeseeninthe 4.0×10−7 ×0.1=0.01α2; α=2×10−3\\ngraphs.\\n(a) According to this graph, pH =7is\\n[H+]=0.1α=0.1×2×10−3\\n=2×10−4\\nequivalencepointanduseofNaOH\\nvol.ofNaOH\\n(base)dropbydropleadstobasic\\npH=−log[H+]\\nsolution as a result, value of pH =−log[2×10−4]\\n(b) pH7 increases slowly. This is correct =−[log2+log[10−4]]\\noption.\\n=−[0.3−4]\\n(b) According to graph, it shows\\nvol.ofNaOH straight line that mean graph\\n=3.7=37×10−1\\n104\\nJEE Main Chapterwise Topicwise Chemistry\\n47 3gofaceticacidisaddedto250 Ans. (b) =20×10−3 =4×10−4M\\nmLof0.1MHClandthesolution (A)pOHof 0.01 MHCl: 50\\nmadeupto500mL.To20mLof HCl \\uf8e7→ H+ +OH− As we know,\\n1 (0.01M) (0.01M) (0.01M) pOH=–log[OH–]\\nthissolution 2mLof5MNaOHis [H+]=(0.01M); pH=−log[H+] ∴ pOH=−log4×10−4=4−log4\\nadded.ThepHofthesolutionis\\n⇒−log(10−2)⇒2\\nor pH=14−pOH\\n…………\\n∴pOH=14−pH⇒14−2=12\\n=14−(4−log4)\\n[Given :pK of acetic acid=4.75, (B)pOHof 0.01 M NaOH : =10+log4=10.602\\nmolar massa of acetic acid=60 NaOH\\uf8e7→ Na+ + OH−\\n(0.01M) (0.01M) (0.01M) 50 ThestrengthofanaqueousNaOH\\ng/mol,log3=0.4771] [OH−]=10−2\\nsolutionismostaccurately\\nNeglect any changes in volume. ∴ pOH=−log[OH−]\\ndeterminedbytitrating :(Note:\\n[2020, 7 Jan Shift-II] ⇒ −log(10−2)=2\\nconsiderthatanappropriate\\nAns. (5.23) –+\\n3 1 (C)pOHof 0.01 MCH 3COONa: indicatorisused)[2020, 8 Jan Shift-I]\\n3gCH 3COOH(M=60)= 60= 20mol (salt of weak acid+strong base) (a) Aq.NaOHin a volumetric flask and\\n250mLof 0.1 MHCl=M×V= 250 ×0.1 pH=7+ 21 [pK a +log(10−2)] (b) Ac qo .n Nce an Ot Hra it ne ad pH i2 pS eO t4 tein a a n dc o an qi uc ea ol ufl sask\\n1000 ∴pH>7, thuspOH<7 oxalic acid in a burette\\n=25×10−3mol\\n(D)pOHof 0.01 MNaCl: (c) Aq.NaOHin a burette and aqueous\\nAfter mixing these two, solution is (It is a salt of strong acid+strong base) oxalic acid in a conical flask\\ndiluted to 500mL.\\n(d) Aq.NaOHin a burette and\\n∴ pH=pOH ⇒7\\nThen from that solution, 20mLis taken. concentratedHSO in a conical flask\\nThus, order ofpOHvalue : 2 4\\nNumber of moles of bothCH 3COOHand Ans. (c)\\nHClwill be now only 20 = 1 of original (A) > (D) > (C) > (B)\\nThe strength of aqueousNaOHsolution\\n500 25 Hence, the correct option is (b).\\nis most accuratelydeterminedby\\nsolution.\\nn = 1 × 1 = 1 =2×10−3mol 49 Twosolutions,AandB,eachof100 t ai qtr ua et oin ug s oaq xau le ico u acs iN d a inO cH oi nn i cb au lr e flt at se k a wn id th\\nCH 3COOH 20 25 500 Lwasmadebydissolving4gof phenolphthaleinas an indicator. (For\\nn HCl=25×10−3× 21 5=10−3mol N rea sO pH eca tn ivd e9 ly. .8 Tg ho ef pH H2S oO ft4 hi enwater, w ore aa nk\\ng\\na ec cid an-s nt oro\\nt\\nn bg\\ne\\nb ua ss ee\\nd\\n)t .itration, methyl\\nn added=M×V = 1 ×5×10−3 resultantsolutionobtainedfrom Thus, solution turnscolourlessto pink at\\nNaOH 2 the end point. (Phenolphthaleinhas pink\\nmixing40LofsolutionAand10L\\n=2.5×10−3\\nofsolutionBis……….\\ncolourwhen pH > 10 and it iscolourless\\nwhen pH < 8 (approximately) which is\\nAfter mixing, allHClandNaOHwill be [2020, 7 Jan Shift-I] easily to perceive.\\nneutralised. Remaining number of\\nAns. (10.60)\\nmoles. IfNaOHis taken in conical flask and\\nn =10−3 (A) 4 gNaOHin 100 L oxalic acid is added from burette, the\\nn NaCl =1.5×10−3 ⇒ M=4/40 =10−3mol L−1. end point will be thedecolourisationof\\nCH COONa pinkcolourwhich is more difficult to\\nn 3 (unreacted)=0.5×10−3 100 percieveby human eye very quickly.\\nCH COOH\\n3 (B) 9.8 gHSO in 100 L\\n∴Now the solution is a buffer solution. ⇒ M=9.2 8/94 8 =10−3mol L−1 51 ForthefollowingAssertionand\\npH=pK =log [salt] 100 Reason,thecorrectoptionis\\na\\n[acid]\\n40 L of solutionAcontains Assertion(A) The pH of water\\n(n )\\n=pK +log CH 3COONa =40×10−3molNaOH (Qn=M×V) increases with increase in\\na\\n(n CH 3COOH) =40×10−3mol OH− temperature.\\n=4.75+log3=4.75+0.4771 10 L of solutionBcontains Reason(R) The dissociation of\\n=5.2271≈5.23 =10×10−3molHSO water intoH+ andOH− is an\\n2 4\\n=20×10−3molH+ exothermic reaction.\\n48 Arrangethefollowingsolutionsin Whentheyaremixed,totalvolume=50L [2020, 8 Jan Shift-II]\\nthedecreasingorderofpOH. and allH+isneutralisedbyOH−. (a) Assertion is not true, but Reason is\\n(A) 0.01 M HCl (B) 0.01 M NaOH Number of moles(n )of excessOH−. true.\\n(C) 0.01 MCHCOONa OH− (b) Both assertion and Reason are true\\n3 =(40−20)×10−3=20×10−3 and the Reason is the correct\\n(D) 0.01 M NaCl [2020, 6 Sep Shift-I]\\n(a) (A) > (C) > (D) > (B) [OH−]= n OH− (inlitre) explanation for the Assertion.\\n(b) (A) > (D) > (C) > (B) V solution (c) Both Assertion and Reason are false.\\n(d) Both Assertion and Reason are true,\\n(c) (B) > (C) > (D) > (A) Or [OH−]= n OH− but the Reason is not the correct\\n(d) (B) > (D) > (C) > (A) Totalvolume explanation for the Assertion.\\n105\\nIonic Equilibrium\\nAns. (c) 53 Considerthefollowingstatements. ⇒ 10−5=10−5×α\\nThe dissociation of water intoH+and I. The pH of a mixture containing 1−α\\nOH−is an endothermic reaction. 400mLof 0.1 MH SO and ⇒ α=0.5 ⇒α%=50\\n∴As temperature increases, its 400mLof 0.1 MN2 aOH4 will be Hence, the option (c) is correct.\\nequilibrium constant also increases.\\napproximately 1.3. In statement (IV), Le-Chatelier’s principle\\n∴[H+]and[OH−]in water at equilibrium is applicable to common ion effect.\\nII. Ionic product of water is\\nincreases with increase in temperature. Because, in presence ofcommonion\\n∴pH=−log[H+]decreases, as temperature dependent. (given)bystrongelectrolyte(say,Na+A− ),\\ntemperature increases. III. A monobasic acid with\\nSo, both Assertion and Reason are false. K a =10−5has a pH=5. The t inh e R Hpr So id nu cc rt e o asf eth se . F c oo rn tc he en wtr ea ati ko en r terms\\n-\\ndegree of dissociation of this electrolyte, HA(say) the equilibrium\\n52 ThemolarsolubilityofCd(OH) is shifts to the LHS,HA H⊕+As.\\n2 acid is 50%.\\n1.84×10−5minwater.Theexpected\\nAs a result dissociation of HAgets\\nIV. The Le-Chatelier’sprinciple is\\nsolubilityofCd(OH) inabuffer suppressed. Hence, the option (d) is\\nsolutionofpH=12is2 not applicable to common-ion incorrect.\\neffect. The correct\\n(a) 1.84×10−9M [2019, 12 April Shift-I] statements are 54 20mLof0.1MH 2SO 4 solutionis\\n[2019, 10 April Shift-I]\\n(b)2.49 ×10−9M\\n(a) I, II and IV (b) II and III\\naddedto30mLof0.2MNH 4OH\\n1.84 solution.ThepHoftheresultant\\n(c) I and II (d) I, II and III\\n(c)6.23×10−11M mixtureis[pK ofNH OH=4.7]\\n(d)2.49×10−10M Ans. (d)\\n(a) 9.3 (b)\\n5.b\\n0\\n(c)4\\n9.0 (d) 5.2\\nThe explanation of given statements are\\nAns. (d) [2019, 9 Jan Shift-I]\\nas follows:\\nAns. (a)\\nKey Idea The concentration of In statement (I), millimoles ofH+\\nsubstance in a saturated solution is =400×0.1×2=80 The reaction takes place whenH 2SO 4is\\ndefined as its solubility (S). Its value Millimoles ofOH−=400×0.1=40 added toNH 4OHis as follows :\\ndepends upon the nature of solvent and\\n- (Limiting reagent) HSO +2NHOH\\uf8e7→(NH ) SO +2HO\\ntemp Ae x Kr Ba st y pu =re [. Ay+x ]A xy [+ Bx+ −y ]B yx− ∴ Millim [Ho +le ]s = o 4f 0H 0+ 4 +l 0e 4f 0t 0= =80 84− 004 00 M= =4 20 1 0M MillimoS la et2 c sr io dn 2g4 0×0bW .a 1e s =a e4 k 230×0.2=Sa 6l +t4 o w2 f e s at k 0r o4 bn ag s eaci2 d\\nSolubility of ⇒\\npH=−log[H+]=−log\\uf8eb\\n\\uf8ec\\n1 \\uf8f6\\n\\uf8f7\\natt=0\\nCd(OH) 2(S)=1.84×10−5M =−log1+log2+log\\uf8ed 12 00\\uf8f8 Mi all tim t=ol tes 0 2 2\\nGiven,pH=12[forCd(OH) in buffer So, the resulting solution is a basic\\nsolution]\\n2 =−0+0.301+1⇒1.30\\nbuffer[NHOH+(NH ) SO ].\\nHence, the option (a) is correct. 4 42 4\\nSo, pOH=2 (QpH+pOH=pK ) According to the Henderson’s equation,\\nw In statement (II), ionic product ofHOis\\n12+pOH=14 temperature dependent. 2 pOH=pK +log[(NH 4) 2SO 4]\\n∴\\npOH [O= H14 −]− =12 10= −2\\n2in buffer solution.\\nK\\nWw\\nit=\\nh\\ni[ nH c+ r] e[ aO sH\\ne\\n− in] ≈ te1 m0− p1 e4 r(m ato ul r/ eL ,)2at 25ºC =4.7+b\\nlog2\\n=4[ .N 7H 4OH]\\nFor reactionCd(OH) \\uf8e7→Cd2+ + 2OH− dissociation ofHOunits intoH+and 2\\n2 S S2 OH−ions will also2 increase. As a result, ⇒ pH=14−pOH\\nK sp=[Cd2+][OH−]2 the value of ionic product,[H+]×[OH−] =14−4.7=9.3\\nwill be increased. e.g.\\nK =(S)(2S)2=4S3\\nsp\\n=4(1.84×10−5)3 Temperature K w L2 55 Analkaliistitratedagainstanacid\\nK sp=24.9×10−15 25 5º ºC\\nC\\n0 1.0.1 086 8×× 11 00 −− 11 44 w wi ht ih chm oe fth thy elo fr oa ln log we ina gs ii snd aic ca ot ro rer, ct\\n[Cd2+]= [OK Hs −p\\n]2\\n45ºC\\n4.074×10−14 combination? [JEEMain2018]\\nBase Acid End point\\n[Cd2+]=24. (9 10× −1 20 )2−15 H Ine sn tc ae te, mth ee\\nn\\no tp (It Ii Io ),n\\nf\\no(b r) ais\\nw\\nc eo ar kre mct o.\\nnobasic\\n(a) Weak Strong pC io nl kourlessto\\nacid HA\\n=24.9×10−15×10+4 HA w H⊕ + As (b) Strong Strong Pinkish red to\\nyellow\\n=24.9×10−11M (1−α)CM αCM αCM\\n[Cd2+]⇒2.49×10−10M ⇒pH of the solution is 5, i.e. (c) Weak Strong Y pie nll ko isw\\nh\\nt ro\\ned\\nThe expected solubility ofCd(OH) in a\\n[H+]=10−5M=αC\\n2 (d) Strong Strong Pink to\\n2b .u 4f 9fe ×r 1s 0o −lu 10ti Mon\\n.\\nofpH=12is ⇒ K\\na\\n=α (1C −× αα )CC =10 1− −5 α×α colourless\\n106\\nJEE Main Chapterwise Topicwise Chemistry\\nAns. (c) Ans. (a) Ans. (c)\\nMethyl orange show Pinkishcolour pH of a solution=5 When HAis 50%ionised,[HA]=[A−]\\ntowards more acidic medium and yellow ∴ [H+]=10−pH=10−5 Buffer solution of weak acidHA→acidic\\norangecolourtowards basic or less buffer\\nacidic media. Its working pH range is HA(a weak racid)ionisesas [A−]\\nWeak base have the pH range greater HA H+ +A− pH=pK a +log\\n[HA]\\nthan 7. When methyl orange is added to 1.0 0 0\\nthis weak base solution it shows yellow (1−10−5) 10−5 10−5 or pH=pK a =4.5\\norangecolour. pOH=pK −pH\\nNow when this solution is titrated K\\n=[H+][A–] =10−5×10−5 pOH=14−w\\n4.5=9.5\\nagainst strong acid the pH move towards a [HA] (1−10−5)\\nm poo inre\\nt\\nna eci ad ri c\\n3\\n.r 9a wng he\\ne\\nra en yd\\ne\\nr le loa wch oe rs\\na\\nnto\\ng\\neend =10−10\\n[Q1>>>10−5]\\n62 mHy od l/r Log inen ai so on luc to ion nce on ft pr Hat =io 5n .4in\\nwill\\ncolourof methyl orange changes to 1\\nPinkish red resulting to similar change in =1×10−10M be [AIEEE2005]\\ncolourof solution as well. (a)\\n3.98×10−6\\n(b)\\n3.68×10−6\\n59 At25°C,thesolubilityproductof (c) 3.88×106 (d) 3.98×108\\n56 pK a ofaweakacid(HA)andpK b of Mg(OH) is1.0×10−11.AtwhichpH, Ans. (a)\\naweakbase(BOH)are3.2and3.4, willMg2+2\\nionsstartprecipitatingin pH=5.4\\nrespectively.ThepHoftheirsalt theformofMg(OH) froma ⇒[H+]=10−5.4=10−6⋅100.6\\n(AB)solutionis [JEEMain2017] solutionof0.001MM2 g2+ ions? Antilog of0.6is≈3.98\\n(a) 7.2 (b) 6.9 [AIEEE2010] ∴ [H+]≈3.98×10−6M\\n(c) 7.0 (d) 1.0 (a) 9 (b) 10\\nAns. (b) (c) 11 (d) 8 63 Whichoneofthefollowing\\nFor a salt of weak acid and weak base, Ans. (b) r statementsisnottrue?\\npH=7+ 1 pK −1 pK Mg(OH) 2 Mg2+ +2OH− [AIEEE2003]\\n2 a 2 b K =[Mg2+][OH–]2 (a) TheconjugatebaseofHPO−isHPO2−\\nsp 2 4 4\\nGiven,pK a(HA)=3.2, [OH−]= K sp = 1×10−11 (b) p sH\\nol\\nu+ tp ioO nH s=14for all aqueous\\npK a(BOH)=3.4 [Mg2+] 0.001 (c) The pH of1×10−8MHClis 8\\n∴ pH=7+1 (3.2)−1 (3.4)\\npOH=−log[OH−1] =−log[10−4]\\n(d) 96,500C of electricity when passed\\n2 2 pOH=4 and pH=10 through a CuSO solution deposits 1g\\n4\\n=7+1.6−1.7=6.9 ∴ pH=14−pOH=14−4=10 equivalent of copper at the cathode\\nAns. (c)\\n57 Howmanylitresofwatermustbe 60 ThepK a ofaweakacid,HAis4.80. In1×10−8MHClsolution,HOis also\\n2\\naddedto1Lofanaqueoussolution ThepK ofaweakbase,BOH,is present which also undergoes self\\nb\\nof HClwithapHof1tocreatean 4.78.ThepHofanaqueous ionisation. r\\naqueoussolutionwithpHof2? solutionofthecorrespondingsalt, H 2O H+ +OH−\\n[JEEMain2014] BA,willbe [AIEEE2008] 10−7M at 25°C[Concentration of water\\n(a) 0.1 L (b) 0.9 L\\n(a) 9.58 (b) 4.79\\n(H 2O)]\\n(c) 2.0 L (d) 9.0 L (c) 7.01 (d) 9.22 If it is taken simply even without\\nAns. (d) Ans. (c) common ion effect, higher\\nconcentration must be considered which\\npH=1 ⇒[H+]=10−1=0.1M For salt of weak acid and weak base is10−7M butH+fromHCldecreases self\\npH=2 ⇒[H+]=10−2=0.01M pH=− 1 [logK +logK −logK ] ionisationof water and hence [H+]from\\nFor dilution ofHCl, 2 a w b HO.\\n2\\n0.M 1×1V 11 == 0M .2 0V 12 ×V = 21 pK a + 21 pK w − 21 pK b H smen ac lle e, r n the at nco 10n −c 7e Mnt .ration must be\\n2\\n⇒ V 2=10L =1 ×4.80+7− 1 ×4.78 64 Anaqueoussolutionof1MNaCland\\nVolumeofwatertobeadded=10−1=9L 2 2\\n=7.01 1MHClis [AIEEE2002]\\n58 AnjacidHAionisesas (a) not a buffer but pH < 7\\nHA H+ +A− 61 ThepK ofaweakacid(HA)is4.5. (b) not a buffer but pH > 7\\na\\n(c) a buffer with pH < 7\\nThe pH of 1.0 M solution is 5. Its ThepOHofanaqueousbuffered\\n(d) a buffer with pH > 7\\ndissociation constant would be solutionofHAinwhich50%ofthe\\nAns. (a)\\n[AIEEE2011] acidionisedis [AIEEE2007]\\n(a)1×10−10 (b) 5 NaClis salt of strong acid and strong\\n(a) 4.5 (b) 2.5\\n(c)5×10−8 (d)1×10−5\\n(c) 9.5 (d) 7.0\\nbase. Its not the case of buffer.\\n107\\nIonic Equilibrium\\nr\\nNaCl+HO NaOH+HCl Ans. (d) 68 Whichofthefollowingsaltsisthe\\n2\\nAqueousNaCl, itself exact neutral During boiling, solubleMg(HCO) is mostbasicinaqueoussolution?\\nsolution. r converted into insolubleMg(OH3 )2 and [JEEMain2018]\\nHCl+H 2O H 3O+ +Cl− Ca(HCO 3) 2is converted into inso2 luble (a)Al(CN)\\n3\\nmakes solution acidic. CaCO 3. This is because of high solubility (b)CH 3COOK\\nproduct ofMg(OH) as compared to\\n2 (c)FeCl\\n65 Onmixingethylacetatewith MgCO hence,Mg(OH) is precipitated. 3\\n3 2 (d)Pb(CHCOO)\\naqueoussodiumchloride,the These precipitates can be removed by 3 2\\ncompositionoftheresultant filtration. Thus, filtrate will be obtained Ans. (b)\\nsolutionis [AIEEE2004] in soft water. Among the given salts\\nMg(HCO) \\uf8e7→Mg(OH) ↓+2CO FeCl is acidic in naturei.e., have acidic\\n(a) CHCOOCH +NaCl 32 2 2 3\\n3 2 5 Temporary hardness solution as it is the salt of weak base and\\n(b) CHCOONa+CH OH\\n3 2 5 Ca(HCO) \\uf8e7→CaCO ↓+CO +2HO strong acid.\\n(c) CHCOCl+CH OH+NaOH 32 3 2 2\\n(d) CH3 Cl+CH2 CO5 ONa K spofMg(OH) 2>K spofMgCO 3 A wl e(C aN k ) a3 ca idn d aP ndb ( wCH ea3C k O bO as) 2 ea .re the salts of\\n3 2 5 and hence,Mg(OH) precipitation first.\\nAns. (a) 2 CHCOOKis the salt of strong base and\\n3\\nAqueousNaClisneutral,hencethereis 67 ThepHofa0.02MNH Clsolution weak acid.\\n4\\nnoreactionbetweenethylacetateand\\nwillbe[GivenK (NH\\nOH)=10−5\\nand\\nHence, the solution ofCH 3COOKwill be\\naqueousNaCl. b 4 most basic because of the following\\nlog2=0.301]\\n[2019, 10 April Shift-II]\\nreaction. -\\nTOPIC 5\\n(a) 4.65 (b) 2.65 CH 3COOK+H 2O CH 3COOH\\n(c) 5.35 (d) 4.35 (Weakacid)\\n+ KOH\\nHydrolsis of Salts Ans. (c) (Strongbase)\\n69 pHof0.005Mcalciumacetate\\n66 Givenbelowaretwostatements: K (Ne Hy 4 I Od He )a aN ndH 4 sC trl ois n ga s aa cl it d o (Hf w Cle ).a Ok n base (pK a ofCH 3COOH=4.74)is\\nOneislabelledasAssertion(A)and hydrolysis,NH 4Clwill produce an acidic [AIEEE2002]\\ntheotherlabelledasReason(R). solution (pH<7) and the expression of pH (a) 7.04 (b) 9.37\\nof the solution is\\nAssertion(A)During the boiling of (c) 9.26 (d) 8.37\\nwater having temporary hardness, pH=7− 1 (pK +logC) Ans. (a)\\nMg(HCO ) isconverted toMgCO . 2 b Calcium acetate is a salt of weak acid\\n3 2 3 Given,K (NHOH)=10−5 and weak base.\\nReason(R)The solubility product b 4\\nofMg(OH) is greater than that of\\n∴ pK b=−logK b=−log(10−5)=5 0.005 M calcium acetate,(CH 3COO) 2Ca\\nMgCO .\\n2 C=concentrationofsaltsolution=0.02M (CH 3COO) 2Ca→ Ca2+ + 2CH 3COO−\\n3 =2×10−2M 0.005M (2×0.005=0.01)\\nIn the light of the above Now, pH=7− 1 (pK +logC) ∴ [CHCOO−]=0.01M\\nstatements, choose the most 2 b 3\\nCHCOO−+HOrCHCOOH\\nappropriate answer from the On substituting the given values in above 3 2 3\\n+ OH–\\noptions given below equation, we get\\n(a) Both (A) and (R) are true but (R) is not =7− 1 [5+log(2×10−2)] pH=7+ pK a +logC Alkaline\\nthe correct explanation of (A). 2 2 2\\n(b) (A) is true but (R) is false. =7− 1 [5+log2−2] =7+2.37+log0.01\\n(c) Both A and R are true and R is the 2 2\\ncorrect explanation of (A). =7− 1 [5+0.301−2] =7+2.37−2.30\\n(d) (A) is false but (R) is true. 2 =7.04\\n[2021, 18 March Shift-I] =7−1.65=5.35\\n'"
            ],
            "application/vnd.google.colaboratory.intrinsic+json": {
              "type": "string"
            }
          },
          "metadata": {},
          "execution_count": 5
        }
      ]
    },
    {
      "cell_type": "code",
      "source": [
        "def parse_extracted_text(text):\n",
        "    data = []\n",
        "    chapter_name = ''\n",
        "    topic_name = ''\n",
        "    q_id = 1\n",
        "\n",
        "    lines = text.split('\\n')\n",
        "    for i,line in enumerate(lines):\n",
        "        line = line.strip()\n",
        "\n",
        "        # Check for topic name (assuming it starts with \"TOPIC\")\n",
        "        if line.startswith('TOPIC'):\n",
        "            topic_name = lines[i+1]\n",
        "            continue\n",
        "\n",
        "        # Check for question and its year (assuming it starts with a number and a dot)\n",
        "        question_match = re.match(r'^(\\d+)\\.\\s+(.+)', line)\n",
        "        if question_match:\n",
        "            q_id_str = question_match.group(1)\n",
        "            q_text = question_match.group(2)\n",
        "            year_match = re.search(r'\\[(\\d{4}), (.+?) Shift-\\d\\]', line) #[2021, 25 July Shift-II] = this is our sample\n",
        "            year = year_match.group(1) if year_match else None\n",
        "            data.append([q_id, q_text, year, topic_name, chapter_name])\n",
        "            q_id += 1\n",
        "\n",
        "    df = pd.DataFrame(data, columns=['q_id', 'q_text', 'year', 'topic_name', 'chapter_name'])\n",
        "    return df\n"
      ],
      "metadata": {
        "id": "SSJzXbH8Pa6q"
      },
      "execution_count": 7,
      "outputs": []
    },
    {
      "cell_type": "markdown",
      "source": [
        "Experimentation:"
      ],
      "metadata": {
        "id": "r_wxc_fKVKIN"
      }
    },
    {
      "cell_type": "code",
      "source": [
        "lines = text.split('\\n')\n",
        "for i,line in enumerate(lines):\n",
        "    line = line.strip()\n",
        "    # print(line)\n",
        "\n",
        "    # Check for chapter name (assuming it starts with a number and is in a large font)\n",
        "    chapter_match = re.match(r'^\\d+\\s+(.+)', line)\n",
        "    # print(chapter_match)\n",
        "    # if chapter_match:\n",
        "    #     chapter_name = chapter_match.group(1)\n",
        "    #     continue\n",
        "\n",
        "    # Check for topic name (assuming it starts with \"TOPIC\")\n",
        "    if line.startswith('TOPIC'):\n",
        "        print(i)\n",
        "        topic_name = lines[i+2]\n",
        "        print(topic_name)\n",
        "\n",
        "        continue\n",
        "# comment\n",
        "\"\"\"\n",
        "it is giving ## Ostwald’s Dilution Law ## as correct but not other topic.\n",
        "i think extracted text is not as sturctured as expected or as structured as in original pdf\n",
        "\"\"\"\n",
        "print(\"-\"*50)"
      ],
      "metadata": {
        "colab": {
          "base_uri": "https://localhost:8080/"
        },
        "id": "OdMNzNqKQAv0",
        "outputId": "b567ae32-1daa-4f10-923c-29d2db52db10"
      },
      "execution_count": 30,
      "outputs": [
        {
          "output_type": "stream",
          "name": "stdout",
          "text": [
            "3\n",
            "Ostwald’s Dilution Law acid is [HCl]=0.1M\n",
            "220\n",
            ")=1.9×10−12M3\n",
            "802\n",
            "pH, Buffer and Indicator 1=log 3 pK =5.23(HPO )\n",
            "1318\n",
            "(c) 5.35 (d) 4.35 (Weakacid)\n",
            "--------------------------------------------------\n"
          ]
        }
      ]
    },
    {
      "cell_type": "code",
      "source": [],
      "metadata": {
        "id": "XVcoaIY1VSal"
      },
      "execution_count": null,
      "outputs": []
    },
    {
      "cell_type": "markdown",
      "source": [
        "Code execution:"
      ],
      "metadata": {
        "id": "-0Q9XuQnVPKj"
      }
    },
    {
      "cell_type": "code",
      "source": [
        "df = parse_extracted_text(extracted_text)\n",
        "\n",
        "# df.to_csv('questions_dataset.csv', index=False)"
      ],
      "metadata": {
        "id": "EE9gELNVPuwU"
      },
      "execution_count": 8,
      "outputs": []
    },
    {
      "cell_type": "code",
      "source": [
        "df"
      ],
      "metadata": {
        "colab": {
          "base_uri": "https://localhost:8080/",
          "height": 89
        },
        "id": "PVNpVbetP1kN",
        "outputId": "068e2a3e-367d-4b4b-b8f8-031578482f40"
      },
      "execution_count": 9,
      "outputs": [
        {
          "output_type": "execute_result",
          "data": {
            "text/plain": [
              "Empty DataFrame\n",
              "Columns: [q_id, q_text, year, topic_name, chapter_name]\n",
              "Index: []"
            ],
            "text/html": [
              "\n",
              "  <div id=\"df-1461d47b-6d65-4402-bb51-a93b86a3280c\" class=\"colab-df-container\">\n",
              "    <div>\n",
              "<style scoped>\n",
              "    .dataframe tbody tr th:only-of-type {\n",
              "        vertical-align: middle;\n",
              "    }\n",
              "\n",
              "    .dataframe tbody tr th {\n",
              "        vertical-align: top;\n",
              "    }\n",
              "\n",
              "    .dataframe thead th {\n",
              "        text-align: right;\n",
              "    }\n",
              "</style>\n",
              "<table border=\"1\" class=\"dataframe\">\n",
              "  <thead>\n",
              "    <tr style=\"text-align: right;\">\n",
              "      <th></th>\n",
              "      <th>q_id</th>\n",
              "      <th>q_text</th>\n",
              "      <th>year</th>\n",
              "      <th>topic_name</th>\n",
              "      <th>chapter_name</th>\n",
              "    </tr>\n",
              "  </thead>\n",
              "  <tbody>\n",
              "  </tbody>\n",
              "</table>\n",
              "</div>\n",
              "    <div class=\"colab-df-buttons\">\n",
              "\n",
              "  <div class=\"colab-df-container\">\n",
              "    <button class=\"colab-df-convert\" onclick=\"convertToInteractive('df-1461d47b-6d65-4402-bb51-a93b86a3280c')\"\n",
              "            title=\"Convert this dataframe to an interactive table.\"\n",
              "            style=\"display:none;\">\n",
              "\n",
              "  <svg xmlns=\"http://www.w3.org/2000/svg\" height=\"24px\" viewBox=\"0 -960 960 960\">\n",
              "    <path d=\"M120-120v-720h720v720H120Zm60-500h600v-160H180v160Zm220 220h160v-160H400v160Zm0 220h160v-160H400v160ZM180-400h160v-160H180v160Zm440 0h160v-160H620v160ZM180-180h160v-160H180v160Zm440 0h160v-160H620v160Z\"/>\n",
              "  </svg>\n",
              "    </button>\n",
              "\n",
              "  <style>\n",
              "    .colab-df-container {\n",
              "      display:flex;\n",
              "      gap: 12px;\n",
              "    }\n",
              "\n",
              "    .colab-df-convert {\n",
              "      background-color: #E8F0FE;\n",
              "      border: none;\n",
              "      border-radius: 50%;\n",
              "      cursor: pointer;\n",
              "      display: none;\n",
              "      fill: #1967D2;\n",
              "      height: 32px;\n",
              "      padding: 0 0 0 0;\n",
              "      width: 32px;\n",
              "    }\n",
              "\n",
              "    .colab-df-convert:hover {\n",
              "      background-color: #E2EBFA;\n",
              "      box-shadow: 0px 1px 2px rgba(60, 64, 67, 0.3), 0px 1px 3px 1px rgba(60, 64, 67, 0.15);\n",
              "      fill: #174EA6;\n",
              "    }\n",
              "\n",
              "    .colab-df-buttons div {\n",
              "      margin-bottom: 4px;\n",
              "    }\n",
              "\n",
              "    [theme=dark] .colab-df-convert {\n",
              "      background-color: #3B4455;\n",
              "      fill: #D2E3FC;\n",
              "    }\n",
              "\n",
              "    [theme=dark] .colab-df-convert:hover {\n",
              "      background-color: #434B5C;\n",
              "      box-shadow: 0px 1px 3px 1px rgba(0, 0, 0, 0.15);\n",
              "      filter: drop-shadow(0px 1px 2px rgba(0, 0, 0, 0.3));\n",
              "      fill: #FFFFFF;\n",
              "    }\n",
              "  </style>\n",
              "\n",
              "    <script>\n",
              "      const buttonEl =\n",
              "        document.querySelector('#df-1461d47b-6d65-4402-bb51-a93b86a3280c button.colab-df-convert');\n",
              "      buttonEl.style.display =\n",
              "        google.colab.kernel.accessAllowed ? 'block' : 'none';\n",
              "\n",
              "      async function convertToInteractive(key) {\n",
              "        const element = document.querySelector('#df-1461d47b-6d65-4402-bb51-a93b86a3280c');\n",
              "        const dataTable =\n",
              "          await google.colab.kernel.invokeFunction('convertToInteractive',\n",
              "                                                    [key], {});\n",
              "        if (!dataTable) return;\n",
              "\n",
              "        const docLinkHtml = 'Like what you see? Visit the ' +\n",
              "          '<a target=\"_blank\" href=https://colab.research.google.com/notebooks/data_table.ipynb>data table notebook</a>'\n",
              "          + ' to learn more about interactive tables.';\n",
              "        element.innerHTML = '';\n",
              "        dataTable['output_type'] = 'display_data';\n",
              "        await google.colab.output.renderOutput(dataTable, element);\n",
              "        const docLink = document.createElement('div');\n",
              "        docLink.innerHTML = docLinkHtml;\n",
              "        element.appendChild(docLink);\n",
              "      }\n",
              "    </script>\n",
              "  </div>\n",
              "\n",
              "\n",
              "  <div id=\"id_565a7bfa-0e51-43b2-9b60-5088a29dfb02\">\n",
              "    <style>\n",
              "      .colab-df-generate {\n",
              "        background-color: #E8F0FE;\n",
              "        border: none;\n",
              "        border-radius: 50%;\n",
              "        cursor: pointer;\n",
              "        display: none;\n",
              "        fill: #1967D2;\n",
              "        height: 32px;\n",
              "        padding: 0 0 0 0;\n",
              "        width: 32px;\n",
              "      }\n",
              "\n",
              "      .colab-df-generate:hover {\n",
              "        background-color: #E2EBFA;\n",
              "        box-shadow: 0px 1px 2px rgba(60, 64, 67, 0.3), 0px 1px 3px 1px rgba(60, 64, 67, 0.15);\n",
              "        fill: #174EA6;\n",
              "      }\n",
              "\n",
              "      [theme=dark] .colab-df-generate {\n",
              "        background-color: #3B4455;\n",
              "        fill: #D2E3FC;\n",
              "      }\n",
              "\n",
              "      [theme=dark] .colab-df-generate:hover {\n",
              "        background-color: #434B5C;\n",
              "        box-shadow: 0px 1px 3px 1px rgba(0, 0, 0, 0.15);\n",
              "        filter: drop-shadow(0px 1px 2px rgba(0, 0, 0, 0.3));\n",
              "        fill: #FFFFFF;\n",
              "      }\n",
              "    </style>\n",
              "    <button class=\"colab-df-generate\" onclick=\"generateWithVariable('df')\"\n",
              "            title=\"Generate code using this dataframe.\"\n",
              "            style=\"display:none;\">\n",
              "\n",
              "  <svg xmlns=\"http://www.w3.org/2000/svg\" height=\"24px\"viewBox=\"0 0 24 24\"\n",
              "       width=\"24px\">\n",
              "    <path d=\"M7,19H8.4L18.45,9,17,7.55,7,17.6ZM5,21V16.75L18.45,3.32a2,2,0,0,1,2.83,0l1.4,1.43a1.91,1.91,0,0,1,.58,1.4,1.91,1.91,0,0,1-.58,1.4L9.25,21ZM18.45,9,17,7.55Zm-12,3A5.31,5.31,0,0,0,4.9,8.1,5.31,5.31,0,0,0,1,6.5,5.31,5.31,0,0,0,4.9,4.9,5.31,5.31,0,0,0,6.5,1,5.31,5.31,0,0,0,8.1,4.9,5.31,5.31,0,0,0,12,6.5,5.46,5.46,0,0,0,6.5,12Z\"/>\n",
              "  </svg>\n",
              "    </button>\n",
              "    <script>\n",
              "      (() => {\n",
              "      const buttonEl =\n",
              "        document.querySelector('#id_565a7bfa-0e51-43b2-9b60-5088a29dfb02 button.colab-df-generate');\n",
              "      buttonEl.style.display =\n",
              "        google.colab.kernel.accessAllowed ? 'block' : 'none';\n",
              "\n",
              "      buttonEl.onclick = () => {\n",
              "        google.colab.notebook.generateWithVariable('df');\n",
              "      }\n",
              "      })();\n",
              "    </script>\n",
              "  </div>\n",
              "\n",
              "    </div>\n",
              "  </div>\n"
            ],
            "application/vnd.google.colaboratory.intrinsic+json": {
              "type": "dataframe",
              "variable_name": "df",
              "repr_error": "Out of range float values are not JSON compliant: nan"
            }
          },
          "metadata": {},
          "execution_count": 9
        }
      ]
    },
    {
      "cell_type": "markdown",
      "source": [
        "### TEXT sample"
      ],
      "metadata": {
        "id": "dMD6DViPPoJZ"
      }
    },
    {
      "cell_type": "code",
      "source": [
        "extracted_text = \"\"\"\n",
        "08\n",
        "Ionic Equilibrium\n",
        "Ans. (c) Ans. (2)\n",
        "TOPIC 1\n",
        "The overall dissociation constant of the Given,[HA]=0.01\n",
        "Ostwald’s Dilution Law acid is [HCl]=0.1M\n",
        "01 ThepHofa0.1molarsolutionof K = =K 1.1 0× ×K 102 −5×5.0×10−10=5×10−15 W dish se on c s iatr to en dg , acid (HCl) is completely\n",
        "theacidHQis3.Thevalueofthe HCl⟶H+(aq)+Cl−(aq)\n",
        "ionisationconstant,K oftheacid 0.1 0.1 0.1\n",
        "a TOPIC 2 ¾\n",
        "is [AIEEE2012] For weak acid, dissociation is very less,\n",
        "(a) 3×10−1 (b) 1×10−3 Acid Base Concepts HA H+(aq)+A−(aq)\n",
        "(c)\n",
        "1×10−5\n",
        "(d)\n",
        "1×10−7\n",
        "t=0 0.01 0.1 0\n",
        "Ans. (c) 03 AssumingthatBa(OH) is t=t 0.01−0.01α 0.1+0.01α 0.01α\n",
        "2 eq\n",
        "[HH +Q ]==H+ K a+ CQ b− yOstwald’s c soo lm utp iole nte ul ny dio en ri ts he ed gin iveaq nu c +e oo nu ds itions K a =[H [+ H] A[A ]−] =2×10−6\n",
        "dilution law theconcentrationofH O ionsin\n",
        "3\n",
        "[H+]=10−pH=10−3M 0.005Maqueoussolutionof ⇒ (0.1+0.01α)(0.01α) =2×10−6\n",
        "C=0.1 M Ba(OH) at298Kis…… (0.01−0.01α)\n",
        "2\n",
        "Thus, 10−3= K ×0.1 ×10−12molL−1.(Nearestinteger) As0.01α<<0.1[H+]=0.1\n",
        "a\n",
        "10−6=K ×0.1 ⇒K =10−5 [2021, 25 July Shift-II] and0.01α<<0.01[HA]=0.01\n",
        "a a\n",
        "Alternate method\n",
        "Ans. (1)\n",
        "∴\n",
        "2×10−6=(0.1)(0.01α)\n",
        "HQ 1 H+ + Q− Ba(OH) 2is completelyionisedin aqueous 0.01\n",
        "solution. ⇒ α=2×10−5\n",
        "0.1M 0 0 Ba(OH) ⟶ Ba2+ +2OH−\n",
        "Initial concentration\n",
        "2\n",
        "[Ba(OH) ]=0.005M\n",
        "⇒ x=2\n",
        "Given,pH=3, this suggests[H+]=10−3M ⇒ 2×0.005 ⇒0.2 01 05 Thedecreasingorderofelectrical\n",
        "at equilibrium. [OH−]=10−2\n",
        "Thus,[Q−]at equilibrium=10−3M conductivityofthefollowing\n",
        "At 298 K, in aqueous solution;\n",
        "Hence, [HQ]=0.1M-10-3M [HO+][OH−] =10−14 aqueoussolutionis\n",
        "K a f Kor\n",
        "a\n",
        "t =he\n",
        "[\n",
        "Ha +b [H]o≈ Q[v Qe ]0 −. r1 ]eM a =c [t 1i[ 0oQ n\n",
        "−\n",
        "[1\n",
        "3\n",
        "00 i ]s .−\n",
        "[\n",
        "1g 13 ]0iM v −e< 3]n< b< y0.1M] 3 [[ HH 33 OO ++ ]] == 11 10 ×0− − 11 2 04 −= 121 M0−12 00 0.. .11\n",
        "1\n",
        "MM\n",
        "M\n",
        "af bo c er e nm t zi oi cc\n",
        "i c\n",
        "aa cc ai ci d [d\n",
        "2i d\n",
        "( 0( BA\n",
        "(\n",
        "1) C) , 9,\n",
        ") ,.\n",
        "12 April Shift-II]\n",
        "⇒ K =1×10−5 04 0.01molesofaweakacid (a)A>C>B (b)C>B>A\n",
        "a\n",
        "HA(K =2.0×10–6)isdissolvedin (c)A>B>C (d)C>A>B\n",
        "a\n",
        "02 Thefirstandseconddissociation 1.0Lof 0.1MHClsolution.The Ans. (a)\n",
        "constantsofanacidH Aare degreeofdissociationofHA Electrical conductivity of the given\n",
        "1.0×10−5 and5.0×10−2 10, s……×10−5 (Roundofftothe aqueous solutions depends on the\n",
        "respectively.Theoverall nearestinteger). degree of ionisation. Degree of\n",
        "ionisation is directly proportional to the\n",
        "dissociationconstantoftheacid [Neglect volume change on\n",
        "acidic strength. Electron withdrawing\n",
        "willbe [AIEEE2007] adding HA.Assume degree of groups (EWGs) increases the stability of\n",
        "(a) 5.0×10−5 (b) 5.0×1015 dissociation << 1] the carboxylate ion by dispersing the\n",
        "(c) 5.0×10−15 (d) 0.2×105 [2021, 17 March Shift-I] negative charge through resonance\n",
        "97\n",
        "Ionic Equilibrium\n",
        "effect on theconjugatewhileelectron SiCl - Although this compound does not conjugate bases of the given acid is\n",
        "4\n",
        "donatinggroups(EDGs)decreases the have incomplete octet but it shows the opposite to their acidic strength.The\n",
        "stability of the carboxylate ion by tendency to accept lone pair of basic strength of the conjugate bases of\n",
        "intensifying the negative charge. electrons in its vacantd-orbital. This the given acids follows the order\n",
        "O\n",
        "tendency ofSiCl 4is visible in following HSO− 3<H 2O<SO2 4−<CO2 3−\n",
        "EWG C s reaction. Hence, the acidic strength follows the\n",
        "O Cl Cl order\n",
        "Acidityofcarboxylic H HSO F>HO+>HSO−>HCO−\n",
        "acidsincreasesdue Si +H 2O Si O H 3 3 4 3\n",
        "wto ithth de rap wr ie ns gen gc roe uo pf se (l Eec Wtr Go sn ) Cl Cl Cl Cl Cl Cl 09 WhatistheconjugatebaseofOH− ?\n",
        "Lonepairacceptance [AIEEE2005]\n",
        "sO\n",
        "ind-orbital (a)\n",
        "O2−\n",
        "(b)\n",
        "O−\n",
        "EDG C Cl (c) HO (d) O\n",
        "O 2 2\n",
        "Acidityofcarboxylic Si OH+HCl Ans. (a)\n",
        "acidsdecreasesdue Cl Conjugate base is formed by loss ofH+.\n",
        "elect to roth ne dp or ne as te inn gce gro of\n",
        "ups\n",
        "Cl OH−⟶ O2− +H+\n",
        "Thus option (b) and (d) both appear as Conjugate\n",
        "The correct order of acidic strength and base\n",
        "correct but most suitable answer is (d) as the condition of a proper Lewis acid is O2−is the conjugate base ofOH−.\n",
        "HCO AOH>PhC COOH>CH 3C BOOH more well defined inBCl 3andAlCl\n",
        "\"\"\"\n",
        "\n"
      ],
      "metadata": {
        "id": "kt_K6EsFPi8t"
      },
      "execution_count": 6,
      "outputs": []
    }
  ]
}
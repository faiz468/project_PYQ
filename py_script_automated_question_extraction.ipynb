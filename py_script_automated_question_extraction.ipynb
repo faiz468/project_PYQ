{
  "nbformat": 4,
  "nbformat_minor": 0,
  "metadata": {
    "colab": {
      "provenance": []
    },
    "kernelspec": {
      "name": "python3",
      "display_name": "Python 3"
    },
    "language_info": {
      "name": "python"
    }
  },
  "cells": [
    {
      "cell_type": "code",
      "source": [
        "!pip install pymupdf"
      ],
      "metadata": {
        "colab": {
          "base_uri": "https://localhost:8080/"
        },
        "id": "Y2IOPpkUIEFD",
        "outputId": "07140076-0133-4ac4-c7d7-270d0e576dce"
      },
      "execution_count": 1,
      "outputs": [
        {
          "output_type": "stream",
          "name": "stdout",
          "text": [
            "Collecting pymupdf\n",
            "  Downloading PyMuPDF-1.24.9-cp310-none-manylinux2014_x86_64.whl.metadata (3.4 kB)\n",
            "Collecting PyMuPDFb==1.24.9 (from pymupdf)\n",
            "  Downloading PyMuPDFb-1.24.9-py3-none-manylinux2014_x86_64.manylinux_2_17_x86_64.whl.metadata (1.4 kB)\n",
            "Downloading PyMuPDF-1.24.9-cp310-none-manylinux2014_x86_64.whl (3.5 MB)\n",
            "\u001b[2K   \u001b[90m━━━━━━━━━━━━━━━━━━━━━━━━━━━━━━━━━━━━━━━━\u001b[0m \u001b[32m3.5/3.5 MB\u001b[0m \u001b[31m38.2 MB/s\u001b[0m eta \u001b[36m0:00:00\u001b[0m\n",
            "\u001b[?25hDownloading PyMuPDFb-1.24.9-py3-none-manylinux2014_x86_64.manylinux_2_17_x86_64.whl (15.9 MB)\n",
            "\u001b[2K   \u001b[90m━━━━━━━━━━━━━━━━━━━━━━━━━━━━━━━━━━━━━━━━\u001b[0m \u001b[32m15.9/15.9 MB\u001b[0m \u001b[31m77.1 MB/s\u001b[0m eta \u001b[36m0:00:00\u001b[0m\n",
            "\u001b[?25hInstalling collected packages: PyMuPDFb, pymupdf\n",
            "Successfully installed PyMuPDFb-1.24.9 pymupdf-1.24.9\n"
          ]
        }
      ]
    },
    {
      "cell_type": "code",
      "source": [
        "import pymupdf\n",
        "import pandas as pd\n",
        "import re\n",
        "\n",
        "def extract_text_with_pymupdf(pdf_path):\n",
        "    text = ''\n",
        "    doc = pymupdf.open(pdf_path)\n",
        "    for page_num in range(len(doc)):\n",
        "        page = doc.load_page(page_num)\n",
        "        text += page.get_text(\"text\") + '\\n\\n'\n",
        "    return text\n",
        "\n",
        "pdf_path = '/content/drive/MyDrive/Colab Notebooks/ProjectPYQ/Chemistry_PYQ/Pages from chemistry_pyq-8.pdf'   # Replace with your PDF file path\n",
        "text = extract_text_with_pymupdf(pdf_path)"
      ],
      "metadata": {
        "id": "Id9lemcPH6IE"
      },
      "execution_count": 2,
      "outputs": []
    },
    {
      "cell_type": "code",
      "source": [
        "text"
      ],
      "metadata": {
        "colab": {
          "base_uri": "https://localhost:8080/",
          "height": 122
        },
        "id": "BbUIS-cAISp2",
        "outputId": "d5f3a32a-2620-454c-e555-8e0665cf2f3b"
      },
      "execution_count": 3,
      "outputs": [
        {
          "output_type": "execute_result",
          "data": {
            "text/plain": [
              "'TOPIC 1\\nOstwald’s Dilution Law\\n01 The pH of a 0.1 molar solution of\\nthe acid HQ is 3. The value of the\\nionisation constant,K a of the acid\\nis\\n[AIEEE 2012]\\n(a) 3\\n10 1\\n×\\n−\\n(b) 1\\n10 3\\n×\\n−\\n(c) 1\\n10 5\\n×\\n−\\n(d) 1\\n10 7\\n×\\n−\\nAns. (c)\\nHQ\\nH\\nQ\\n=\\n+\\n+\\n−\\n[H ]\\n+ =\\nK C\\na\\nby Ostwald’s\\ndilution law\\n[\\n]\\nH\\nM\\n+\\n−\\n−\\n=\\n=\\n10\\n10 3\\npH\\nC = 0.1 M\\nThus,\\n10 3\\n−=\\n×\\nK a\\n0.1\\n10 6\\n−=\\n×\\nK a\\n0.1 ⇒K a =\\n−\\n10 5\\nAlternate method\\nHQ\\nQ\\n0.1 M\\nH+\\n1\\n0\\n0\\n+\\n−\\nInitial concentration\\nGiven, pH= 3, this suggests [H ]\\n+ =\\n−\\n10 3 M\\nat equilibrium.\\nThus, [\\n]\\nQ−at equilibrium =\\n−\\n10 3 M\\nHence, [\\n]\\nHQ = 0.1 M - 10\\nM\\n-3\\n≈0.1 M\\n[\\nQ10 3\\n−\\n<<<\\nM\\nM\\n0.1 ]\\nK a for the above reaction is given by\\nK\\nQ\\nQ\\na\\nH\\nH\\n=\\n+\\n−\\n[\\n] [\\n]\\n[\\n]\\n=\\n−\\n−\\n[\\n] [\\n]\\n10\\n10\\n3\\n3\\n[0.1]\\n⇒K a = ×\\n−\\n1\\n10 5\\n02 The first and second dissociation\\nconstants of an acidH A\\n2\\nare\\n1.0 ×\\n−\\n10 5 and 5.0\\n10\\n,\\n10\\n×\\n−\\nrespectively. The overall\\ndissociation constant of the acid\\nwill be\\n[AIEEE 2007]\\n(a) 5.0\\n10 5\\n×\\n−\\n(b) 5.0 × 1015\\n(c) 5.0 ×\\n−\\n10 15\\n(d) 0.2 × 105\\nAns. (c)\\nThe overall dissociation constant of the\\nacid is\\nK\\nK\\nK\\n=\\n×\\n1\\n2\\n=\\n×\\n×\\n×\\n−\\n−\\n1.0\\n10\\n5.0\\n10\\n5\\n10 =\\n×\\n−\\n5\\n10 15\\nTOPIC 2\\nAcid Base Concepts\\n03 Assuming thatBa(OH) 2 is\\ncompletely ionised in aqueous\\nsolution under the given conditions\\nthe concentration ofH O\\n3\\n+ ions in\\n0.005 M aqueous solution of\\nBa(OH) 2 at 298 K is ……\\n×\\n−\\n−\\n10 12mol L 1. (Nearest integer)\\n[2021, 25 July Shift-II]\\nAns. (1)\\nBa(OH)2 is completely ionised in aqueous\\nsolution.\\nBa(OH)\\nBa\\n2OH\\n2\\n2\\n\\uf8e7→\\n+\\n+\\n−\\n[\\n(\\n) ]\\n.\\nBa OH\\nM\\n2\\n0005\\n=\\n⇒2 × 0.005 ⇒0.01\\n[OH ]\\n−\\n−\\n= 10 2\\nAt 298 K,  in aqueous solution ;\\n[H O ] [OH ]\\n3\\n+\\n−\\n−\\n= 10\\n14\\n[H O ]\\n3\\n+\\n−\\n−\\n−\\n=\\n=\\n10\\n10\\n10\\n14\\n2\\n12\\n[H O ]\\n3\\n+\\n−\\n= ×\\n1\\n10\\n12 M\\n04 0.01 moles of a weak acid\\nHA K a\\n(\\n=2.0 10 )\\n–6\\n×\\nis dissolved in\\n1 0\\n. L of 0 1\\n. M HCl solution. The\\ndegree of dissociation of HA\\ns …… ×10 5\\n−(Round off to the\\nnearest integer).\\n[Neglect volume change on\\nadding HA. Assume degree of\\ndissociation << 1]\\n[2021, 17 March Shift-I]\\nAns. (2)\\nGiven, [H\\n0.01\\nA] =\\n[HCl]\\n0.1 M\\n=\\nWhen strong acid (HCl) is completely\\ndissociated,\\nHCl\\nH (\\n)\\nCl (\\n)\\n0.1\\n0.1\\n0.1\\n+\\n\\uf8e7→\\n+\\n−\\naq\\naq\\nFor weak acid, dissociation is very less,\\nH\\nH\\nA\\naq\\nA aq\\n¾\\n+(\\n)\\n(\\n)\\n+\\n−\\nt = 0\\n0.01\\n0.1\\n0\\nt\\nt\\n=\\neq\\n0.01\\n0.01\\n−\\nα\\n0.1\\n0.01\\n+\\nα\\n0.01α\\nK\\nA\\nA\\na =\\n−\\n[H ] [\\n]\\n[H ]\\n+\\n=\\n×\\n−\\n2\\n10\\n6\\n⇒(\\n) ( .\\n)\\n)\\n0.1\\n0.01\\n(0.01\\n0.01\\n+\\n−\\nα\\nα\\nα\\n001\\n=\\n×\\n−\\n2\\n10 6\\nAs001\\n0 1\\n.\\n.\\nα <<\\n[H ]\\n+ = 0 1\\n.\\nand001\\n001\\n.\\n.\\nα <<\\n[HA]\\n.\\n= 001\\n∴\\n2\\n10\\n6\\n×\\n=\\n−\\n(0.1) (0.01\\n0.01\\nα)\\n⇒\\nα =\\n×\\n−\\n2\\n10\\n5\\n⇒\\nx = 2\\n05 The decreasing order of electrical\\nconductivity of the following\\naqueous solution is\\n0.1 M formic acid (A),\\n0.1 M acetic acid (B),\\n0.1 M benzoic acid (C).\\n[2019, 12 April Shift-II]\\n(a) A >C > B\\n(b)C > B > A\\n(c) A > B >C\\n(d)C > A > B\\nAns. (a)\\nElectrical conductivity of the given\\naqueous solutions depends on the\\ndegree of ionisation. Degree of\\nionisation is directly proportional to the\\nacidic strength. Electron withdrawing\\ngroups (EWGs) increases the stability of\\nthe carboxylate ion by dispersing the\\nnegative charge through resonance\\nIonic Equilibrium\\n08\\n\\n\\neffect on the conjugate while electron\\ndonating groups (EDGs) decreases the\\nstability of the carboxylate ion by\\nintensifying the negative charge.\\nThe correct order of acidic strength and\\nelectrical conductivity is as follows:\\nHCOOH PhCOOH\\nCH COOH\\n3\\nA\\nC\\nB\\n>\\n>\\n06 Which of the following are Lewis\\nacids?\\n[JEE Main 2018]\\n(a)PH3 andBCl3\\n(b) AlCl3 and SiCl4\\n(c)PH3 and SiCl4\\n(d)BCl3 and AlCl3\\nAns. (d)\\nLewis acids are defined as,\\n‘‘Electron deficient compounds which\\nhave the ability to accept atleast one lone\\npair.’’\\nThe compound given are\\nPH3 Octet complete although P has\\nvacant3d-orbital but does not have the\\ntendency to accept lone pair in it. Hence,\\nit cannot be considered as Lewis acid.\\nBCl3 Incomplete octet with following\\norbital picture.\\nHence, vacant p-orbital of B can accept\\none lone pair thus it can be considered\\nas Lewis acid.\\nAlCl3 -Similar condition is visible in AlCl3\\nas well i.e. Al\\n( Valence orbital only) =\\nHence this compound can also be\\nconsidered as Lewis acid.\\nSiCl4 - Although this compound does not\\nhave incomplete octet but it shows the\\ntendency to accept lone pair of\\nelectrons in its vacantd-orbital. This\\ntendency of SiCl4 is visible in following\\nreaction.\\nThus option (b) and (d) both appear as\\ncorrect but most suitable answer is (d) as\\nthe condition of a proper Lewis acid is\\nmore well defined inBCl3 and AlCl3 .\\n07 Three reactions involvingH PO\\n2\\n4\\n–\\nare given below\\n[AIEEE 2010]\\nI. H PO + H O\\nH O\\n3\\n4\\n2\\n3\\n+\\n\\uf8e7→\\n+ H PO\\n2\\n4\\n–\\nII. H PO + H O\\nHPO\\n2\\n4\\n–\\n2\\n4\\n2–\\n\\uf8e7→\\n+ H O\\n3\\n+\\nIII. H PO + OH\\nH PO + O\\n2\\n4\\n–\\n–\\n3\\n4\\n2–\\n\\uf8e7→\\nIn which of the above doesH PO\\n2\\n4\\n–\\nact as an acid?\\n(a) II only\\n(b) I and II\\n(c) III only\\n(d) I only\\nAns. (a)\\nOnly in reaction (II),H PO\\n2\\n4\\n–, givesH+ to\\nH O\\n2 . Thus, behaves as an acid.\\n08 Four species are listed below\\nI. HCO3\\n–\\nII.H O\\n3\\n+\\nIII. HSO4\\n–\\nIV.HSO F\\n3\\nWhich one of the following is the\\ncorrect sequence of their acid\\nstrength?\\n[AIEEE 2008]\\n(a) IV < II < III < I\\n(b) II < III < I < IV\\n(c) I < III < II < IV\\n(d) III < I < IV < II\\nAns. (c)\\nConjugate bases of the given species are\\nSpecies\\nConjugate base\\nHCO3\\n−\\nCO3\\n2−\\nH O\\n3\\n+\\nH O\\n2\\nHSO4\\n−\\nSO4\\n2−\\nHSO F\\n3\\nHSO3\\n−\\nSince, strong acid has a weak conjugate\\nbase. Thus, the basic strength of the\\nconjugate bases of the given acid is\\nopposite to their acidic strength.The\\nbasic strength of the conjugate bases of\\nthe given acids follows the order\\nHSO\\nH O < SO\\nCO\\n3\\n2\\n4\\n2\\n3\\n2\\n−\\n−\\n−\\n<\\n<\\nHence, the acidic strength follows the\\norder\\nHSO F\\nH O\\nHSO\\nHCO\\n3\\n3\\n+\\n4\\n3\\n>\\n>\\n>\\n−\\n−\\n09 What is the conjugate base ofOH ?\\n−\\n[AIEEE 2005]\\n(a) O2−\\n(b) O−\\n(c) H O\\n2\\n(d) O2\\nAns. (a)\\nConjugate base is formed by loss ofH+.\\nOH\\nO\\nH\\n2\\n+\\nConjugate\\nbase\\n−\\n−\\n\\uf8e7→\\n+\\nO2−is the conjugate base ofOH .\\n−\\n10 The conjugate base ofH PO\\n2\\n–\\n4 is\\n[AIEEE 2004]\\n(a) PO 4\\n3−\\n(b) P O\\n2\\n5\\n(c) H PO\\n3\\n4\\n(d) HPO 4\\n2−\\nAns. (d)\\nH PO\\n3\\n4 is a tribasic acid, thus ionises in\\nthree steps\\nI :H PO\\nH + H PO\\n3\\n4\\n+\\n2\\n4\\nr\\n−\\nII :H PO\\nH + HPO\\n2\\n4\\n+\\n4\\n2\\n−\\n−\\nr\\nIII :HPO\\nH + PO\\n4\\n2\\n+\\n4\\n3\\n−\\n−\\nr\\nConjugate base is formed when an acid\\nloses its proton. Thus,HPO4\\n2−is the\\nconjugate base ofH PO\\n2\\n4\\n−(which is an acid\\nin step II, but is the conjugate base of\\nH PO\\n3\\n4 in step I).\\n11 Which one of the following\\nsubstances has the highest proton\\naffinity ?\\n[AIEEE 2003]\\n(a) H O\\n2\\n(b) H S\\n2\\n(c) NH3\\n(d) PH3\\nAns. (c)\\nThe tendency to accept the proton by\\nthe donation of their lone pairs of\\nelectron is called proton affinity. This\\nproton affinity is also called basicity.\\nTherefore, the molecule which donates\\ntheir lone pairs electron more readily, is\\nsaid to be more basic. Since, N can easily\\ndonate their lone pairs of electrons than\\nO, S and P due to their smaller size and\\nlow electronegativity.\\nThus,NH3 possess the highest proton\\naffinity. On the other hand, due to higher\\nelectronegativity of O, it cannot donate\\ntheir electron pair easily while P possess\\na larger size, becomes less basic in\\nnature.\\nIonic Equilibrium\\n97\\nSi\\nCl\\nCl Cl\\nCl\\n+ H O\\n2\\nSi\\nCl\\nCl Cl\\nCl\\nO\\nH\\nH\\nSi\\nCl\\nCl Cl\\nOH + HCl\\nLone pair acceptance\\nin -orbital\\nd\\n3s\\n3p\\nVacant\\n-orbital\\np\\nUsed in bond\\nformation with Cl\\n3\\nvacant\\nd\\n1s\\n2s\\n2p\\nVacant\\n- orbital\\np\\nUsed in bond\\nformation with\\nCl having one electron\\neach from B and Cl\\nB-\\nEWG\\nC\\nO\\nO\\nEDG\\nC\\nO\\nO\\ns\\ns\\nAcidity of carboxylic\\nacids increases due\\nto the presence of electron\\nwithdrawing groups (EWGs)\\nAcidity of carboxylic\\nacids decreases due\\nto the presence of\\nelectron donating groups\\n\\n\\n12 Which one of the following species\\nacts as both Bronsted acid and\\nbase?\\n[AIEEE 2002]\\n(a) H PO\\n2\\n–\\n2\\n(b) HPO3\\n2–\\n(c) HPO4\\n2−\\n(d) All of these\\nAns. (c)\\nAccording to Bronsted Lowry concept of\\nacids and bases, an acid is a proton\\ndonor whereas a base is a proton\\nacceptor.\\nThus, according to this concept,HPO4\\n2−\\ncan easily donate a proton and also\\naccepts a proton on reaction with water.\\nHPO\\nH O\\nPO\\nH O\\n4\\n2\\n2\\n4\\n3\\n3\\n+\\n−\\n−\\n+\\n+\\nr\\nHPO\\nH O\\nH PO\\nOH\\n4\\n2\\n2\\n2\\n4\\n2\\n−\\n−\\n−\\n+\\n+\\nr\\nTOPIC 3\\nSolubility Product and\\nCommon Ion Effect\\n13 The molar solubility ofZn(OH) 2 in\\n0.1 M NaOH solution is x ×\\n−\\n10 18 M.\\nThe value of x is ……… (Nearest\\ninteger)\\n(Given; The solubility product of\\nZn(OH) 2 is2\\n10 20\\n×\\n−\\n).\\n[2021, 1 Sep Shift-II]\\nAns. (2)\\nZn(OH)\\nZn\\n2OH\\n2\\n2\\nq\\n+\\n−\\n+\\nS\\nS\\n2\\nDue to common-ion effect (presence of\\nNaOH) the concentration ofOH−will be\\n(2S +\\n≈\\n0.1\\n0.1\\n)\\n(\\nQ0 1\\n2\\n. > > S)\\n∴Solubility of product,\\nK\\nS\\nsp\\n0.1\\n=\\n×\\n(\\n)2\\n2\\n10 20\\n×\\n=\\n×\\n−\\n0.01\\nS\\n⇒\\nS =\\n×\\n−\\n2\\n10 20\\n0.01\\n=\\n×\\n−\\n2\\n10 18\\n∴\\nx = 2\\nHence, answer is 2.\\n14 A B\\n3\\n2 is a sparingly soluble salt of\\nmolar massM (g mol −1 ) and\\nsolubility xg L\\n1\\n−. The solubility\\nproduct satisfiesK sp =a x\\nM\\n\\uf8eb\\n\\uf8ed\\n\\uf8ec\\n\\uf8f6\\n\\uf8f8\\n\\uf8f7\\n5\\n. The\\nvalue ofa is .......... (Integer answer)\\n[2021, 31 Aug Shift-I]\\nAns. (108)\\nA B\\nA\\naq\\nB\\naq\\n3\\n2\\n2\\n3\\n3\\n2\\nq\\n+\\n−\\n+\\n(\\n)\\n(\\n)\\n3S\\n2S\\nK\\nA\\nB\\nsp =\\n+\\n−\\n[\\n] [\\n]\\n2\\n3\\n3\\n2\\nK\\nS\\nS\\nsp = (\\n) (\\n)\\n3\\n2\\n3\\n2 = 108\\n5\\nS\\nAlso,\\nS\\nx\\nm\\n=\\nK\\nx\\nm\\nsp =\\n\\uf8eb\\n\\uf8ed\\n\\uf8ec\\n\\uf8f6\\n\\uf8f8\\n\\uf8f7\\n108\\n5\\nGiven that,K\\na\\nx\\nm\\nsp =\\n\\uf8eb\\n\\uf8ed\\n\\uf8ec\\n\\uf8f6\\n\\uf8f8\\n\\uf8f7\\n5\\n∴\\na = 108\\n15 A solution is 0.1 M inCl−and\\n0.001 M inCrO4\\n2−. Solid AgNO3 is\\ngradually added to it.\\nAssuming that the addition does\\nnot change in volume and\\nK sp (AgCl)\\n1.7\\n=\\n×\\n−\\n10 10 M2 and\\nK sp\\n2\\n4\\n12\\n3\\n(Ag CrO )\\n1.9\\n10\\nM\\n=\\n×\\n−\\nSelect correct statement from the\\nfollowing\\n[2021, 20 July Shift-II]\\n(a) AgCl precipitates first because its\\nK sp is high.\\n(b) Ag CrO\\n2\\n4 precipitates first as itsK sp\\nis low.\\n(c) Ag CrO\\n2\\n4 precipitates first because\\nthe amount of Ag+ needed is low.\\n(d) AgCl will precipitate first as the\\namount of Ag+needed to precipitate\\nis low.\\nAns. (d)\\nK sp(AgCl )\\n1.7\\n=\\n×\\n−\\n10 10 M2\\nK sp\\n2\\n4\\n(Ag CrO )\\n.\\n=\\n×\\n−\\n19\\n10 12 M3\\n(i)\\n[Ag ]\\n+ required to ppt. AgCl( )\\ns\\nK sp\\n[Ag ] [Cl ]\\n=\\n+\\n−\\n⇒\\n1 7\\n10\\n0 1\\n10\\n.\\n[ . ]\\n×\\n=\\n−\\n+\\n[Ag ]\\n[Ag ]\\n+\\n−\\n=\\n×\\n1 7\\n10 10\\n.\\n(ii) [Ag ]\\n+ required to ppt. Ag CrO\\n2\\n4( )\\ns\\nK sp = Ionic product =\\n+\\n−\\n[Ag ] [CrO ]\\n2\\n4\\n2\\n⇒19\\n10\\n0001\\n12\\n2\\n.\\n[ .\\n]\\n×\\n=\\n−\\n+\\n[Ag ]\\n[Ag ]\\n+\\n−\\n=\\n×\\n19\\n10 9\\n.\\n=\\n×\\n−\\n19\\n10 5\\n=\\n×\\n−\\n43\\n10 5\\n.\\n∴[Ag ]\\n+ required to precipitate AgCl is\\nlow, so AgCl will precipitate first.\\n16 The solubility of CdSO 4 in water is\\n8 0 10 4\\n.\\n–\\n×\\nmol L −1. Its solubility in\\n0.01 MH SO\\n2\\n4 solution is ………\\n×10 6\\n– mol L −1. (Round off to the\\nnearest integer)\\n(Assume that, solubility is much\\nless than 0.01 M)\\n[2021, 18 March Shift-II]\\nAns. (64)\\nGiven, solubility in water\\n( )\\n.\\nS =\\n×\\n−\\n−\\n80\\n10 4 mol L 1\\nIn pure water,\\nK\\nS\\nsp =\\n=\\n×\\n−\\n2\\n4 2\\n8\\n10\\n(\\n) =\\n×\\n−\\n64\\n10\\n8\\nIn 0.01M H SO\\n2\\n4\\nH SO\\n2H\\nSO\\n2\\n4\\n+\\n4\\n2\\n0.02\\n0.01\\n(\\n)\\n(\\n)\\n(\\n)\\naq\\naq\\naq\\n\\uf8e7→\\n+\\n−\\nCdSO\\nCd\\nSO\\n4\\n2\\n4\\n2\\n0.01)\\n( )\\n(\\n)\\n(\\n)\\ns\\naq\\naq\\nx\\nx\\nx\\n¾\\n+\\n−\\n+\\n+\\n(\\nK\\nx x\\nsp =\\n+\\n(\\n. )\\n001 =\\n×\\n−\\n64\\n10\\n8\\nx +\\n≅\\n001\\n001\\n.\\n.\\nM\\nSo, x ( . )\\n001\\n64\\n10\\n8\\n=\\n×\\n−\\n⇒x =\\n×\\n−\\n64\\n10\\n6 M\\n17 The oxygen dissolved in water\\nexerts a partial pressure of 20 kPa\\nin the vapour above water. The\\nmolar solubility of oxygen in water\\nis …… ×10 5\\n−moldm 3\\n−.\\n(Round off to the nearest integer).\\n[Given, Henry’s law constant (\\n)\\nKH\\n=8.0 104\\n×\\nkPa forO2, density of\\nwater with dissolved oxygen\\n=10\\n. kgdm 3\\n−]. [2021, 17 March Shift-I]\\nAns. (25)\\nGiven, partial pressure ofO2\\n20\\n=\\nkPa\\nKH (Henry’s constant) =\\n×\\n8\\n104 kPa\\nFrom Henry’s law,\\np g\\nK\\n( )\\n[\\n]\\n=\\nH χO2\\nwhere, χO 2 = solubility of oxygen\\n20\\n10\\n8\\n10\\n10\\n3\\n4\\n3\\n×\\n=\\n×\\n×\\n(\\n) χO 2\\n⇒\\nχO 2 =\\n×\\n20\\n8\\n104\\nSolubility =\\n×\\n−\\n2 5\\n10\\n4\\n.\\n=\\n×\\n−\\n25\\n10\\n5\\n18 Two salts A X\\n2\\nandMX have the\\nsame value of solubility product of\\n40 10 12\\n. ×\\n−. The ratio of their molar\\nsolubilities i.e S A X\\nS MX\\n(\\n)\\n(\\n)\\n2\\n= ……\\n(Round off to the nearest integer)\\n[2021, 16 March Shift-I]\\nAns. (50)\\nLet the solubility of A X\\n2 be ‘S’.\\nA X s\\nA\\naq\\nX\\naq\\nS\\nS\\n2\\n2\\n2\\n2\\n( )\\n(\\n)\\n(\\n)\\n–\\nc\\n+\\n+\\n;\\nK sp1\\n4\\n10 12\\n=\\n×\\n−\\nK\\nA\\nX\\nsp1\\n2\\n2\\n=\\n+\\n[\\n] [\\n]\\n–\\n4\\n10\\n2\\n12\\n2\\n×\\n=\\n−\\n(\\n) ( )\\nS\\nS\\n4\\n10\\n4\\n12\\n3\\n×\\n=\\n−\\nS\\n⇒S =\\n−\\n10 3 M\\nLet the solubility of MY be ‘S1’.\\nMY s\\nM aq\\nY\\naq\\nS\\nS\\n( )\\n(\\n)\\n(\\n)\\nc\\n+\\n−\\n+\\n1\\n1\\n,\\n98\\nJEE Main Chapterwise Topicwise Chemistry\\n\\n\\nK sp2\\n4\\n10 12\\n=\\n×\\n−\\nK\\nM\\nY\\nsp2 =\\n+\\n−\\n[\\n] [\\n]\\nK\\nS\\nsp2\\n1\\n2\\n= (\\n)\\n4\\n10 12\\n1\\n2\\n×\\n=\\n−\\n(\\n)\\nS\\n⇒\\nS1\\n6\\n2\\n10\\n=\\n×\\n−M\\n[\\n]\\n[\\n]\\nA Y\\nMY\\nS\\nS\\n2\\n1\\n4\\n6\\n10\\n2\\n10\\n50\\n=\\n=\\n×\\n=\\n−\\n−\\n19 The solubility of Ca(OH) 2 in water is\\n[Given: The solubility product of\\nCa(OH) 2 in water = 5.5 × 10 −6]\\n[2021, 25 Feb Shift-II]\\n(a) 1.11 × 10−2\\n(b) 1.11 × 10−6\\n(c) 1.77 × 10−2\\n(d) 1.77 × 10−6\\nAns. (a)\\nLet, solubility of Ca(OH)2 in pure water\\n= S mol/L\\nCa(OH)\\nCa\\n2OH\\n2\\n2\\nq\\n+\\n−\\n+\\nS mol/L 2 × S (mol/L)\\nK\\nS\\nS\\nsp\\n2\\n2\\n[Ca\\n] [OH ]\\n=\\n=\\n×\\n+\\n−\\n(\\n)\\n2\\n2\\n= 4\\n3\\nS (mol/L)\\nThe expression ofK sp can also be\\nwritten as,\\nK\\nx\\ny\\nS\\nsp\\nx\\ny\\nx\\ny\\n=\\n⋅\\n⋅\\n+\\n=\\n⋅\\n⋅\\n+\\n1 2\\n1\\n2\\n1\\n2\\nS\\n= 4\\n3\\nS\\n[\\nQFor Ca(OH)2 : x = 1, y = 2]\\nx and y are the coefficients of cations\\nand anions respectively\\nS\\nK sp\\n= \\uf8eb\\n\\uf8ed\\n\\uf8ec\\n\\uf8f6\\n\\uf8f8\\n\\uf8f7\\n=\\n×\\n\\uf8eb\\n\\uf8ed\\n\\uf8ec\\n\\uf8ec\\n\\uf8f6\\n\\uf8f8\\n\\uf8f7\\n\\uf8f7\\n−\\n4\\n10\\n4\\n1 3\\n6\\n1 3\\n/\\n/\\n5.5\\n=\\n×\\n−\\n1.11\\n10 2 mol/L\\n20 The solubility product ofPbI2 is\\n8 0 10 9\\n. ×\\n−. The solubility of lead\\niodide in 0.1 molar solution of lead\\nnitrate is x ×\\n−\\n10 6 mol/L. The value\\nof x is ……. (Rounded off to the\\nnearest integer).\\n[Given, : 2\\n141\\n= . ]\\n[2021, 24 Feb Shift-II]\\nAns. (141)\\nGiven,\\n[\\n]\\nK sp PbI2 =\\n×\\n−\\n8\\n10 9\\nTo calculate solubility ofPbI2 in 0.1 M\\nsolution ofPb(NO )\\n3 2.\\n(I)\\nPb(NO )\\nPb\\n(\\n)\\n2NO (\\n)\\n3 2\\n2\\n3\\n\\uf8e7→\\n+\\n+\\n−\\naq\\naq\\n0 1\\n. M\\n0 1\\n. M\\n0 2\\n. M\\n(II) PbI\\nPb\\nI\\n2\\n2+\\n( )\\n(\\n)\\n(\\n)\\ns\\naq\\naq\\nc\\n+\\n−\\n2\\nS\\n2S\\n∴\\n[Pb\\n0.1\\n0.1\\n2+ =\\n+\\n≈\\n]\\nS\\nQ\\nS < < 0.1\\nNow, K sp = 8\\n10 9\\n×\\n−\\n[Pb ] [I ]\\n2\\n−\\n−\\n=\\n×\\n2\\n9\\n8\\n10\\n0 1\\n2\\n8\\n10\\n2\\n9\\n.\\n(\\n)\\n×\\n=\\n×\\n−\\nS\\n4\\n8\\n10\\n2\\n8\\nS =\\n×\\n−\\n⇒\\nS =\\n×\\n−\\n141\\n10 6 M\\nx = 141\\n21 For the following Assertion and\\nReason, the correct option is\\nAssertion (A) When Cu (II) and\\nsulphide ions are mixed, they\\nreact together extremely quickly\\nto give a solid.\\nReason (R) The equilibrium\\nconstant of Cu\\nS\\n(\\n)\\n2\\n2\\n+\\n−\\n+\\n(\\n)\\naq\\naq\\nr\\n( )\\nCuS s is high because the\\nsolubility product is low.\\n[2020, 2 Sep Shift-I]\\n(a) Both (A) and (R) are  false.\\n(b) Both (A) and (R) are true and (R) is the\\nexplanation for (A).\\n(c) Both (A) and (R) are true but (R) is not\\nthe explanation for (A).\\n(d) (A) is false and (R) is true.\\nAns. (c)\\nBoth (A) and (R) are correct, but (R) is not\\nthe correct explanation of (A).\\n[A] Cu2+ (\\n)\\naq andS2−(\\n)\\naq ions undergo\\nionic reaction whose rate of reaction is\\nvery fast.\\nCu\\nS\\nCuS\\n2+\\n2\\n(\\n)\\n(\\n)\\n( )\\naq\\naq\\ns\\n+\\n\\uf8e7→\\n↓\\n−\\n[R] For the reaction :\\nCu\\nS\\nCuS\\n2+\\n2\\n(\\n)\\n(\\n)\\n)\\naq\\naq\\ns\\n+\\n−c\\n(\\nThe expression of equilibrium constant\\nis,\\nK eq\\n2\\n2\\n[CuS]\\n[Cu\\n][S\\n]\\n=\\n+\\n−\\nBut, the expression of solubility product\\n(\\n)\\nK sp of CuS( )\\ns will be\\nCuS\\nCu\\nS\\n2+\\n2\\n( )\\n(\\n)\\n(\\n)\\ns\\naq\\naq\\nc\\n+\\n−\\nK sp\\n2\\n2\\n[Cu\\n][S\\n]\\n=\\n+\\n−\\nSo, K\\nK\\neq\\nsp\\n[CuS]\\n=\\nis,K\\nK\\neq\\nsp\\n∝\\n1\\nBecause of high stability CuS, the value\\nofK eq is high, i.e. the value ofK sp of CuS\\nwill be low.\\n22 If the solubility product of AB2 is\\n3.20×\\n−\\n10 11\\n3\\nM , then the solubility\\nof AB2 in pure water is ……… ×104\\nmolL−1\\n[Assuming that neither kind of ion\\nreacts with water]\\n[2020, 6 Sep Shift-II]\\nAns. (2)\\nAB s\\nA\\naq\\nB aq\\n2( )\\n(\\n)\\n(\\n)\\nr\\n2\\n2\\n+\\n−\\n+\\nIf the molar solubility of the solid\\nsubstance is S mol L 1\\n−then\\nK\\nA\\nB\\nsp =\\n+\\n−\\n[\\n] [\\n]\\n2\\n1\\n2;\\nK\\nS\\nS\\nS\\nsp =\\n×\\n=\\n1\\n2\\n3\\n2\\n4\\n(\\n)\\nSolubility product of AB2\\n11\\n3\\n320\\n10\\n=\\n×\\n−\\n.\\nM\\n3.20 ×\\n=\\n×\\n−\\n10\\n4\\n11\\n3\\nS\\n⇒\\nS 3\\n11\\n10\\n4\\n=\\n×\\n−\\n3.20\\n;\\nS =\\n×\\n\\uf8eb\\n\\uf8ed\\n\\uf8ec\\n\\uf8ec\\n\\uf8f6\\n\\uf8f8\\n\\uf8f7\\n\\uf8f7\\n−\\n320\\n10\\n4\\n11\\n1 3\\n.\\n/\\n⇒\\nS =\\n×\\n−\\n−\\n2\\n10\\n4 mol L 1\\n23 The stoichiometry and solubility\\nproduct of a salt with the solubility\\ncurve given below is, respectively :\\n[2020, 8 Jan Shift-I]\\n(a) X Y\\n2\\n9\\n3\\n2\\n10\\n,\\n×\\n−M\\n(b) XY,2\\n10 6\\n3\\n×\\n−M\\n(c) XY\\n2\\n9\\n3\\n1\\n10\\n, ×\\n−M\\n(d) XY\\n2\\n9\\n3\\n4\\n10\\n,\\n×\\n−M\\nAns. (d)\\nUnits given for all options is M3, or\\n(mol L )\\n1 3\\n−\\n,  which implies that, the\\nequilibrium has three ions. Therefore,\\nXY\\nX\\naq\\nY\\naq\\n2\\n2\\n2\\n-\\n+\\n−\\n+\\n(\\n)\\n(\\n),\\nK\\nX\\nY\\nsp =\\n+\\n−\\n[\\n][\\n]\\n2\\n2\\nor X Y\\nX\\naq\\nY\\naq\\n2\\n2\\n2\\n-\\n+\\n−\\n+\\n(\\n)\\n(\\n),\\nK\\nX\\nY\\nsp =\\n+\\n−\\n[\\n] [\\n]\\n2\\n2\\n(i)K sp in case of XY2,\\nK sp =\\n×\\n×\\n−\\n−\\n(\\n) (\\n)\\n1\\n10\\n2 10\\n3\\n3 2 = ×\\n−\\n4 10 9 M3\\n(ii)K sp in case of X Y\\n2 ,\\nK sp =\\n×\\n×\\n−\\n−\\n(\\n) (\\n)\\n1\\n10\\n2 10\\n3 2\\n3 = ×\\n−\\n2 10 9 M\\nThe only matching value ofK sp from\\noptions that satisfies the concentration\\nvalues from graph is\\n[\\n]\\nX2\\n1\\n+ = mM = ×\\n−\\n1\\n10 3 M\\nand\\n[\\n]\\nY −\\n−\\n= ×\\n2 10 3 M\\nThus, salt is XY2 and\\nK sp =\\n×\\n−\\n−\\n(\\n) (\\n)\\n10\\n2 10\\n3\\n3 2 = ×\\n−\\n4 10 9\\n3\\nM\\n24 TheK sp for the following\\ndissociation is1.6 ×\\n−\\n10 5\\nPbCl\\nPb\\n2Cl\\n2\\n2\\n( )\\n(\\n)\\n(\\n)\\ns\\naq\\naq\\n-\\n+\\n−\\n+\\nWhich of the following choices is\\ncorrect for a mixture of 300 mL\\n0.134M Pb(NO )\\n3 2 and 100 mL 0.4\\nM NaCl?\\n[2020, 9 Jan Shift-I]\\nIonic Equilibrium\\n99\\n1\\n2\\n3\\n3\\n2\\n1\\n[ ]/mM\\nX\\n[ ]/mM\\nY\\n\\n\\n(a) Q\\nK\\n<\\nsp\\n(b) Q\\nK\\n>\\nsp\\n(c) Q\\nK\\n=\\nsp\\n(d) Not enough data provided\\nAns. (b)\\nPbCl\\nPb\\n(\\n) + 2Cl\\n2\\n2+\\n( )\\n(\\n)\\ns\\naq\\naq\\n-\\n−\\n;\\nK sp =\\n×\\n−\\n16\\n10 5\\n.\\nFor mixture, 300 mL 0.134 MPb(NO )\\n3 2\\nand 100 mL 0.4 M NaCl\\nAfter mixing, total volume = 400 mL\\n[Pb\\n]\\n2+ after mixing (before any precipitate\\nforms)\\n=\\n×\\n300\\n0 134\\n400\\n.\\n=\\n×\\n≈\\n3\\n0 134\\n4\\n1\\n10\\n.\\n[Cl ]\\n−after mixing (before any precipitate\\nforms)\\n=\\n×\\n100\\n04\\n400\\n.\\n= 0 1\\n.\\nAs we know,\\nQ =\\n+\\n−\\n[Pb\\n][Cl ]\\n2\\n2 =\\n×\\n×\\n−\\n3\\n0 134\\n4\\n10 2\\n.\\n≈\\n−\\n10 3\\n25 The solubility product ofCr(OH) 3 at\\n298 K is6.0×\\n−\\n10 31. The\\nconcentration of hydroxide ions in\\na saturated solution ofCr(OH) 3 will\\nbe\\n[2020, 9 Jan Shift-II]\\n(a) ( .\\n) /\\n222 10 31 1 4\\n×\\n−\\n(b) (\\n) /\\n18 10 31 1 4\\n×\\n−\\n(c) ( .\\n) /\\n486 10 29 1 4\\n×\\n−\\n(d) (\\n) /\\n18 10 31 1 2\\n×\\n−\\nAns. (d)\\nK sp of Cr(OH) 3 at 298 K is60\\n10 31\\n. ×\\n−.\\n[OH ]\\n−in saturated solution of Cr(OH) 3 = ?\\nCr(OH)\\nCr\\n+ 3OH\\n3\\n3+\\n-\\n−\\nS\\nS\\nIn a saturated solution,\\nK sp\\n3\\n3\\n[Cr\\n][OH ]\\n=\\n+\\n−\\n= S\\nS\\n(\\n)\\n3\\n3 =\\n=\\n×\\n−\\n27\\n60\\n10\\n4\\n31\\nS\\n.\\n∴\\nS 4\\n31\\n60\\n10\\n27\\n=\\n×\\n−\\n.\\n⇒\\nS =\\n×\\n\\uf8eb\\n\\uf8ed\\n\\uf8ec\\n\\uf8f6\\n\\uf8f8\\n\\uf8f7\\n−\\n60\\n10\\n27\\n31\\n1\\n4\\n.\\n[OH]– =\\n=\\n×\\n\\uf8eb\\n\\uf8ed\\n\\uf8ec\\n\\uf8f6\\n\\uf8f8\\n\\uf8f7\\n−\\n3\\n3 60\\n10\\n27\\n31\\n1\\n4\\nS\\n.\\n=\\n×\\n×\\n\\uf8eb\\n\\uf8ed\\n\\uf8ec\\n\\uf8f6\\n\\uf8f8\\n\\uf8f7\\n−\\n60 3\\n3\\n10\\n4\\n3\\n31\\n1\\n4\\n.\\n=\\n×\\n−\\n(\\n)\\n18\\n10 31\\n1\\n4\\n26 If solubility product ofZr (PO )\\n3\\n4 4 is\\ndenoted byK sp and its molar\\nsolubility is denoted by S, then\\nwhich of the following relation\\nbetween S andK sp is correct?\\n[2019, 8 April Shift-I]\\n(a) S\\nK\\n= \\uf8eb\\n\\uf8ed\\n\\uf8ec\\n\\uf8f6\\n\\uf8f8\\n\\uf8f7\\nsp\\n144\\n1 6\\n/\\n(b) S\\nK\\n= \\uf8eb\\n\\uf8ed\\n\\uf8ec\\n\\uf8f6\\n\\uf8f8\\n\\uf8f7\\nsp\\n6912\\n1 7\\n/\\n(c) S\\nK\\n= \\uf8eb\\n\\uf8ed\\n\\uf8ec\\n\\uf8f6\\n\\uf8f8\\n\\uf8f7\\nsp\\n929\\n1 9\\n/\\n(d) S\\nK\\n= \\uf8eb\\n\\uf8ed\\n\\uf8ec\\n\\uf8f6\\n\\uf8f8\\n\\uf8f7\\nsp\\n216\\n1 7\\n/\\nAns. (b)\\nKey Idea The concentration of a\\nsubstance in a saturated solution is\\ndefined as its solubility (S).\\nFor A B\\nxA\\nyB\\n;\\nx\\ny\\ny\\nx\\n-\\n+\\n−\\n+\\nK\\nA\\nB\\nsp\\ny\\nx\\nx\\ny\\n=\\n+\\n−\\n[\\n]\\n[\\n]\\nFor,Zr (PO )\\n3\\n4 4,\\nZr (PO ) (s)\\n3Zr\\n(aq)\\n4PO\\n(aq)\\n3\\n4 4\\n4\\n3SM\\n4\\n3\\n4 SM\\n-\\n+\\n−\\n+\\nK sp\\n4\\n3\\n4\\n3\\n4\\n[Zr\\n] [PO ]\\n=\\n+\\n−\\nK\\nS\\nS\\nS\\nsp =\\n=\\n(\\n) (\\n)\\n3\\n4\\n6912\\n3\\n4\\n7 or S\\nK\\n= \\uf8eb\\n\\uf8ed\\n\\uf8ec\\n\\uf8f6\\n\\uf8f8\\n\\uf8f7\\nsp\\n6912\\n1\\n7\\nThus, the relation between molar\\nsolubility(S) and solubility product (\\n)\\nKsp\\nwill be S\\nK\\n= \\uf8eb\\n\\uf8ed\\n\\uf8ec\\n\\uf8f6\\n\\uf8f8\\n\\uf8f7\\nsp\\n6912\\n1 7\\n/\\n27 What is the molar solubility of\\nAl(OH) 3 in 0.2 M NaOH solution?\\nGiven that, solubility product of\\nAl(OH)\\n2.4\\n10\\n3\\n24\\n=\\n×\\n−\\n[2019, 12 April Shift-I]\\n(a) 3\\n10 19\\n×\\n−\\n(b) 12\\n10 21\\n×\\n−\\n(c) 3\\n10 22\\n×\\n−\\n(d) 12\\n10 23\\n×\\n−\\nAns. (c)\\nKey Idea Concentration of substance in\\na saturated solution is defined as its\\nsolubility (S). Its value depends upon the\\nnature of solvent and temperature. For\\nreaction,\\nAB\\nA\\nB\\n-\\n+\\n−\\n+\\nK\\nA\\nB\\nsp =\\n+\\n−\\n[\\n] [\\n]\\nAl(OH)\\nAl\\n3OH\\n3\\n3\\n-\\n+\\n−\\n+\\nInitially\\n1\\n0\\n0\\nAt equilibrium\\n1−S\\nS\\n3\\n02\\nS + .\\nNaOH\\nNa\\nOH\\n0 . 2\\n0 . 2\\n\\uf8e7→\\n+\\n+\\n−\\nKsp of Al(OH)\\n2.4\\n3 =\\n×\\n−\\n10 24 (Given)\\nK sp\\n3\\n3\\n[Al\\n] [OH ]\\n=\\n+\\n−\\n2 4 10\\n3\\n02\\n24\\n3\\n.\\n[ ] [\\n. ]\\n×\\n=\\n+\\n−\\nS\\nS\\n[\\n.\\n]\\nQ02>> S\\n2 4 10\\n0008\\n24\\n.\\n[ ] [ .\\n]\\n×\\n=\\n−\\nS\\n[ ]\\nS = ×\\n−\\n3\\n10 22\\n28 IfK sp of Ag CO\\n2\\n3 is8\\n10 12\\n×\\n−\\n, the\\nmolar solubility of Ag CO\\n2\\n3 in 0.1 M\\nAgNO3 is\\n[2019, 12 Jan Shift-II]\\n(a) 8\\n10 12\\n×\\n−\\nM\\n(b) 8\\n10 13\\n×\\n−\\nM\\n(c) 8\\n10 10\\n×\\n−\\nM\\n(d) 8\\n10 11\\n×\\n−M\\nAns. (c)\\nLet the solubility of Ag CO\\n2\\n3 is S. Now,\\n0.1 M of AgNO3 is added to this solution\\nafter which let the solubility of Ag CO\\n2\\n3\\nbecomes S′.\\n∴\\n[Ag ]\\n0.1\\n+ =\\n+\\nS\\nand [CO ]\\n3\\n2−=\\n′\\nS\\nK\\nS\\nS\\nsp\\n2\\n0.1)\\n=\\n+\\n′\\n(\\n(\\n)\\n...(i)\\nGiven, K sp =\\n×\\n−\\n8\\n10\\n12\\nQK sp is very small, we neglect S′against\\nS in Eq. (i)\\n∴\\nK\\nS\\nsp\\n(0.1)\\n=\\n′\\n2\\nor\\n8\\n10\\n12\\n×\\n=\\n′\\n−\\n0.01 S\\nor\\nS′ =\\n×\\n−\\n8\\n10\\n12 × 102\\n=\\n×\\n−\\n8\\n10\\n10 M\\nThus, molar solubility of Ag CO\\n2\\n3 in 0.1 M\\nAgNO3 is 8\\n10\\n10\\n×\\n−\\nM.\\n29 An aqueous solution contains\\n0.10 MH S\\n2 and 0.20 M HCl. If the\\nequilibrium constants for the\\nformation ofHS−fromH S\\n2 is\\n10 10 7\\n. ×\\n−and that ofS2−fromHS−\\nions is12\\n10 13\\n. ×\\n−\\nthen the\\nconcentration ofS2−ions in\\naqueous solution is : [JEE Main 2018]\\n(a)5\\n10 8\\n×\\n−\\n(b) 3\\n10 20\\n×\\n−\\n(c) 6\\n10 21\\n×\\n−\\n(d)5\\n10 19\\n×\\n−\\nAns. (b)\\nGiven,\\n[H S]\\n2\\n= 0 10\\n.\\nM\\n[HCl] = 020\\n.\\nM  So, [H ]\\n+ = 020\\n.\\nM\\nH S\\nH + HS\\n2\\n+\\n-\\n−,K 1\\n7\\n10\\n=\\n×\\n−\\n1.0\\nHS\\nH + S\\n+\\n2\\n−\\n−\\n-\\n,K2\\n13\\n12\\n10\\n=\\n×\\n−\\n.\\nIt means for,\\nH S\\n2H + S\\n2\\n+\\n2\\n-\\n−\\nK\\nK\\nK\\n=\\n×\\n1\\n2\\n=\\n×\\n×\\n×\\n−\\n−\\n10\\n10\\n10\\n7\\n13\\n.\\n1.2\\n=\\n×\\n−\\n1.2\\n10 20\\nNow\\n[\\n]\\n[\\n]\\n[\\n]\\nS\\nH S\\nH\\n2\\n2\\n2\\n−\\n+\\n=\\n×\\nK\\n[according to the final equation]\\n=\\n×\\n×\\n−\\n1.2\\n10\\n0.1 M\\n(0.2M)\\n20\\n2\\n=\\n×\\n× ×\\n×\\n−\\n−\\n−\\n1.2\\n10\\n1\\n10\\nM\\n4\\n10\\nM\\n20\\n1\\n2\\n=\\n×\\n−\\n3\\n10 20 M\\n30 An aqueous solution contains an\\nunknown concentration ofBa2+.\\nWhen 50 mL of a 1 M solution of\\nNa SO\\n2\\n4 is added,BaSO4 just\\nbegins to precipitate. The final\\nvolume is 500 mL. The solubility\\nproduct ofBaSO4 is1 10 10\\n×\\n−.\\n100\\nJEE Main Chapterwise Topicwise Chemistry\\n\\n\\nWhat is the original concentration\\nofBa2+?\\n[JEE Main 2018]\\n(a)5\\n10 9\\n×\\n−M\\n(b)2\\n10 9\\n×\\n−M\\n(c)1.1 ×\\n−\\n10 9 M\\n(d)1.0 ×\\n−\\n10 10 M\\nAns. (c)\\nIts given that the final volume is 500 mL\\nand this final volume was arrived when\\n50 mL of 1 MNa SO\\n2\\n4 was added to\\nunknownBa2+ solution.\\nSo, we can interpret the volume of\\nunknownBa2+ solution as 450 mL i.e.\\n450mL + 50mL\\n500mL\\nBa\\nsolution\\nNa SO\\nsolution\\nBaS\\n2 +\\n2\\n4\\n\\uf8e7→\\nO\\nsolution\\n4\\nFrom this we can calculate the\\nconcentration ofSO4\\n2−ion in the solution\\nvia\\nMV\\nM V\\n1 1\\n2 2\\n=\\n1\\n50\\n500\\n2\\n×\\n=\\n×\\nM\\n(as 1MNa SO\\n2\\n4 is taken into\\nconsideration)\\nM\\n2\\n1\\n10\\n0 1\\n=\\n= . M\\nNow for just precipitation,\\nIonic product = Solubility product (\\n)\\nK sp\\ni.e.\\n[Ba\\n][SO ]\\n2+\\n4\\n2−= K sp ofBaSO4\\nGivenK sp of BaSO4 = ×\\n−\\n1\\n10 10\\nSo,\\n[Ba\\n][0.1]\\n2+\\n= ×\\n−\\n1\\n10 10\\nor\\n[Ba\\n]\\n1\\n10\\nM\\n2+\\n9\\n= ×\\n−\\nRemember This is the concentration of\\nBa2+ ions in final solution.\\nHence, for calculating the [Ba\\n]\\n2+ in\\noriginal solution we have to use\\nMV\\nM V\\n1 1\\n2 2\\n=\\nas M1\\n9\\n450\\n10\\n500\\n×\\n=\\n×\\n−\\nso,\\nM1\\n9\\n10\\n=\\n×\\n−\\n1.1\\nM\\n31 TheK sp forCr(OH) 3 is1.6\\n10 30\\n×\\n−\\n.\\nThe molar solubility of this\\ncompound in water is\\n[AIEEE 2011]\\n(a) 1.6\\n10 30\\n×\\n−\\n2\\n(b)\\n1.6\\n10 30\\n4\\n×\\n−\\n(c) 1.6\\n10\\n/27\\n30\\n4\\n×\\n−\\n(d)1.6\\n10\\n/27\\n30\\n×\\n−\\nAns. (c)\\nLet molar solubility of Cr(OH) 3 = s molL 1\\n−\\nCr(OH)\\nCr\\n3OH\\n3\\n3\\n3\\n( )\\n(\\n)\\n(\\n)\\ns\\naq\\naq\\ns\\n1\\n+\\n−\\ns\\n+\\nK sp\\n30\\n1.6\\n10\\n=\\n×\\n−\\n=\\n−\\n[Cr\\n] [OH ]\\n3+\\n3 = ( )(\\n)\\ns\\ns\\n3\\n3 = 27\\n4\\ns\\n∴\\ns 4\\n30\\n1 6\\n10\\n27\\n=\\n×\\n−\\n.\\n⇒\\ns =\\n×\\n−\\n1 6\\n10\\n27\\n30\\n4 .\\n32 Solubility product of silver bromide\\nis 5.0\\n10\\n.\\n13\\n×\\n−\\nThe quantity of\\npotassium bromide (molar mass\\ntaken as 120 g mol −1) to be added\\nto 1 L of 0.05 M solution of silver\\nnitrate to start the precipitation of\\nAgBr is\\n[AIEEE 2010]\\n(a) 12\\n10 10\\n. ×\\n−\\ng\\n(b) 12\\n10 9\\n. ×\\n−g\\n(c) 6 2\\n10 5\\n. ×\\n−g\\n(d) 5 0\\n10 8\\n. ×\\n−g\\nAns. (b)\\n[AgBr] = [Ag+] = 0.05 M\\nK sp [AgBr] = [Ag+] [Br−]\\n⇒\\n[\\n]\\nBr−= K sp\\n+\\n(AgBr)\\n[Ag ]\\n=\\n×\\n=\\n−\\n5.0\\n10\\n0.05\\n-13\\n10 11 M [mol L−1]\\nMoles of KBr needed to precipitate AgBr\\n=\\n×\\n−\\n[\\n]\\nBr\\nV =\\n−\\n10 11 mol L−1 × 1L =\\n−\\n10 11 mol\\nTherefore, amount of KBr needed to\\nprecipitate AgBr\\n=\\n−\\n10 11 mol × 120 g mol−1 =\\n×\\n−\\n1.2\\n10 9 g\\n33 SolidBa(NO )\\n3 2 is gradually\\ndissolved in a1.0\\n10\\nM\\n4\\n×\\n−\\nNa CO\\n2\\n3\\nsolution. At what concentration of\\nBa2+, will a precipitate begin to\\nform?\\n(K sp forBaCO\\n5.1\\n10\\n)\\n3\\n9\\n=\\n×\\n−\\n[AIEEE 2009]\\n(a) 4.1\\n10\\nM\\n5\\n×\\n−\\n(b) 5.1\\n10\\nM\\n5\\n×\\n−\\n(c) 8.1\\n10\\nM\\n8\\n×\\n−\\n(d) 8.1\\n10\\nM\\n7\\n×\\n−\\nAns. (b)\\nNa CO\\n2Na\\nCO\\n2\\n3\\n+\\n3\\n2\\na\\n+\\n−\\n[Na CO ]\\n[CO ]\\n1\\n10\\nM\\n2\\n3\\n3\\n2\\n4\\n=\\n= ×\\n−\\n−\\nBaCO\\nBa\\nCO\\n3\\n2+\\n3\\n2\\na\\n−\\nK sp (BaCO )\\n2+\\n3\\n2-\\n3\\n[Ba\\n] [CO ]\\n=\\n[Ba\\n]\\nK\\n(BaCO )\\n[CO\\n]\\n2+\\n3\\n3\\n2\\n=\\n−\\nsp\\n⇒\\n[Ba\\n]\\n5.1\\n10\\n1\\n10\\n2+\\n-9\\n4\\n=\\n×\\n×\\n−\\n[Ba\\n]\\n5.1\\n10\\nM\\n2+\\n5\\n=\\n×\\n−\\nHence, at 5.1\\n10 5\\n×\\n−M concentration of\\nBa2+, a precipitate will begin to form.\\n34 In a saturated solution of the\\nsparingly soluble strong electrolyte\\nAgIO3 (molecular mass =283) the\\nequilibrium which sets in is\\nAgIO\\nAg\\nIO\\n3\\n+\\n3\\n( )\\n(\\n)\\n(\\n)\\ns\\naq\\naq\\nr\\n+\\n−\\nIf the solubility product constant,\\nK sp of AgIO3 at a given\\ntemperature is1.0\\n10\\n,\\n8\\n×\\n−\\nwhat is\\nthe mass of AgIO3 contained in\\n100 mL of its saturated solution?\\n[AIEEE 2007]\\n(a) 28.3\\n10\\ng\\n2\\n×\\n−\\n(b) 2.83\\n10\\ng\\n3\\n×\\n−\\n(c) 1.0\\n10\\ng\\n7\\n×\\n−\\n(d) 10\\n10 4\\n.\\ng\\n×\\n−\\nAns. (b)\\nAgIO ( )\\nAg\\nIO\\n3\\n+\\ns\\naq\\naq\\nr\\n(\\n)\\n(\\n)\\n+\\n−\\n3\\nLet the solubility of AgIO3 be S\\nK sp\\n+\\n3\\n[Ag ] [IO ]\\n=\\n−\\n1.0 ×\\n=\\n−\\n10 8\\n2\\nS\\nor\\nS = ×\\n−\\n1\\n10 4 mol/L\\nIn 1000 mL moles of AgIO3 dissolved\\n= ×\\n−\\n1\\n10 4 moles\\nIn 100 mL moles of AgIO3 dissolved\\n= ×\\n−\\n1\\n10 5 moles\\nMass of AgIO3 in 100 mL\\n= ×\\n−\\n1\\n10 5 mol × 283 g mol−1\\n=\\n×\\n−\\n2.83\\n10 3 g\\n35 The solubility product of a salt\\nhaving general formulaMX 2,in\\nwater is4 10\\n12\\n×\\n−\\n. The\\nconcentration ofM 2+ ions in the\\naqueous solution of the salt is\\n[AIEEE 2005]\\n(a) 4.0\\n10\\nM\\n10\\n×\\n−\\n(b) 1.6\\n10\\nM\\n4\\n×\\n−\\n(c) 1.0\\n10\\nM\\n4\\n×\\n−\\n(d) 2.0\\n10\\nM\\n6\\n×\\n−\\nAns. (c)\\nMX\\nM\\nX\\nS\\nS\\n2\\n2\\n2\\n2\\nr\\n+\\n−\\n+\\nK\\nM\\nX\\nsp =\\n+\\n−\\n[\\n] [\\n]\\n2\\n2\\nIf solubility be S, then\\nK\\nS\\nS\\nS\\nsp =\\n=\\n( ) (\\n)\\n2\\n4\\n2\\n3\\n4\\n4\\n10\\n3\\n12\\nS =\\n×\\n−\\n⇒S = ×\\n−\\n1\\n10 4 M\\n∴\\n[\\n]\\nM\\nS\\n2\\n4\\n1\\n10\\n+\\n−\\n=\\n= ×\\nM\\n36 The molar solubility (in molL−1) of a\\nsparingly soluble saltMX 4 is S. The\\ncorresponding solubility product is\\nK sp. S is given in terms ofK sp by\\nthe relation.\\n(a) S\\nK\\n= (\\n/\\n) /\\nsp 128 1 4 (b) S\\nK\\n= (\\n/\\n) /\\nsp 128 1 4\\n(c) S\\nK\\n= (\\n/\\n) /\\nsp 256 1 5 (d) S\\nK\\n= (\\n/\\n) /\\nsp 256 1 5\\n[AIEEE 2004]\\nAns. (c)\\nMX\\nM\\nX\\n4\\n4\\n4\\nr\\n+\\n−\\n+\\nK\\nM\\nX\\nsp =\\n+\\n−\\n[\\n] [\\n]\\n4\\n4\\n4\\nK\\nS\\nsp\\n(4S)\\n= ( )\\n4\\n⇒K\\nS\\nsp = 256\\n5\\nS\\nK\\n5\\n256\\n=\\nsp\\n⇒\\nS\\nK\\n= \\uf8eb\\n\\uf8ed\\n\\uf8ec\\n\\uf8f6\\n\\uf8f8\\n\\uf8f7\\nsp\\n256\\n1 5\\n/\\nIonic Equilibrium\\n101\\n\\n\\n37 The solubility in water of a\\nsparingly soluble salt AB2 is\\n1.0\\n10\\nmol L .\\n5\\n1\\n×\\n−\\n−Its solubility\\nproduct will be\\n[AIEEE 2003]\\n(a) 4\\n10 15\\n×\\n−\\n(b) 4\\n10 10\\n×\\n−\\n(c) 1\\n10 15\\n×\\n−\\n(d) 1\\n10 10\\n×\\n−\\nAns. (a)\\nAB\\nA\\nB\\nS\\nS\\n2\\n2\\n2\\n2\\nr\\n+\\n−\\n+\\nK\\nA\\nB\\nsp =\\n+\\n−\\n[\\n] [\\n]\\n2\\n2 =\\n=\\n( ) (\\n)\\nS\\nS\\nS\\n2\\n4\\n2\\n3\\n=\\n×\\n−\\n4 1\\n10 5 3\\n(\\n) =\\n×\\n−\\n4\\n10 15\\n38 Solubility ofCa(OH) 2 isS mol L .\\n1\\n−\\nThe solubility product (\\n)\\nK sp under\\nthe same condition is\\n[AIEEE 2002]\\n(a) 4\\n3\\nS\\n(b) 3\\n4\\nS\\n(c) 4\\n2\\nS\\n(d) S3\\nAns. (a)\\nCa(OH)\\nCa\\n+ 2OH\\n2\\n2+\\nr\\n−\\nK sp\\n2+\\n2\\n[Ca\\n] [OH ]\\n=\\n−\\n=\\n=\\n( ) (\\n)\\nS\\nS\\nS\\n2\\n4\\n2\\n3\\nTOPIC 4\\npH, Buffer and Indicator\\n39 The pH of a solution obtained by\\nmixing\\n50 mL of 1 M HCl and 30 mL of 1 M\\nNaOH is x ×10 4\\n−. The value of x is\\n......... (Nearest integer)\\n[log 2.5 = 0.3979]\\n[2021, 31 Aug Shift-II]\\nAns. (6021)\\nMilliequivalents of HCl\\n(\\n)\\nN V\\na\\na =\\n× =\\n50\\n1\\n50\\nMilliequivalents of NaOH\\n(\\n)\\nN V\\nb b =\\n× =\\n30\\n1\\n30\\nSince,\\nN V\\nN V\\na\\na\\nb b\\n>\\nand they neutralise each other\\n[\\n]\\nH+ =\\n−\\n+\\nN V\\nN V\\nV\\nV\\na\\na\\nb b\\na\\nb\\n=\\n−\\n=\\n=\\n×\\n−\\n50\\n30\\n80\\n10 1\\n0.25\\n2.5\\npH\\n[H\\n= −\\n+\\nlog\\n]\\n= −\\n×\\n−\\nlog (\\n)\\n2.5\\n10 1\\n= −\\n=\\n1\\n0.3979\\n0.6021\\npH\\n0.6021\\n×\\n=\\n×\\n10\\n10\\n4\\n4 = 6021\\n∴\\nx = 6021\\n40 In order to prepare a buffer\\nsolution of pH 5.74, sodium acetate\\nis added to acetic acid. If the\\nconcentration of acetic acid in the\\nbuffer is 1.0 M, the concentration of\\nsodium acetate in the buffer is\\n………… M. (Round off to the\\nnearest integer).\\n[Given :pK a (acetic acid =4 74\\n.\\n]\\n[2021, 18 March Shift-I]\\nAns. (10)\\nGiven : pH= 5 74\\n.\\nConcentration of acetic acid in buffer\\n= 10\\n. M\\nAcetic acid and its conjugate base\\nsodium   acetate makes acidic buffer.\\nCH COOH + CH COONa\\n3\\n3\\n\\uf8e7→(Acidic\\nbuffer)\\nUsing formula,\\npH\\n[Salt]\\n[Acid]\\n=\\n+\\npK a\\nlog\\npH\\nlog [CH COONa]\\n[CH COOH]\\n3\\n3\\n=\\n+\\npK a\\n5 74\\n474\\n.\\n.\\nlog\\n=\\n+\\n[CH COONa]\\n[CH COOH]\\n3\\n3\\n5 74\\n474\\n.\\n.\\nlog\\n−\\n=\\n[CH COONa]\\n[CH COOH]\\n3\\n3\\n1 = log [CH COONa]\\n[CH COOH]\\n3\\n3\\n⇒\\n[CH COONa]\\n[CH COOH]\\n3\\n3\\n= 10\\n[\\n∴[CH COOH\\n3\\n] = 1]\\n[CH COONa]\\n3\\n=\\n×\\n=\\n[\\n]\\n10\\n1\\n10\\nThus, the concentration of sodium\\nacetate in buffer is 10 M.\\n41 Sulphurous acid (H SO )\\n2\\n3 has\\nK a 1\\n1 7\\n10 2\\n=\\n×\\n−\\n.\\nandK a 2\\n6 4 10 8\\n=\\n×\\n−\\n.\\n. The pH of 0.588 M is ……\\n(Round off to the nearest integer)\\n[2021, 16 March Shift-II]\\nAns. (1)\\nForH SO ,\\n2\\n3 K\\nK\\na\\na\\n11\\n2\\n>>\\nSo, we mainly consider 1st ionisation\\nH SO\\nH + HSO\\n2\\n3\\n+\\n3\\n-\\n−; K a 1\\n1 7\\n10 2\\n=\\n×\\n−\\n.\\nt = 0\\n0.558\\n0\\n0\\nt\\nt\\n=\\neq 0.558 −0.558α\\n0.558α 0.558α\\nK a 1 =\\n+\\n−\\n[H ][HSO ]\\n[H SO ]\\n3\\n2\\n3\\n=\\nα\\nα\\n−α\\n=\\nα\\n−α\\n( .\\n)( .\\n)\\n.\\n(\\n)\\n.\\n0 558\\n0 558\\n0 558 1\\n0 558\\n1\\n2\\nα << 1 for weak acid\\n(\\n)\\n1\\n1\\n−α ≈\\nα =\\n=\\n×\\n−\\nK a 1\\n0 558\\n1 7\\n10\\n0 558\\n2\\n.\\n.\\n.\\nα =\\n×\\n=\\n−\\n1 7\\n10\\n0 17\\n1\\n.\\n.\\n[H]+ =\\nα\\n0 558\\n.\\n=\\n×\\n−\\n99\\n10 2\\n.\\npH\\nH\\n= −\\n= −\\n×\\n+\\n−\\nlog[\\n]\\nlog( .\\n)\\n99\\n10 2\\n[ log .\\n]\\nQ\\n99\\n1\\n≈\\n= −\\n= −\\n2\\n99\\n2 1\\nlog .\\npH = 1\\n42 The pH of ammonium phosphate\\nsolution, ifpK a of phosphoric acid\\nandpKb of ammonium hydroxide\\nare 5.23 and 4.75 respectively, is\\n……… .\\n[2021, 26 Feb Shift-II]\\nAns. (7)\\nPhosphoric acid is a weak tribasic acid\\n(H PO )\\n3\\n4 andNH OH\\n4\\nis a weak monoacidic\\nbase. So, hydrolysis of ammonium\\nphosphate (NH ) PO\\n4 3\\n4 can be shown as,\\n(NH ) PO + 3H O\\nH PO + 3NH OH\\n4 3\\n4\\n2\\n3\\n4\\n4\\n-\\n[3 : 1 type salt]\\nSo,\\n[H ]\\n+ =K\\nK\\nK\\nK\\na\\nw\\na\\nb\\n×\\n×\\n\\uf8eb\\n\\uf8ed\\n\\uf8ec\\n\\uf8ec\\n\\uf8f6\\n\\uf8f8\\n\\uf8f7\\n\\uf8f7\\n12\\npH\\np\\np\\np\\np\\n=\\n+\\n−\\n−\\nK\\nK\\nK\\nK\\na\\nw\\na\\nb\\n1\\n2\\n[\\n]\\n=\\n+\\n−\\n−\\n523\\n1\\n2\\n14\\n523\\n475\\n.\\n(\\n.\\n.\\n)\\n[\\nQpKw = 14H O\\n2\\np\\n(H PO )\\n3\\n4\\nK a = 523\\n.\\np\\n(NH OH)\\n4\\nK b = 475\\n.\\n] =\\n−\\n724\\n7\\n.\\n~\\n43 The solubility of AgCN in a buffer\\nsolution ofpH=3 is x. The value of x\\nis…… .\\n[Assume : No cyano complex is\\nformed;K sp (AgCN) = 2.2\\n10 16\\n×\\n−\\nandK a (HCN) = 6.2\\n10 10\\n×\\n−]\\n[2021, 25 Feb Shift-I]\\n(a) 0.625 ×10 6\\n−\\n(b) 1.6 ×10 6\\n−\\n(c) 2.2 ×10 16\\n−\\n(d) 1.9 ×10 5\\n−\\nAns. (d)\\npH of AgCN buffer solution = 3\\n[H ]\\n10 3\\n+\\n−\\n=\\nK sp\\n16\\n(AgCN)\\n2.2\\n10\\n=\\n×\\n−\\nK a [HCN]\\n6.2\\n10 10\\n=\\n×\\n−\\nAgCN\\nAg + CN\\n+\\nq\\n−……K sp\\nCN + H\\nHCN\\n+\\n−\\nq\\n…… 1\\nK a\\nAgCN + H\\nHCN + Ag\\n+\\n+\\nq\\nK\\nK a\\nsp\\n+\\n[Ag ][CN ] [HCN]\\n[H ] [CN ]\\n×\\n=\\n+\\n−\\n−\\n1\\n[ ]\\nS\\nK\\nK a\\n=\\n+\\nsp [H ]\\n⇒2.2\\n10\\n6.2\\n10\\n[ ] [ ]\\n10\\n16\\n10\\n3\\n×\\n×\\n=\\n−\\n−\\n−\\nS\\nS\\n[ ]\\n2.2\\n10\\n6.2\\n10\\n10\\n2\\n16\\n10\\n3\\nS\\n=\\n×\\n×\\n×\\n−\\n−\\n−\\nS =\\n×\\n−\\n19\\n10 5\\n.\\n102\\nJEE Main Chapterwise Topicwise Chemistry\\n\\n\\n44 An acidic buffer is obtained on\\nmixing\\n[2020, 3 Sep Shift-I]\\n(a) 100 mL of 0.1 M CH COOH\\n3\\nand 100 mL\\nof 0.1 M NaOH\\n(b) 100 mL of 0.1 M HCl and 200 mL of\\n0.1 M NaCl\\n(c) 100 mL of 0.1 M CH COOH\\n3\\nand 200 mL\\nof 0.1 M NaOH\\n(d) 100 mL of 0.1 M HCl and 200 mL of\\n0.1 M CH COONa\\n3\\nAns. (d)\\nAn acidic buffer is a mixture of weak acid\\nand its salt with strong base. Now, let us\\nstudy the composition of each mixture\\nobtained by mixing of two solutions.\\nSo, it is not a buffer.\\nNaCl, a salt of strong acid (HCl) and\\nstrong base (NaOH) is not hydrolisable by\\nHCl also. So, it is not a buffer.\\nAfter mixing, the solution contains\\nequimolar amounts by NaOH (a strong\\nbase) and CH COONa\\n3\\n−+\\n(salt).\\nSo, it is also not a buffer.\\nNow, the resultant solution contains\\nequimolar amount of CH COOH\\n3\\n(an weak\\nacid) and CH COONa\\n3\\n(a salt of CH COOH\\n3\\nwith a strong base, NaOH).\\nSo, it is an acid buffer.\\n45 100 mL of 0.1M HCl is taken is a\\nbeaker and to it 100 mL of 0.1 M\\nNaOH is added in steps of 2 mL and\\nthe pH continuously measured.\\nWhich of the following graphs\\ncorrectly depicts the change in pH?\\n[2020, 3 Sep Shift-II]\\nAns. (a)\\nGiven 100 mL of 0.1 M HCl is taken in\\nbeaker and to it 100 mL of 0.1 M NaOH is\\nadded.\\nThis is acid (HCl) and base (NaOH)\\ntitration. Here, phenolphthalein act as an\\nindicator and colour change is pink. The\\ncorrect graph that depicts the change in\\npH is as follows.\\nAt first HCl (acid) is take in beaker and\\nbase (NaOH) is taken in burette.\\nWhen base is added drop wise then\\nacid-base reaction is occurs and\\nfollowing changes are observed.\\npH→0 to 7 is acidic. pH→7 is neutral.\\npH→7 to 14 is basic.\\nInitially, the graph increases steeply but\\nwhen concentration of acid becomes\\nequal to base then no change is seen in\\ngraph.\\nThis point is called neutral point or\\nequivalence point. Equivalence point,\\nwhere pH = 7.\\nAfter the equivalence point (pH = 7),\\nbase (NaOH) is continuously mixed drop\\nby drop then pH increases by 7 and graph\\nalso increases slowly. At the point B,\\nsolution become basic, again base\\n(NaOH) is mixed drop by drop and the\\nsolution becomes basic at point B.\\nFollowing inference can be seen in the\\ngraphs.\\n(a) According to this graph, pH = 7 is\\nequivalence point and use of NaOH\\n(base) drop by drop leads to basic\\nsolution as a result, value of pH\\nincreases slowly. This is correct\\noption.\\n(b) According to graph, it shows\\nstraight line that mean graph\\nincreases instantly but this\\ntitration show pH increases slowly\\nbecause base (NaOH) is mix drop\\nby drop.\\n(c) After equivalence point (pH = 7)\\ngraph is constant. It is wrong\\nbecause graph increases and the\\nsolution becomes pure basic then\\ngraph show constant value.\\n(d) According to graph, equivalence\\npoint (pH = 7) graph should increase\\nbut it decreases.\\n46 A soft drink was bottled with a\\npartial pressure ofCO2 of 3 bar\\nover the liquid at room\\ntemperature. The partial pressure\\nofCO2 over the solution\\napproaches a value of 30 bar when\\n44 g ofCO2 is dissolved in 1 kg of\\nwater at room temperature. The\\napproximate pH of the soft drink is\\n…… ×\\n−\\n10 1.\\n(First dissociation constant of\\nH CO\\n2\\n3 =\\n×\\n−\\n40 10 7\\n.\\n)log\\n.\\n2\\n03\\n=\\n;\\ndensity of the soft drink =1g mL −1)\\n[2020, 6 Sep Shift-I]\\nAns. (37)\\nAt 30 bar pressure mass of CO2 in 1 kg\\nwater = 44g\\nAt 3 bar pressure mass of CO2 in 1 kg\\nwater = 4 4\\n. g\\nMoles of CO2 in 1 kg water =\\n=\\n4 4\\n44\\n0 1\\n.\\n. mol\\nIn solution,H O\\nCO\\nH CO\\n2\\n2\\n2\\n3\\n+\\nr\\n(0.1 mol)\\nor\\nH CO\\nH\\nHCO\\n2\\n3\\n3\\nr\\n+\\n−\\n+\\nInitially\\n0.1\\n−\\n−\\nAt equil.\\n0 1 1\\n. (\\n)\\n−α\\n0 1\\n. α\\n0 1\\n. α\\nHere,α = degree of dissociation\\nKa 1 =\\n+\\n−\\n[H ][HCO ]\\n[H CO ]\\n3\\n2\\n3\\n[Here,K a 1 = first dissociation of\\nconstant ofH CO\\n2\\n3]\\n4\\n10\\n0 1\\n0 1 1\\n0 1\\n7\\n2\\n2\\n×\\n=\\n−\\n=\\n−\\n( .\\n)\\n. (\\n)\\n.\\nα\\nα\\nα\\nQK\\nC\\na <\\n−\\n≅\\n\\uf8ee\\n\\uf8f0\\n\\uf8ef\\n\\uf8ef\\n\\uf8f9\\n\\uf8fb\\n\\uf8fa\\n\\uf8fa\\n−\\n10\\n1\\n1\\n3,\\nα\\n40\\n10\\n0 1\\n001\\n7\\n2\\n.\\n.\\n.\\n×\\n×\\n=\\n−\\nα ; α = ×\\n−\\n2\\n10\\n3\\n[H ]\\n+\\n−\\n=\\n=\\n×\\n×\\n0 1\\n0 1\\n2\\n10\\n3\\n.\\n.\\nα\\n=\\n×\\n−\\n2\\n10\\n4\\npH= −\\n+\\nlog[\\n]\\nH\\n= −\\n×\\n−\\nlog[\\n]\\n2\\n10\\n4\\n= −\\n+\\n−\\n[log\\nlog[\\n]]\\n2\\n10\\n4\\n= −\\n−\\n[ .\\n]\\n03\\n4\\n=\\n=\\n×\\n−\\n3 7\\n37\\n10\\n1\\n.\\nIonic Equilibrium\\n103\\n+\\n–\\nCH COONa+HCl\\n3\\nCH COOH+NaCl\\n3\\n200\\n0.1\\n×\\n20–10=10\\n100\\n0.1\\n×\\n0\\n0\\n10\\n0\\n10\\nt=0\\nt=a\\nmillimol\\n(Limiting)\\n+\\n–\\nCH COOH+NaOH\\n3\\nCH COONa+H O\\n3\\n2\\n100\\n0.1\\n×\\n0\\n200\\n0.1\\n×\\n20–10=10\\n0\\n10\\n0\\n10\\nt=0\\nt=a\\nmillimol\\n(Limiting)\\nCH COOH+NaOH\\n3\\nCH COONa+H O\\n3\\n2\\n100\\n0.1\\n×\\n0\\n100\\n0.1\\n×\\n0\\n0\\n10\\n0\\n10\\nt=0\\nt=a\\nmillimol\\n(a)\\n+\\n–\\n(a) pH 7\\nvol. of NaOH\\nB\\n7\\nA\\npH\\nVolume of NaOH\\n(b)\\npH 7\\nvol. of NaOH\\n(c) pH 7\\nvol. of NaOH\\n(d)\\npH 7\\nvol. of NaOH\\n\\n\\n47 3 g of acetic acid is added to 250\\nmL of 0.1 M HCl and the solution\\nmade up to 500 mL. To 20 mL of\\nthis solution 1\\n2\\nmL of 5 M NaOH is\\nadded. The pH of the solution is\\n…………\\n[Given : pK a of acetic acid =4 75\\n.\\n,\\nmolar mass of acetic acid =60\\ng/mol,log\\n.\\n3\\n04771\\n=\\n]\\nNeglect any changes in volume.\\n[2020, 7 Jan Shift-II]\\nAns. (5.23)\\n3g CH COOH\\n3\\n(M = 60) =\\n=\\n3\\n60\\n1\\n20\\nmol\\n250 mL of 0.1 M HCl =\\n×\\n=\\n×\\nM\\nV\\n250\\n1000\\n0 1\\n.\\n=\\n×\\n−\\n25\\n10 3 mol\\nAfter mixing these two, solution is\\ndiluted to 500 mL.\\nThen from that solution, 20 mL is taken.\\nNumber of moles of both CH COOH\\n3\\nand\\nHCl will be now only 20\\n500\\n1\\n25\\n=\\nof original\\nsolution.\\nnCH COOH\\n3\\n=\\n×\\n1\\n20\\n1\\n25\\n=\\n=\\n×\\n−\\n1\\n500\\n2\\n10 3 mol\\nn\\nHCl =\\n×\\n×\\n−\\n25\\n10\\n1\\n25\\n3\\n=\\n−\\n10 3 mol\\nnNaOH added =\\n×\\nM\\nV =\\n×\\n×\\n−\\n1\\n2\\n5\\n10 3\\n=\\n×\\n−\\n2 5\\n10 3\\n.\\nAfter mixing, all HCl and NaOH will be\\nneutralised. Remaining number of\\nmoles.\\nnNaCl =\\n−\\n10 3\\nnCH COONa\\n3\\n=\\n×\\n−\\n1 5\\n10 3\\n.\\nnCH COOH\\n3\\n(unreacted) =\\n×\\n−\\n0 5\\n10 3\\n.\\n∴Now the solution is a buffer solution.\\npH\\n[salt]\\n[acid]\\n=\\n=\\npK a\\nlog\\n=\\n+\\npK\\nn\\nn\\na\\nlog\\n(\\n)\\n(\\n)\\nCH COONa\\nCH COOH\\n3\\n3\\n=\\n+\\n475\\n3\\n.\\nlog =\\n+\\n475\\n04771\\n.\\n.\\n= 52271\\n.\\n≈5.23\\n48 Arrange the following solutions in\\nthe decreasing order of pOH.\\n(A) 0.01 M HCl\\n(B) 0.01 M NaOH\\n(C) 0.01 MCH COONa\\n3\\n(D) 0.01 M NaCl\\n[2020, 6 Sep Shift-I]\\n(a) (A) > (C) > (D) > (B)\\n(b) (A) > (D) > (C) > (B)\\n(c) (B) > (C) > (D) > (A)\\n(d) (B) > (D) > (C) > (A)\\nAns. (b)\\n(A) pOH of 0.01 M HCl :\\nHCl\\nH\\n+ OH\\n(0.01M)\\n(0.01M)\\n(0.01M)\\n\\uf8e7→\\n+\\n−\\n[H ]\\n+ = ( .\\n)\\n001M ; pH = −\\n+\\nlog [H ]\\n⇒−\\n−\\nlog(\\n)\\n10 2 ⇒2\\n∴pOH =\\n−\\n14\\npH⇒14\\n2\\n−= 12\\n(B) pOH of 0.01 M NaOH :\\nNaOH\\nNa\\n+ OH\\n(0.01M)\\n(0.01M)\\n(0.01M)\\n+\\n\\uf8e7→\\n−\\n[OH ]\\n10 2\\n−\\n−\\n=\\n∴\\npOH = −\\n−\\nlog [OH ]\\n⇒\\n−\\n−\\nlog(\\n)\\n10 2 = 2\\n(C) pOH of 0.01 M CH COONa\\n3\\n– +\\n:\\n(salt of weak acid + strong base)\\npH =\\n+\\n+\\n−\\n7\\n1\\n2\\n10 2\\n[\\nlog(\\n)]\\npK a\\n∴pH> 7, thus pOH< 7\\n(D) pOH of 0.01 M NaCl :\\n(It is a salt of strong acid + strong base)\\n∴\\npH = pOH ⇒7\\nThus, order of pOH value :\\n(A) > (D) > (C) > (B)\\nHence, the correct option is (b).\\n49 Two solutions, A andB, each of 100\\nL was made by dissolving 4 g of\\nNaOH and 9.8 g ofH SO\\n2\\n4 in water,\\nrespectively. The pH of the\\nresultant solution obtained from\\nmixing 40 L of solution A and 10 L\\nof solutionBis ……… .\\n[2020, 7 Jan Shift-I]\\nAns. (10.60)\\n(A) 4 g NaOH in 100 L\\n⇒\\nM = 4 40\\n100\\n/\\n=\\n−\\n10 3 mol L−1.\\n(B) 9.8 gH SO\\n2\\n4 in 100 L\\n⇒M = 9 8 98\\n100\\n. /\\n=\\n−\\n10 3 mol L−1\\n40 L of solution A contains\\n=\\n×\\n−\\n40\\n10 3 mol NaOH\\n(\\n)\\nQn\\nM\\nV\\n=\\n×\\n=\\n×\\n−\\n40\\n10 3 mol OH−\\n10 L of solution B contains\\n=\\n×\\n−\\n10\\n10 3 molH SO\\n2\\n4\\n=\\n×\\n−\\n20\\n10 3 molH+\\nWhentheyaremixed,totalvolume= 50L\\nand allH+ is neutralised byOH−.\\nNumber of moles (\\n)\\nnOH−of excessOH−.\\n=\\n−\\n×\\n−\\n(\\n)\\n40\\n20\\n10 3 =\\n×\\n−\\n20\\n10 3\\n[OH ]\\n(in litre)\\nOH\\nsolution\\n−=\\n−\\nn\\nV\\nOr\\n[OH ]\\nTotal volume\\nOH\\n−=\\n−\\nn\\n=\\n×\\n−\\n20\\n10\\n50\\n3\\n=\\n×\\n−\\n4\\n10 4 M\\nAs we know,\\npOH\\n–log[OH ]\\n–\\n=\\n∴\\npOH = −log4\\n10 4\\n×\\n−=\\n−\\n4\\n4\\nlog\\nor\\npH =\\n−\\n14\\npOH\\n=\\n−\\n−\\n14\\n4\\n4\\n(\\nlog )\\n=\\n+\\n10\\n4\\nlog = 10602\\n.\\n50 The strength of an aqueous NaOH\\nsolution is most accurately\\ndetermined by titrating : (Note :\\nconsider that an appropriate\\nindicator is used) [2020, 8 Jan Shift-I]\\n(a) Aq. NaOH in a volumetric flask and\\nconcentratedH SO\\n2\\n4 in a conical flask\\n(b) Aq. NaOH in a pipette and aqueous\\noxalic acid in a burette\\n(c) Aq. NaOH in a burette and aqueous\\noxalic acid in a conical flask\\n(d) Aq. NaOH in a burette and\\nconcentratedH SO\\n2\\n4 in a conical flask\\nAns. (c)\\nThe strength of aqueous NaOH solution\\nis most accurately determined by\\ntitrating  aqueous NaOH in burette and\\naqueous oxalic acid in conical flask with\\nphenolphthalein as an indicator. (For\\nweak acid-strong base titration, methyl\\norange cannot be used).\\nThus, solution turns colourless to pink at\\nthe end point.  (Phenolphthalein has pink\\ncolour when pH > 10 and it is colourless\\nwhen pH < 8 (approximately) which is\\neasily to perceive.\\nIf NaOH is taken in conical flask and\\noxalic acid is added from burette, the\\nend point will be the decolourisation of\\npink colour which is more difficult to\\npercieve by human eye very quickly.\\n51 For the following Assertion and\\nReason, the correct option is\\nAssertion (A) The pH of water\\nincreases with increase in\\ntemperature.\\nReason (R) The dissociation of\\nwater intoH+ andOH−is an\\nexothermic reaction.\\n[2020, 8 Jan Shift-II]\\n(a) Assertion is not true, but Reason is\\ntrue.\\n(b) Both assertion and Reason are true\\nand the Reason is the correct\\nexplanation for the Assertion.\\n(c) Both Assertion and Reason are false.\\n(d) Both Assertion and Reason are true,\\nbut the Reason is not the correct\\nexplanation for the Assertion.\\n104\\nJEE Main Chapterwise Topicwise Chemistry\\n\\n\\nAns. (c)\\nThe dissociation of water intoH+ and\\nOH−is an endothermic reaction.\\n∴As temperature increases, its\\nequilibrium constant also increases.\\n∴[H ]\\n+ and [OH ]\\n−in water at equilibrium\\nincreases with increase in temperature.\\n∴pH\\n[H ]\\n= −\\n+\\nlog\\ndecreases, as\\ntemperature increases.\\nSo, both Assertion and Reason are false.\\n52 The molar solubility of Cd (OH) 2 is\\n184 10 5\\n.\\n×\\n−m in water. The expected\\nsolubility ofCd(OH) 2 in a buffer\\nsolution ofpH=12is\\n[2019, 12 April Shift-I]\\n(a) 184\\n10 9\\n.\\n×\\n−M\\n(b) 249\\n184\\n10 9\\n.\\n.\\n×\\n−M\\n(c) 6 23\\n10 11\\n.\\n×\\n−M\\n(d)249\\n10 10\\n.\\n×\\n−\\nM\\nAns. (d)\\nKey Idea The concentration of\\nsubstance in a saturated solution is\\ndefined as its solubility (S). Its value\\ndepends upon the nature of solvent and\\ntemperature.\\nA B\\nxA\\nB\\nx\\ny\\ny\\nx\\n-\\n+\\n−\\n+ y\\nK\\nA\\nB\\ny\\nx\\nx\\ny\\nsp =\\n+\\n−\\n[\\n] [\\n]\\nSolubility of\\nCd(OH) (S)\\n1.84\\n10\\nM\\n2\\n5\\n=\\n×\\n−\\nGiven, pH= 12 [for Cd(OH)2 in buffer\\nsolution]\\nSo, pOH\\n2\\n=\\n(\\nQ pH\\npOH\\np\\n+\\n= Kw)\\n12\\n14\\n+\\n=\\npOH\\npOH=\\n−\\n=\\n14\\n12\\n2\\n∴\\n[OH ]\\n−\\n−\\n= 10 2 in buffer solution.\\nFor reaction Cd(OH)\\nCd\\nOH\\n2\\n2\\n2\\n\\uf8e7→\\n+\\n+\\n−\\nS\\nS\\n2\\nK sp\\n2\\n2\\n[Cd\\n] [OH ]\\n=\\n+\\n−\\nK\\nS\\nS\\nsp = ( ) (\\n)\\n2\\n2 = 4\\n3\\nS\\n=\\n×\\n−\\n4 1 84\\n10\\n5 3\\n( .\\n)\\nK sp\\n24.9\\n=\\n×\\n−\\n10\\n15\\n[Cd\\n]\\n[OH ]\\n2\\nsp\\n2\\n+\\n−\\n=\\nK\\n[Cd\\n]\\n24.9\\n10\\n(10\\n)\\n2\\n15\\n2 2\\n+\\n−\\n−\\n=\\n×\\n=\\n×\\n×\\n−\\n+\\n249\\n10\\n10\\n15\\n4\\n.\\n=\\n×\\n−\\n249\\n10\\n11\\n.\\nM\\n[Cd\\n]\\n2 + ⇒249\\n10\\n10\\n.\\n×\\n−\\nM\\nThe expected solubility of Cd(OH)2 in a\\nbuffer solution of pH= 12is\\n2.49\\n10\\nM\\n10\\n×\\n−\\n.\\n53 Consider the following statements.\\nI. The pH of a mixture containing\\n400 mL of 0.1 MH SO\\n2\\n4 and\\n400 mL of 0.1 M NaOH will be\\napproximately 1.3.\\nII. Ionic product of water is\\ntemperature dependent.\\nIII. A monobasic acid with\\nK a =\\n−\\n10 5 has a pH = 5. The\\ndegree of dissociation of this\\nacid is 50%.\\nIV. The Le-Chatelier’s principle is\\nnot applicable to common-ion\\neffect. The  correct\\nstatements are\\n[2019, 10 April Shift-I]\\n(a) I, II and IV\\n(b) II and III\\n(c) I and II\\n(d) I, II and III\\nAns. (d)\\nThe explanation of given statements are\\nas follows:\\nIn statement (I), millimoles ofH+\\n=\\n×\\n× =\\n400 0 1 2\\n80\\n.\\nMillimoles ofOH−=\\n×\\n=\\n400 0 1\\n40\\n.\\n(Limiting reagent)\\n∴Millimoles ofH+ left =\\n−\\n=\\n80 40\\n40\\n[\\n]\\nH+ =\\n+\\n=\\n=\\n40\\n400\\n400\\n40\\n800\\n1\\n20\\nM\\nM\\n⇒\\npH = −\\n= −\\n\\uf8eb\\n\\uf8ed\\n\\uf8ec\\n\\uf8f6\\n\\uf8f8\\n\\uf8f7\\n+\\nlog\\nlog\\n[H ]\\n1\\n20\\n= −\\n+\\n+\\nlog\\nlog\\nlog\\n1\\n2\\n10\\n= −+\\n+\\n0\\n0301\\n1\\n.\\n⇒1.30\\nHence, the option (a) is correct.\\nIn statement (II), ionic product ofH O\\n2 is\\ntemperature dependent.\\nKw =\\n≈\\n+\\n−\\n−\\n[H ] [OH ]\\n10\\n(mol/L)\\n14\\n2 at 25ºC\\nWith increase in temperature,\\ndissociation ofH O\\n2 units intoH+ and\\nOH−ions will also increase. As a result,\\nthe value of ionic product, [H ]\\n[OH ]\\n+\\n−\\n×\\nwill be increased. e.g.\\nTemperature\\nKw\\nL2\\n5ºC\\n0186\\n10 14\\n.\\n×\\n−\\n25ºC\\n1008 10 14\\n.\\n×\\n−\\n45ºC\\n4074\\n10 14\\n.\\n×\\n−\\nHence, the option (b) is correct.\\nIn statement (III), for a weak monobasic\\nacid HA\\nH\\nH\\nA\\nA\\nw\\n⊕+\\ns\\n(\\n)\\n1−α\\nα\\nα\\nC\\nC\\nC\\nM\\nM\\nM\\n⇒pH of the solution is 5, i.e.\\n[H ]\\n+\\n−\\n= 10 5 M = αC\\n⇒\\nK\\nC\\nC\\nC\\na =\\n×\\n−\\n=\\n×\\n−\\n−\\nα\\nα\\nα\\nα\\nα\\n(\\n)\\n1\\n10\\n1\\n5\\n⇒\\n10\\n10\\n1\\n5\\n5\\n−\\n−\\n=\\n×\\n−\\nα\\nα\\n⇒\\nα = 0 5\\n.\\n⇒α% = 50\\nHence, the option (c) is correct.\\nIn statement (IV), Le-Chatelier’s principle\\nis applicable to common ion effect.\\nBecause, in presence of common ion\\n(given) by strong electrolyte (say,Na+ A\\n−),\\nthe product of the concentration terms\\nin RHS increases. For the weaker\\nelectrolyte, HA (say) the equilibrium\\nshifts to the LHS,H\\nH\\nA\\nA\\n-\\n⊕+\\ns.\\nAs a result dissociation of HA gets\\nsuppressed. Hence, the option (d) is\\nincorrect.\\n54 20 mL of 0.1 MH SO\\n2\\n4 solution is\\nadded to 30 mL of 0.2 MNH OH\\n4\\nsolution. The pH of the resultant\\nmixture is [pKb ofNH OH = 4.7\\n4\\n]\\n(a) 9.3\\n(b) 5.0\\n(c) 9.0\\n(d) 5.2\\n[2019, 9 Jan Shift-I]\\nAns. (a)\\nThe reaction takes place whenH SO\\n2\\n4 is\\nadded toNH OH\\n4\\nis as follows :\\nH SO\\n2\\n4 + 2NH OH\\n4\\n\\uf8e7\\n→(NH ) SO\\n4 2\\n4+ 2H O\\n2\\nStrong\\nWeak\\nacid\\nbase\\nSalt of strong acid\\n+ weak base\\nMillimoles\\nat t = 0\\n20\\n0 1\\n2\\n.\\n×\\n=\\n30\\n02\\n6\\n.\\n×\\n=\\n0\\nMillimoles\\nat t\\nt\\n=\\n0\\n2\\n2\\nSo, the resulting solution is a basic\\nbuffer [NH OH\\n(NH ) SO ] .\\n4\\n4 2\\n4\\n+\\nAccording to the Henderson’s equation,\\npOH\\np\\n[(NH ) SO ]\\n[NH OH]\\n4 2\\n4\\n4\\n=\\n+\\nK b\\nlog\\n=\\n+\\n47\\n2\\n2\\n.\\nlog\\n= 4.7\\n⇒\\npH\\n14\\npOH\\n=\\n−\\n=\\n−\\n=\\n14\\n4.7\\n9.3\\n55 An alkali is titrated against an acid\\nwith methyl orange as indicator,\\nwhich of the following is a correct\\ncombination?\\n[JEE Main 2018]\\nBase\\nAcid\\nEnd point\\n(a)\\nWeak\\nStrong\\nColourless to\\npink\\n(b)\\nStrong\\nStrong\\nPinkish red to\\nyellow\\n(c)\\nWeak\\nStrong\\nYellow to\\npinkish red\\n(d)\\nStrong\\nStrong\\nPink to\\ncolourless\\nIonic Equilibrium\\n105\\n\\n\\nAns. (c)\\nMethyl orange show Pinkish colour\\ntowards more acidic medium and yellow\\norange colour towards basic or less\\nacidic media. Its working pH range is\\nWeak base have the pH range greater\\nthan 7. When methyl orange is added to\\nthis weak base solution it shows yellow\\norange colour.\\nNow when this solution is titrated\\nagainst strong acid the pH move towards\\nmore acidic range and reaches to end\\npoint near 3.9 where yellow orange\\ncolour of methyl orange changes to\\nPinkish red resulting to similar change in\\ncolour of solution as well.\\n56 pK a of a weak acid (HA) andpKb of\\na weak base (BOH) are 3.2 and 3.4,\\nrespectively. The pH of their salt\\n(AB) solution is\\n[JEE Main 2017]\\n(a) 7.2\\n(b) 6.9\\n(c) 7.0\\n(d) 1.0\\nAns. (b)\\nFor a salt of weak acid and weak base,\\npH\\n7\\n1\\n2\\np\\n=\\n+\\n−\\nK\\nK\\na\\nb\\n1\\n2\\np\\nGiven, p\\nH\\nK\\nA\\na (\\n) =3.2,\\npK\\nB\\na ( OH)\\n3.4\\n=\\n∴\\npH\\n7 + 1\\n2\\n(3.2)\\n1\\n2\\n(3.4)\\n=\\n−\\n=\\n+\\n−\\n=\\n7\\n1.6\\n1.7\\n6.9\\n57 How many litres of water must be\\nadded to 1 L of an aqueous solution\\nof HCl with a pH of 1 to create an\\naqueous solution with pH of 2?\\n[JEE Main 2014]\\n(a) 0.1 L\\n(b) 0.9 L\\n(c) 2.0 L\\n(d) 9.0 L\\nAns. (d)\\npH= 1 ⇒[\\n]\\nH+\\n−\\n=\\n=\\n10 1\\n0.1 M\\npH= 2 ⇒[H ]\\n0.01 M\\n+ =\\n=\\n−\\n10 2\\nFor dilution of HCl,\\nMV\\nM V\\n1 1\\n2 2\\n=\\n0.1\\n0.01\\n× =\\n×\\n1\\n2\\nV\\n⇒\\nV\\n2\\n10\\n=\\nL\\nVolumeofwatertobeadded=\\n−\\n10\\n1= 9L\\n58 An acid HA ionises as\\nHA\\nA\\njH+\\n−\\n+\\nThe pH of 1.0 M solution is 5. Its\\ndissociation constant would be\\n[AIEEE 2011]\\n(a)1 10 10\\n×\\n−\\n(b) 5\\n(c)5 10 8\\n×\\n−\\n(d)1\\n10 5\\n×\\n−\\nAns. (a)\\npH of a solution = 5\\n∴\\n[\\n]\\nH+\\n−\\n−\\n=\\n=\\n10\\n10 5\\npH\\nHA (a weak acid) ionises as\\nH\\nH\\nA\\nA\\nr\\n+\\n−\\n+\\n1.0\\n0\\n0\\n(\\n)\\n1\\n10 5\\n−\\n−\\n10 5\\n−\\n10 5\\n−\\nK\\nA\\nA\\na = [H ] [\\n]\\n[H ]\\n+\\n–\\n=\\n×\\n−\\n−\\n−\\n−\\n10\\n10\\n1\\n10\\n5\\n5\\n5\\n(\\n)\\n=\\n−\\n10\\n1\\n10\\n[\\nQ1\\n10 5\\n>>>\\n−]\\n= ×\\n−\\n1\\n10 10 M\\n59 At 25°C, the solubility product of\\nMg(OH) 2 is10\\n10 11\\n.\\n.\\n×\\n−\\nAt which pH,\\nwillMg2+ ions start precipitating in\\nthe form ofMg(OH) 2 from a\\nsolution of 0.001 MMg2+ ions?\\n[AIEEE 2010]\\n(a) 9\\n(b) 10\\n(c) 11\\n(d) 8\\nAns. (b)\\nMg(OH)\\nMg\\n2OH\\n2\\n2\\nr\\n+\\n−\\n+\\nK sp\\n2+\\n– 2\\n[Mg\\n] [OH ]\\n=\\n[OH ]\\n[Mg\\n]\\n0.001\\n2\\n−\\n+\\n−\\n=\\n=\\n×\\nKsp\\n1\\n10 11\\npOH = −\\n−\\nlog [\\n]\\nOH 1 = −\\n−\\nlog [\\n]\\n10 4\\npOH= 4 and pH= 10\\n∴\\npH = 14 −pOH =\\n−\\n=\\n14\\n4\\n10\\n60 ThepK a of a weak acid, HA is 4.80.\\nThepKb of a weak base, B OH, is\\n4.78. The pH of an aqueous\\nsolution of the corresponding salt,\\nBA, will be\\n[AIEEE 2008]\\n(a) 9.58\\n(b) 4.79\\n(c) 7.01\\n(d) 9.22\\nAns. (c)\\nFor salt of weak acid and weak base\\npH= −\\n+\\n−\\n1\\n2\\n[log\\nlog\\nlog\\n]\\nK\\nK\\nK\\na\\nw\\nb\\n=\\n+\\n−\\n1\\n2\\n1\\n2\\n1\\n2\\np\\np\\np\\nK\\nK\\nK\\na\\nw\\nb\\n=\\n×\\n+\\n−\\n×\\n1\\n2\\n4 80\\n7\\n1\\n2\\n4 78\\n.\\n.\\n= 701\\n.\\n61 ThepK a of a weak acid (HA) is 4.5.\\nThe pOH of an aqueous buffered\\nsolution of HA in which 50% of the\\nacid ionised is\\n[AIEEE 2007]\\n(a) 4.5\\n(b) 2.5\\n(c) 9.5\\n(d) 7.0\\nAns. (c)\\nWhen HA is 50% ionised, [\\n]\\n[\\n]\\nHA\\nA\\n=\\n−\\nBuffer solution of weak acidHA→acidic\\nbuffer\\npH=p\\nH\\nK\\nA\\nA\\na +\\n−\\nlog [\\n]\\n[\\n]\\nor\\npH\\np\\n4.5\\n= K a =\\npOH\\npH\\n=pKw −\\npOH\\n14\\n4.5\\n=\\n−\\n=9.5\\n62 Hydrogen ion concentration in\\nmol/L in a solution ofpH= 5 4\\n. will\\nbe\\n[AIEEE 2005]\\n(a) 398\\n10 6\\n.\\n×\\n−\\n(b) 3 68\\n10 6\\n.\\n×\\n−\\n(c) 388\\n106\\n.\\n×\\n(d) 398\\n108\\n.\\n×\\nAns. (a)\\npH\\n5.4\\n=\\n⇒[H ]\\n10\\n10\\n10\\n+\\n5.4\\n6\\n0.6\\n=\\n=\\n⋅\\n−\\n−\\nAntilog of0.6 is\\n3.98\\n≈\\n∴\\n[H ]\\n3.98\\n10\\nM\\n+\\n6\\n≈\\n×\\n−\\n63 Which one of the following\\nstatements is not true?\\n[AIEEE 2003]\\n(a) Theconjugatebaseof H PO\\n2\\n4\\n−isHPO4\\n2−\\n(b) pH + pOH = 14for all aqueous\\nsolutions\\n(c) The pH of 1\\n10\\n8\\n×\\n−\\nM HCl is 8\\n(d) 96,500 C of electricity when passed\\nthrough a CuSO4 solution deposits 1g\\nequivalent of copper at the cathode\\nAns. (c)\\nIn 1\\n10 8\\n×\\n−M HCl solution,H O\\n2 is also\\npresent which also undergoes self\\nionisation.\\nH O\\nH + OH\\n2\\n+\\nr\\n−\\n10 7\\n−M at 25°C[Concentration of water\\n(H O\\n2 )]\\nIf it is taken simply even without\\ncommon ion effect, higher\\nconcentration must be considered which\\nis 10 7\\n−M butH+ from HCl decreases self\\nionisation of water and hence [H ]\\n+ from\\nH O\\n2 .\\nHence, net concentration must be\\nsmaller than 10 7\\n−M.\\n64 An aqueous solution of 1M NaCl and\\n1M HCl is\\n[AIEEE 2002]\\n(a) not a buffer but pH < 7\\n(b) not a buffer but pH > 7\\n(c) a buffer with pH < 7\\n(d) a buffer with pH > 7\\nAns. (a)\\nNaCl is salt of strong acid and strong\\nbase. Its not the case of buffer.\\n106\\nJEE Main Chapterwise Topicwise Chemistry\\n\\n\\nNaCl + H O\\nNaOH + HCl\\n2 r\\nAqueous NaCl, itself exact neutral\\nsolution.\\nHCl + H O\\nH O + Cl\\n2\\n3\\n+\\nr\\n−\\nmakes solution acidic.\\n65 On mixing ethyl acetate with\\naqueous sodium chloride, the\\ncomposition of the resultant\\nsolution is\\n[AIEEE 2004]\\n(a) CH COOC H + NaCl\\n3\\n2\\n5\\n(b) CH COONa + C H OH\\n3\\n2\\n5\\n(c) CH COCl + C H OH + NaOH\\n3\\n2\\n5\\n(d) CH Cl + C H COONa\\n3\\n2\\n5\\nAns. (a)\\nAqueous NaCl is neutral, hence there is\\nno reaction between ethyl acetate and\\naqueous NaCl.\\nTOPIC 5\\nHydrolsis of Salts\\n66 Given below are two statements :\\nOne is labelled as Assertion (A) and\\nthe other labelled as Reason (R).\\nAssertion (A) During the boiling of\\nwater having temporary hardness,\\nMg(HCO )\\n3 2 is converted toMgCO3.\\nReason (R) The solubility product\\nofMg(OH) 2 is greater than that of\\nMgCO3.\\nIn the light of the above\\nstatements, choose the most\\nappropriate answer from the\\noptions given below\\n(a) Both (A) and (R) are true but (R) is not\\nthe correct explanation of (A).\\n(b) (A) is true but (R) is false.\\n(c) Both A and R are true and R is the\\ncorrect explanation of (A).\\n(d) (A) is false but (R) is true.\\n[2021, 18 March Shift-I]\\nAns. (d)\\nDuring boiling, solubleMg(HCO )\\n3 2 is\\nconverted into insolubleMg(OH)2 and\\nCa(HCO )\\n3 2 is converted into insoluble\\nCaCO3. This is because of high solubility\\nproduct ofMg(OH)2 as compared to\\nMgCO3 hence,Mg(OH)2 is precipitated.\\nThese precipitates can be removed by\\nfiltration. Thus, filtrate will be obtained\\nin soft water.\\nMg(HCO )\\nMg(OH)\\n+ 2CO\\n3 2\\n2\\n2\\n\\uf8e7→\\n↓\\nTemporary hardness\\nCa(HCO )\\nCaCO\\n+ CO + 2H O\\n3 2\\n3\\n2\\n2\\n\\uf8e7→\\n↓\\nK sp ofMg(OH) >\\n2\\nsp\\nK\\nofMgCO3\\nand hence,Mg(OH)2 precipitation first.\\n67 The pH of a 0.02 MNH Cl\\n4\\nsolution\\nwill be [GivenKb (NH OH)\\n4\\n=\\n−\\n10 5 and\\nlog\\n.\\n2\\n0301\\n=\\n]\\n[2019, 10 April Shift-II]\\n(a) 4.65\\n(b) 2.65\\n(c) 5.35\\n(d) 4.35\\nAns. (c)\\nKey Idea NH Cl\\n4\\nis a salt of weak base\\n(NH OH)\\n4\\nand strong acid (HCl). On\\nhydrolysis,NH Cl\\n4\\nwill produce an acidic\\nsolution (pH< 7) and the expression of pH\\nof the solution is\\npH =\\n−\\n+\\n7\\n1\\n2\\n(\\nlog )\\npK\\nC\\nb\\nGiven,K b (NH OH)\\n4\\n=\\n−\\n10 5\\n∴\\npK\\nK\\nb\\nb\\n= −log\\n= −\\n=\\n−\\nlog(\\n)\\n10\\n5\\n5\\nC = concentration of salt solution = 002\\n.\\nM\\n=\\n×\\n−\\n2\\n10 2 M\\nNow,\\npH =\\n−\\n+\\n7\\n1\\n2\\n(\\nlog )\\npK\\nC\\nb\\nOn substituting the given values in above\\nequation, we get\\n=\\n−\\n+\\n×\\n−\\n7\\n1\\n2\\n5\\n2\\n10 2\\n[\\nlog(\\n)]\\n=\\n−\\n+\\n−\\n7\\n1\\n2\\n5\\n2\\n2\\n[\\nlog\\n]\\n=\\n−\\n+\\n−\\n7\\n1\\n2\\n5\\n0301\\n2\\n[\\n.\\n]\\n=\\n−\\n7\\n165\\n.\\n= 535\\n.\\n68 Which of the following salts is the\\nmost basic in aqueous solution?\\n[JEE Main 2018]\\n(a) Al(CN)3\\n(b)CH COOK\\n3\\n(c)FeCl3\\n(d)Pb(CH COO)\\n3\\n2\\nAns. (b)\\nAmong the given salts\\nFeCl3 is acidic in nature i.e., have acidic\\nsolution as it is the salt of weak base and\\nstrong acid.\\nAl(CN) 3 andPb(CH COO)\\n3\\n2 are the salts of\\nweak acid and weak base.\\nCH COOK\\n3\\nis the salt of strong base and\\nweak acid.\\nHence, the solution of CH COOK\\n3\\nwill be\\nmost basic because of the following\\nreaction.\\nCH COOK + H O\\nCH COOH\\n3\\n2\\n3\\n(Weak acid)\\n-\\n+\\nKOH\\n(Strong base)\\n69 pH of 0.005 M calcium acetate\\n(pK a ofCH COOH = 4.74)\\n3\\nis\\n[AIEEE 2002]\\n(a) 7.04\\n(b) 9.37\\n(c) 9.26\\n(d) 8.37\\nAns. (a)\\nCalcium acetate is a salt of weak acid\\nand weak base.\\n0.005 M calcium acetate, (CH COO) Ca\\n3\\n2\\n(CH COO) Ca\\nCa\\n+\\n2CH COO\\n3\\n2\\n2+\\n3\\n0.005 M\\n(2\\n0.005 =\\n→\\n−\\n×\\n0.01)\\n∴[CH COO ]\\n0.01 M\\n3\\n−=\\nCH COO\\nH O\\nCH COOH\\n3\\n2\\n3\\n−+\\nr\\n+ OH –\\nAlkaline\\npH=\\n+\\n+\\n7\\n2\\n2\\npK\\nC\\na\\nlog\\n=\\n+\\n+\\n7\\n2.37\\nlog 0.01\\n2\\n=\\n+\\n−\\n7\\n2.37\\n2.30\\n= 704\\n.\\nIonic Equilibrium\\n107\\n\\n\\n'"
            ],
            "application/vnd.google.colaboratory.intrinsic+json": {
              "type": "string"
            }
          },
          "metadata": {},
          "execution_count": 3
        }
      ]
    },
    {
      "cell_type": "code",
      "source": [
        "def parse_extracted_text(text):\n",
        "    data = []\n",
        "    chapter_name = ''\n",
        "    topic_name = ''\n",
        "    q_id = 1\n",
        "\n",
        "    lines = text.split('\\n')\n",
        "    for i,line in enumerate(lines):\n",
        "        line = line.strip()\n",
        "\n",
        "        # Check for topic name (assuming it starts with \"TOPIC\")\n",
        "        if line.startswith('TOPIC'):\n",
        "            topic_name = lines[i+1]\n",
        "            continue\n",
        "\n",
        "        # Check for question and its year (assuming it starts with a number and a dot)\n",
        "        question_match = re.match(r'^(\\d+)\\.\\s+(.+)', line)\n",
        "        if question_match:\n",
        "            q_id_str = question_match.group(1)\n",
        "            q_text = question_match.group(2)\n",
        "            year_match = re.search(r'\\[(\\d{4}), (.+?) Shift-\\d\\]', line) #[2021, 25 July Shift-II] = this is our sample\n",
        "            year = year_match.group(1) if year_match else None\n",
        "            data.append([q_id, q_text, year, topic_name, chapter_name])\n",
        "            q_id += 1\n",
        "\n",
        "    df = pd.DataFrame(data, columns=['q_id', 'q_text', 'year', 'topic_name', 'chapter_name'])\n",
        "    return df\n"
      ],
      "metadata": {
        "id": "SSJzXbH8Pa6q"
      },
      "execution_count": 4,
      "outputs": []
    },
    {
      "cell_type": "markdown",
      "source": [
        "Experimentation:"
      ],
      "metadata": {
        "id": "r_wxc_fKVKIN"
      }
    },
    {
      "cell_type": "code",
      "source": [
        "lines = text.split('\\n')\n",
        "for i,line in enumerate(lines):\n",
        "    line = line.strip()\n",
        "    # print(line)\n",
        "\n",
        "    # Check for chapter name (assuming it starts with a number and is in a large font)\n",
        "    chapter_match = re.match(r'^\\d+\\s+(.+)', line)\n",
        "    # print(chapter_match)\n",
        "    # if chapter_match:\n",
        "    #     chapter_name = chapter_match.group(1)\n",
        "    #     continue\n",
        "\n",
        "    # Check for topic name (assuming it starts with \"TOPIC\")\n",
        "    if line.startswith('TOPIC'):\n",
        "        print(i)\n",
        "        topic_name = lines[i+1]\n",
        "        print(topic_name)\n",
        "        continue\n",
        "# comment\n",
        "\"\"\"\n",
        "we've to improve it more\n",
        "\"\"\"\n",
        "print(\"-\"*50)"
      ],
      "metadata": {
        "colab": {
          "base_uri": "https://localhost:8080/"
        },
        "id": "OdMNzNqKQAv0",
        "outputId": "4ae43f62-06c7-437d-9319-97ba8cb0c86f"
      },
      "execution_count": 5,
      "outputs": [
        {
          "output_type": "stream",
          "name": "stdout",
          "text": [
            "0\n",
            "Ostwald’s Dilution Law\n",
            "178\n",
            "Acid Base Concepts\n",
            "822\n",
            "Solubility Product and\n",
            "3798\n",
            "pH, Buffer and Indicator\n",
            "6296\n",
            "Hydrolsis of Salts\n",
            "--------------------------------------------------\n"
          ]
        }
      ]
    },
    {
      "cell_type": "code",
      "source": [],
      "metadata": {
        "id": "XVcoaIY1VSal"
      },
      "execution_count": 5,
      "outputs": []
    },
    {
      "cell_type": "markdown",
      "source": [
        "Code execution:"
      ],
      "metadata": {
        "id": "-0Q9XuQnVPKj"
      }
    },
    {
      "cell_type": "code",
      "source": [
        "df = parse_extracted_text(text)\n",
        "\n",
        "# df.to_csv('questions_dataset.csv', index=False)\n",
        "# a general func"
      ],
      "metadata": {
        "id": "EE9gELNVPuwU"
      },
      "execution_count": 6,
      "outputs": []
    },
    {
      "cell_type": "code",
      "source": [
        "df"
      ],
      "metadata": {
        "colab": {
          "base_uri": "https://localhost:8080/",
          "height": 89
        },
        "id": "PVNpVbetP1kN",
        "outputId": "35419874-673b-4b9a-d966-215354c341af"
      },
      "execution_count": 7,
      "outputs": [
        {
          "output_type": "execute_result",
          "data": {
            "text/plain": [
              "Empty DataFrame\n",
              "Columns: [q_id, q_text, year, topic_name, chapter_name]\n",
              "Index: []"
            ],
            "text/html": [
              "\n",
              "  <div id=\"df-3f552f6f-4603-432d-b4ba-cb565e957eca\" class=\"colab-df-container\">\n",
              "    <div>\n",
              "<style scoped>\n",
              "    .dataframe tbody tr th:only-of-type {\n",
              "        vertical-align: middle;\n",
              "    }\n",
              "\n",
              "    .dataframe tbody tr th {\n",
              "        vertical-align: top;\n",
              "    }\n",
              "\n",
              "    .dataframe thead th {\n",
              "        text-align: right;\n",
              "    }\n",
              "</style>\n",
              "<table border=\"1\" class=\"dataframe\">\n",
              "  <thead>\n",
              "    <tr style=\"text-align: right;\">\n",
              "      <th></th>\n",
              "      <th>q_id</th>\n",
              "      <th>q_text</th>\n",
              "      <th>year</th>\n",
              "      <th>topic_name</th>\n",
              "      <th>chapter_name</th>\n",
              "    </tr>\n",
              "  </thead>\n",
              "  <tbody>\n",
              "  </tbody>\n",
              "</table>\n",
              "</div>\n",
              "    <div class=\"colab-df-buttons\">\n",
              "\n",
              "  <div class=\"colab-df-container\">\n",
              "    <button class=\"colab-df-convert\" onclick=\"convertToInteractive('df-3f552f6f-4603-432d-b4ba-cb565e957eca')\"\n",
              "            title=\"Convert this dataframe to an interactive table.\"\n",
              "            style=\"display:none;\">\n",
              "\n",
              "  <svg xmlns=\"http://www.w3.org/2000/svg\" height=\"24px\" viewBox=\"0 -960 960 960\">\n",
              "    <path d=\"M120-120v-720h720v720H120Zm60-500h600v-160H180v160Zm220 220h160v-160H400v160Zm0 220h160v-160H400v160ZM180-400h160v-160H180v160Zm440 0h160v-160H620v160ZM180-180h160v-160H180v160Zm440 0h160v-160H620v160Z\"/>\n",
              "  </svg>\n",
              "    </button>\n",
              "\n",
              "  <style>\n",
              "    .colab-df-container {\n",
              "      display:flex;\n",
              "      gap: 12px;\n",
              "    }\n",
              "\n",
              "    .colab-df-convert {\n",
              "      background-color: #E8F0FE;\n",
              "      border: none;\n",
              "      border-radius: 50%;\n",
              "      cursor: pointer;\n",
              "      display: none;\n",
              "      fill: #1967D2;\n",
              "      height: 32px;\n",
              "      padding: 0 0 0 0;\n",
              "      width: 32px;\n",
              "    }\n",
              "\n",
              "    .colab-df-convert:hover {\n",
              "      background-color: #E2EBFA;\n",
              "      box-shadow: 0px 1px 2px rgba(60, 64, 67, 0.3), 0px 1px 3px 1px rgba(60, 64, 67, 0.15);\n",
              "      fill: #174EA6;\n",
              "    }\n",
              "\n",
              "    .colab-df-buttons div {\n",
              "      margin-bottom: 4px;\n",
              "    }\n",
              "\n",
              "    [theme=dark] .colab-df-convert {\n",
              "      background-color: #3B4455;\n",
              "      fill: #D2E3FC;\n",
              "    }\n",
              "\n",
              "    [theme=dark] .colab-df-convert:hover {\n",
              "      background-color: #434B5C;\n",
              "      box-shadow: 0px 1px 3px 1px rgba(0, 0, 0, 0.15);\n",
              "      filter: drop-shadow(0px 1px 2px rgba(0, 0, 0, 0.3));\n",
              "      fill: #FFFFFF;\n",
              "    }\n",
              "  </style>\n",
              "\n",
              "    <script>\n",
              "      const buttonEl =\n",
              "        document.querySelector('#df-3f552f6f-4603-432d-b4ba-cb565e957eca button.colab-df-convert');\n",
              "      buttonEl.style.display =\n",
              "        google.colab.kernel.accessAllowed ? 'block' : 'none';\n",
              "\n",
              "      async function convertToInteractive(key) {\n",
              "        const element = document.querySelector('#df-3f552f6f-4603-432d-b4ba-cb565e957eca');\n",
              "        const dataTable =\n",
              "          await google.colab.kernel.invokeFunction('convertToInteractive',\n",
              "                                                    [key], {});\n",
              "        if (!dataTable) return;\n",
              "\n",
              "        const docLinkHtml = 'Like what you see? Visit the ' +\n",
              "          '<a target=\"_blank\" href=https://colab.research.google.com/notebooks/data_table.ipynb>data table notebook</a>'\n",
              "          + ' to learn more about interactive tables.';\n",
              "        element.innerHTML = '';\n",
              "        dataTable['output_type'] = 'display_data';\n",
              "        await google.colab.output.renderOutput(dataTable, element);\n",
              "        const docLink = document.createElement('div');\n",
              "        docLink.innerHTML = docLinkHtml;\n",
              "        element.appendChild(docLink);\n",
              "      }\n",
              "    </script>\n",
              "  </div>\n",
              "\n",
              "\n",
              "  <div id=\"id_28a8728f-ab2d-4ce8-a02a-9faa9cf43e3b\">\n",
              "    <style>\n",
              "      .colab-df-generate {\n",
              "        background-color: #E8F0FE;\n",
              "        border: none;\n",
              "        border-radius: 50%;\n",
              "        cursor: pointer;\n",
              "        display: none;\n",
              "        fill: #1967D2;\n",
              "        height: 32px;\n",
              "        padding: 0 0 0 0;\n",
              "        width: 32px;\n",
              "      }\n",
              "\n",
              "      .colab-df-generate:hover {\n",
              "        background-color: #E2EBFA;\n",
              "        box-shadow: 0px 1px 2px rgba(60, 64, 67, 0.3), 0px 1px 3px 1px rgba(60, 64, 67, 0.15);\n",
              "        fill: #174EA6;\n",
              "      }\n",
              "\n",
              "      [theme=dark] .colab-df-generate {\n",
              "        background-color: #3B4455;\n",
              "        fill: #D2E3FC;\n",
              "      }\n",
              "\n",
              "      [theme=dark] .colab-df-generate:hover {\n",
              "        background-color: #434B5C;\n",
              "        box-shadow: 0px 1px 3px 1px rgba(0, 0, 0, 0.15);\n",
              "        filter: drop-shadow(0px 1px 2px rgba(0, 0, 0, 0.3));\n",
              "        fill: #FFFFFF;\n",
              "      }\n",
              "    </style>\n",
              "    <button class=\"colab-df-generate\" onclick=\"generateWithVariable('df')\"\n",
              "            title=\"Generate code using this dataframe.\"\n",
              "            style=\"display:none;\">\n",
              "\n",
              "  <svg xmlns=\"http://www.w3.org/2000/svg\" height=\"24px\"viewBox=\"0 0 24 24\"\n",
              "       width=\"24px\">\n",
              "    <path d=\"M7,19H8.4L18.45,9,17,7.55,7,17.6ZM5,21V16.75L18.45,3.32a2,2,0,0,1,2.83,0l1.4,1.43a1.91,1.91,0,0,1,.58,1.4,1.91,1.91,0,0,1-.58,1.4L9.25,21ZM18.45,9,17,7.55Zm-12,3A5.31,5.31,0,0,0,4.9,8.1,5.31,5.31,0,0,0,1,6.5,5.31,5.31,0,0,0,4.9,4.9,5.31,5.31,0,0,0,6.5,1,5.31,5.31,0,0,0,8.1,4.9,5.31,5.31,0,0,0,12,6.5,5.46,5.46,0,0,0,6.5,12Z\"/>\n",
              "  </svg>\n",
              "    </button>\n",
              "    <script>\n",
              "      (() => {\n",
              "      const buttonEl =\n",
              "        document.querySelector('#id_28a8728f-ab2d-4ce8-a02a-9faa9cf43e3b button.colab-df-generate');\n",
              "      buttonEl.style.display =\n",
              "        google.colab.kernel.accessAllowed ? 'block' : 'none';\n",
              "\n",
              "      buttonEl.onclick = () => {\n",
              "        google.colab.notebook.generateWithVariable('df');\n",
              "      }\n",
              "      })();\n",
              "    </script>\n",
              "  </div>\n",
              "\n",
              "    </div>\n",
              "  </div>\n"
            ],
            "application/vnd.google.colaboratory.intrinsic+json": {
              "type": "dataframe",
              "variable_name": "df",
              "repr_error": "Out of range float values are not JSON compliant: nan"
            }
          },
          "metadata": {},
          "execution_count": 7
        }
      ]
    }
  ]
}